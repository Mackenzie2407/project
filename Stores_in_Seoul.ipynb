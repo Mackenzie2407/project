{
  "cells": [
    {
      "cell_type": "code",
      "execution_count": null,
      "metadata": {
        "colab": {
          "base_uri": "https://localhost:8080/"
        },
        "id": "Icxvr5v7T_zt",
        "outputId": "7a064a1f-8a3a-49b1-9ad6-6858ef50205a"
      },
      "outputs": [
        {
          "output_type": "stream",
          "name": "stdout",
          "text": [
            "Looking in indexes: https://pypi.org/simple, https://us-python.pkg.dev/colab-wheels/public/simple/\n",
            "Requirement already satisfied: category_encoders in /usr/local/lib/python3.7/dist-packages (2.5.0)\n",
            "Requirement already satisfied: statsmodels>=0.9.0 in /usr/local/lib/python3.7/dist-packages (from category_encoders) (0.12.2)\n",
            "Requirement already satisfied: scikit-learn>=0.20.0 in /usr/local/lib/python3.7/dist-packages (from category_encoders) (1.0.2)\n",
            "Requirement already satisfied: numpy>=1.14.0 in /usr/local/lib/python3.7/dist-packages (from category_encoders) (1.21.6)\n",
            "Requirement already satisfied: pandas>=1.0.5 in /usr/local/lib/python3.7/dist-packages (from category_encoders) (1.3.5)\n",
            "Requirement already satisfied: patsy>=0.5.1 in /usr/local/lib/python3.7/dist-packages (from category_encoders) (0.5.2)\n",
            "Requirement already satisfied: scipy>=1.0.0 in /usr/local/lib/python3.7/dist-packages (from category_encoders) (1.7.3)\n",
            "Requirement already satisfied: pytz>=2017.3 in /usr/local/lib/python3.7/dist-packages (from pandas>=1.0.5->category_encoders) (2022.2.1)\n",
            "Requirement already satisfied: python-dateutil>=2.7.3 in /usr/local/lib/python3.7/dist-packages (from pandas>=1.0.5->category_encoders) (2.8.2)\n",
            "Requirement already satisfied: six in /usr/local/lib/python3.7/dist-packages (from patsy>=0.5.1->category_encoders) (1.15.0)\n",
            "Requirement already satisfied: joblib>=0.11 in /usr/local/lib/python3.7/dist-packages (from scikit-learn>=0.20.0->category_encoders) (1.1.0)\n",
            "Requirement already satisfied: threadpoolctl>=2.0.0 in /usr/local/lib/python3.7/dist-packages (from scikit-learn>=0.20.0->category_encoders) (3.1.0)\n"
          ]
        }
      ],
      "source": [
        "pip install --upgrade category_encoders"
      ]
    },
    {
      "cell_type": "code",
      "execution_count": null,
      "metadata": {
        "id": "_S592_UZTBWS"
      },
      "outputs": [],
      "source": [
        "import pandas as pd\n",
        "import numpy as np\n",
        "import matplotlib.pyplot as plt\n",
        "import seaborn as sns\n",
        "\n",
        "from sklearn.model_selection import train_test_split\n",
        "from sklearn.metrics import accuracy_score\n",
        "from sklearn.preprocessing import LabelEncoder \n",
        "from sklearn.ensemble import RandomForestClassifier\n",
        "from sklearn.pipeline import make_pipeline\n",
        "from category_encoders import OrdinalEncoder\n",
        "from sklearn.model_selection import cross_val_score\n",
        "from sklearn.metrics import roc_auc_score\n",
        "from sklearn.impute import SimpleImputer"
      ]
    },
    {
      "cell_type": "code",
      "execution_count": null,
      "metadata": {
        "id": "maZcPRanUB-7"
      },
      "outputs": [],
      "source": [
        "df = pd.read_csv(\"/content/Seoul_Market.csv\", encoding='euc-kr', engine = 'python')\n",
        "#데이터 불러오기"
      ]
    },
    {
      "cell_type": "code",
      "execution_count": null,
      "metadata": {
        "colab": {
          "base_uri": "https://localhost:8080/"
        },
        "id": "mGJGn9PEUP-X",
        "outputId": "774813ac-557e-4542-fb4b-42643b0dfc3a"
      },
      "outputs": [
        {
          "output_type": "stream",
          "name": "stdout",
          "text": [
            "<class 'pandas.core.frame.DataFrame'>\n",
            "RangeIndex: 34542 entries, 0 to 34541\n",
            "Data columns (total 81 columns):\n",
            " #   Column           Non-Null Count  Dtype  \n",
            "---  ------           --------------  -----  \n",
            " 0   기준_년_코드          34542 non-null  int64  \n",
            " 1   기준_분기_코드         34542 non-null  int64  \n",
            " 2   상권_구분_코드         34542 non-null  object \n",
            " 3   상권_구분_코드_명       34542 non-null  object \n",
            " 4   상권_코드            34542 non-null  int64  \n",
            " 5   상권_코드_명          34542 non-null  object \n",
            " 6   서비스_업종_코드        34542 non-null  object \n",
            " 7   서비스_업종_코드_명      34542 non-null  object \n",
            " 8   분기당_매출_금액        34542 non-null  float64\n",
            " 9   분기당_매출_건수        34542 non-null  int64  \n",
            " 10  주중_매출_비율         34542 non-null  int64  \n",
            " 11  주말_매출_비율         34542 non-null  int64  \n",
            " 12  월요일_매출_비율        34542 non-null  int64  \n",
            " 13  화요일_매출_비율        34542 non-null  int64  \n",
            " 14  수요일_매출_비율        34542 non-null  int64  \n",
            " 15  목요일_매출_비율        34542 non-null  int64  \n",
            " 16  금요일_매출_비율        34542 non-null  int64  \n",
            " 17  토요일_매출_비율        34542 non-null  int64  \n",
            " 18  일요일_매출_비율        34542 non-null  int64  \n",
            " 19  시간대_00~06_매출_비율  34542 non-null  int64  \n",
            " 20  시간대_06~11_매출_비율  34542 non-null  int64  \n",
            " 21  시간대_11~14_매출_비율  34542 non-null  int64  \n",
            " 22  시간대_14~17_매출_비율  34542 non-null  int64  \n",
            " 23  시간대_17~21_매출_비율  34542 non-null  int64  \n",
            " 24  시간대_21~24_매출_비율  34542 non-null  int64  \n",
            " 25  남성_매출_비율         34542 non-null  int64  \n",
            " 26  여성_매출_비율         34542 non-null  int64  \n",
            " 27  연령대_10_매출_비율     34542 non-null  int64  \n",
            " 28  연령대_20_매출_비율     34542 non-null  int64  \n",
            " 29  연령대_30_매출_비율     34542 non-null  int64  \n",
            " 30  연령대_40_매출_비율     34542 non-null  int64  \n",
            " 31  연령대_50_매출_비율     34542 non-null  int64  \n",
            " 32  연령대_60_이상_매출_비율  34542 non-null  int64  \n",
            " 33  주중_매출_금액         34542 non-null  float64\n",
            " 34  주말_매출_금액         34542 non-null  float64\n",
            " 35  월요일_매출_금액        34542 non-null  float64\n",
            " 36  화요일_매출_금액        34542 non-null  float64\n",
            " 37  수요일_매출_금액        34542 non-null  float64\n",
            " 38  목요일_매출_금액        34542 non-null  float64\n",
            " 39  금요일_매출_금액        34542 non-null  float64\n",
            " 40  토요일_매출_금액        34542 non-null  float64\n",
            " 41  일요일_매출_금액        34542 non-null  float64\n",
            " 42  시간대_00~06_매출_금액  34542 non-null  int64  \n",
            " 43  시간대_06~11_매출_금액  34542 non-null  int64  \n",
            " 44  시간대_11~14_매출_금액  34542 non-null  float64\n",
            " 45  시간대_14~17_매출_금액  34542 non-null  float64\n",
            " 46  시간대_17~21_매출_금액  34542 non-null  float64\n",
            " 47  시간대_21~24_매출_금액  34542 non-null  int64  \n",
            " 48  남성_매출_금액         34542 non-null  float64\n",
            " 49  여성_매출_금액         34542 non-null  float64\n",
            " 50  연령대_10_매출_금액     34542 non-null  int64  \n",
            " 51  연령대_20_매출_금액     34542 non-null  int64  \n",
            " 52  연령대_30_매출_금액     34542 non-null  float64\n",
            " 53  연령대_40_매출_금액     34542 non-null  float64\n",
            " 54  연령대_50_매출_금액     34542 non-null  float64\n",
            " 55  연령대_60_이상_매출_금액  34542 non-null  float64\n",
            " 56  주중_매출_건수         34542 non-null  int64  \n",
            " 57  주말_매출_건수         34542 non-null  int64  \n",
            " 58  월요일_매출_건수        34542 non-null  int64  \n",
            " 59  화요일_매출_건수        34542 non-null  int64  \n",
            " 60  수요일_매출_건수        34542 non-null  int64  \n",
            " 61  목요일_매출_건수        34542 non-null  int64  \n",
            " 62  금요일_매출_건수        34542 non-null  int64  \n",
            " 63  토요일_매출_건수        34542 non-null  int64  \n",
            " 64  일요일_매출_건수        34542 non-null  int64  \n",
            " 65  시간대_건수~06_매출_건수  34542 non-null  int64  \n",
            " 66  시간대_건수~11_매출_건수  34542 non-null  int64  \n",
            " 67  시간대_건수~14_매출_건수  34542 non-null  int64  \n",
            " 68  시간대_건수~17_매출_건수  34542 non-null  int64  \n",
            " 69  시간대_건수~21_매출_건수  34542 non-null  int64  \n",
            " 70  시간대_건수~24_매출_건수  34542 non-null  int64  \n",
            " 71  남성_매출_건수         34542 non-null  int64  \n",
            " 72  여성_매출_건수         34542 non-null  int64  \n",
            " 73  연령대_10_매출_건수     34542 non-null  int64  \n",
            " 74  연령대_20_매출_건수     34542 non-null  int64  \n",
            " 75  연령대_30_매출_건수     34542 non-null  int64  \n",
            " 76  연령대_40_매출_건수     34542 non-null  int64  \n",
            " 77  연령대_50_매출_건수     34542 non-null  int64  \n",
            " 78  연령대_60_이상_매출_건수  34542 non-null  int64  \n",
            " 79  점포수              34542 non-null  int64  \n",
            " 80  평균               0 non-null      float64\n",
            "dtypes: float64(20), int64(56), object(5)\n",
            "memory usage: 21.3+ MB\n"
          ]
        }
      ],
      "source": [
        "df.info() "
      ]
    },
    {
      "cell_type": "code",
      "execution_count": null,
      "metadata": {
        "id": "QmzlzXvLVRKi"
      },
      "outputs": [],
      "source": [
        "#외식업 데이터만 정리\n",
        "df_1=df[df.서비스_업종_코드_명.isin(['한식음식점', '커피-음료', '분식전문점', '호프-간이주점',\n",
        "      '치킨전문점', '중식음식점','패스트푸드점', '일식음식점', '양식음식점'])].reset_index(drop = True)"
      ]
    },
    {
      "cell_type": "code",
      "execution_count": null,
      "metadata": {
        "id": "0_7VJm1U1tFV"
      },
      "outputs": [],
      "source": [
        "import matplotlib.font_manager as fm\n",
        "font = fm.FontProperties(fname='../input/korea-corona-case-to-211227/malgun.ttf')\n",
        "\n",
        "#폰트 정리하려고 했으나 적용 안됨"
      ]
    },
    {
      "cell_type": "code",
      "execution_count": null,
      "metadata": {
        "colab": {
          "base_uri": "https://localhost:8080/",
          "height": 310
        },
        "id": "8YhM18rtwbu3",
        "outputId": "f33c34cb-bf2f-400e-b5d2-7b19758f5c9c"
      },
      "outputs": [
        {
          "output_type": "display_data",
          "data": {
            "text/plain": [
              "<Figure size 360x504 with 1 Axes>"
            ],
            "image/png": "[encoded data removed]"
          },
          "metadata": {}
        }
      ],
      "source": [
        "colors = ['#2F5597', 'lightgray', 'lightgray', 'lightgray']\n",
        "explode = [0.05, 0.05, 0.05, 0.05]\n",
        "df_1['상권_구분_코드_명'].value_counts(normalize = True).plot(kind = 'pie', colors = colors, autopct='%.1f%%', startangle=240, explode = explode, counterclock=True, figsize = (5, 7));\n",
        "\n",
        "#서울시 상권 비율, 골목상권은 전체 1596개중 1057개 차지, 골목상권, 전통시장, 발달상권, 관광특구 순"
      ]
    },
    {
      "cell_type": "code",
      "execution_count": null,
      "metadata": {
        "colab": {
          "base_uri": "https://localhost:8080/"
        },
        "id": "3M-kWznr7KUW",
        "outputId": "5b6bdaf2-a7c6-426c-f81d-3cd409f51963"
      },
      "outputs": [
        {
          "output_type": "execute_result",
          "data": {
            "text/plain": [
              "골목상권    5043\n",
              "발달상권    1967\n",
              "전통시장    1277\n",
              "관광특구      52\n",
              "Name: 상권_구분_코드_명, dtype: int64"
            ]
          },
          "metadata": {},
          "execution_count": 329
        }
      ],
      "source": [
        "df_1['상권_구분_코드_명'].value_counts()"
      ]
    },
    {
      "cell_type": "code",
      "execution_count": null,
      "metadata": {
        "colab": {
          "base_uri": "https://localhost:8080/"
        },
        "id": "qPjxBtsObD13",
        "outputId": "ba884279-379c-4d34-d092-f5db0f0a3dac"
      },
      "outputs": [
        {
          "output_type": "execute_result",
          "data": {
            "text/plain": [
              "상권_구분_코드_명\n",
              "골목상권    1057\n",
              "관광특구       6\n",
              "발달상권     248\n",
              "전통시장     285\n",
              "Name: 상권_코드_명, dtype: int64"
            ]
          },
          "metadata": {},
          "execution_count": 330
        }
      ],
      "source": [
        "colors = ['#2F5597', 'lightgray', 'lightgray', 'lightgray']\n",
        "explode = [0.05, 0.05, 0.05, 0.05]\n",
        "df_1.groupby('상권_구분_코드_명')['상권_코드_명'].nunique()"
      ]
    },
    {
      "cell_type": "code",
      "execution_count": null,
      "metadata": {
        "colab": {
          "base_uri": "https://localhost:8080/"
        },
        "id": "Rg-esxOl93Ij",
        "outputId": "c3db9b71-67c6-409c-cd2e-9acf31b427ec"
      },
      "outputs": [
        {
          "output_type": "execute_result",
          "data": {
            "text/plain": [
              "상권_구분_코드_명\n",
              "발달상권    58682\n",
              "골목상권    40906\n",
              "전통시장    12648\n",
              "관광특구     4604\n",
              "Name: 점포수, dtype: int64"
            ]
          },
          "metadata": {},
          "execution_count": 331
        }
      ],
      "source": [
        "df_1.groupby('상권_구분_코드_명').sum()['점포수'].sort_values(ascending = False)"
      ]
    },
    {
      "cell_type": "code",
      "execution_count": null,
      "metadata": {
        "colab": {
          "base_uri": "https://localhost:8080/"
        },
        "id": "bLGK0G7JDQKY",
        "outputId": "5c577e46-c31b-4e7f-a69a-076a29a72f4f"
      },
      "outputs": [
        {
          "output_type": "execute_result",
          "data": {
            "text/plain": [
              "한식음식점      995\n",
              "커피-음료      796\n",
              "호프-간이주점    684\n",
              "분식전문점      671\n",
              "치킨전문점      544\n",
              "중식음식점      513\n",
              "패스트푸드점     378\n",
              "일식음식점      258\n",
              "양식음식점      204\n",
              "Name: 서비스_업종_코드_명, dtype: int64"
            ]
          },
          "metadata": {},
          "execution_count": 332
        }
      ],
      "source": [
        "df_1[df_1['상권_구분_코드_명'] == '골목상권']['서비스_업종_코드_명'].value_counts().sort_values(ascending = False)"
      ]
    },
    {
      "cell_type": "code",
      "execution_count": null,
      "metadata": {
        "colab": {
          "base_uri": "https://localhost:8080/"
        },
        "id": "jdyGfNi2Buw-",
        "outputId": "838543f2-e1b4-4242-fccf-d826fc1fde81"
      },
      "outputs": [
        {
          "output_type": "execute_result",
          "data": {
            "text/plain": [
              "상권_구분_코드_명\n",
              "골목상권    2.799628e+07\n",
              "전통시장    3.808277e+07\n",
              "발달상권    5.055463e+07\n",
              "관광특구    5.708014e+07\n",
              "Name: 상권별점포당평균매출, dtype: float64"
            ]
          },
          "metadata": {},
          "execution_count": 334
        }
      ],
      "source": [
        "df1_2=df_1.groupby('상권_구분_코드_명').sum()['분기당_매출_금액'].sort_values(ascending = False).to_frame()\n",
        "df1_2['상권수'] = df_1.groupby('상권_구분_코드_명')['상권_코드_명'].nunique()\n",
        "df1_2['상권별평균매출'] = df1_2['분기당_매출_금액']/df1_2['상권수']\n",
        "df1_2['상권별점포수'] = df_1.groupby('상권_구분_코드_명').sum()['점포수']\n",
        "df1_2['상권별점포당평균매출'] = df1_2['분기당_매출_금액'] /df1_2['상권별점포수']\n",
        "df1_2['상권별평균점포수'] = df1_2['상권별점포수']/df1_2['상권수']\n",
        "df1_2['상권별점포당평균매출'].sort_values()\n",
        "\n",
        "#특성 추가 - 상권 점포당 평균 매출"
      ]
    },
    {
      "cell_type": "code",
      "execution_count": null,
      "metadata": {
        "colab": {
          "base_uri": "https://localhost:8080/",
          "height": 206
        },
        "id": "rEqdPWHgIcFJ",
        "outputId": "d0e30ac3-739e-4181-f8b0-1de06a4a5ca3"
      },
      "outputs": [
        {
          "output_type": "execute_result",
          "data": {
            "text/plain": [
              "               분기당_매출_금액   상권수       상권별평균매출  상권별점포수    상권별점포당평균매출    상권별평균점포수\n",
              "상권_구분_코드_명                                                                    \n",
              "발달상권        2.966647e+12   248  1.196229e+10   58682  5.055463e+07  236.620968\n",
              "골목상권        1.145216e+12  1057  1.083459e+09   40906  2.799628e+07   38.700095\n",
              "전통시장        4.816709e+11   285  1.690073e+09   12648  3.808277e+07   44.378947\n",
              "관광특구        2.627970e+11     6  4.379950e+10    4604  5.708014e+07  767.333333"
            ],
            "text/html": [
              "\n",
              "  <div id=\"df-969769db-c38c-4c36-ab98-3b3442ce3f41\">\n",
              "    <div class=\"colab-df-container\">\n",
              "      <div>\n",
              "<style scoped>\n",
              "    .dataframe tbody tr th:only-of-type {\n",
              "        vertical-align: middle;\n",
              "    }\n",
              "\n",
              "    .dataframe tbody tr th {\n",
              "        vertical-align: top;\n",
              "    }\n",
              "\n",
              "    .dataframe thead th {\n",
              "        text-align: right;\n",
              "    }\n",
              "</style>\n",
              "<table border=\"1\" class=\"dataframe\">\n",
              "  <thead>\n",
              "    <tr style=\"text-align: right;\">\n",
              "      <th></th>\n",
              "      <th>분기당_매출_금액</th>\n",
              "      <th>상권수</th>\n",
              "      <th>상권별평균매출</th>\n",
              "      <th>상권별점포수</th>\n",
              "      <th>상권별점포당평균매출</th>\n",
              "      <th>상권별평균점포수</th>\n",
              "    </tr>\n",
              "    <tr>\n",
              "      <th>상권_구분_코드_명</th>\n",
              "      <th></th>\n",
              "      <th></th>\n",
              "      <th></th>\n",
              "      <th></th>\n",
              "      <th></th>\n",
              "      <th></th>\n",
              "    </tr>\n",
              "  </thead>\n",
              "  <tbody>\n",
              "    <tr>\n",
              "      <th>발달상권</th>\n",
              "      <td>2.966647e+12</td>\n",
              "      <td>248</td>\n",
              "      <td>1.196229e+10</td>\n",
              "      <td>58682</td>\n",
              "      <td>5.055463e+07</td>\n",
              "      <td>236.620968</td>\n",
              "    </tr>\n",
              "    <tr>\n",
              "      <th>골목상권</th>\n",
              "      <td>1.145216e+12</td>\n",
              "      <td>1057</td>\n",
              "      <td>1.083459e+09</td>\n",
              "      <td>40906</td>\n",
              "      <td>2.799628e+07</td>\n",
              "      <td>38.700095</td>\n",
              "    </tr>\n",
              "    <tr>\n",
              "      <th>전통시장</th>\n",
              "      <td>4.816709e+11</td>\n",
              "      <td>285</td>\n",
              "      <td>1.690073e+09</td>\n",
              "      <td>12648</td>\n",
              "      <td>3.808277e+07</td>\n",
              "      <td>44.378947</td>\n",
              "    </tr>\n",
              "    <tr>\n",
              "      <th>관광특구</th>\n",
              "      <td>2.627970e+11</td>\n",
              "      <td>6</td>\n",
              "      <td>4.379950e+10</td>\n",
              "      <td>4604</td>\n",
              "      <td>5.708014e+07</td>\n",
              "      <td>767.333333</td>\n",
              "    </tr>\n",
              "  </tbody>\n",
              "</table>\n",
              "</div>\n",
              "      <button class=\"colab-df-convert\" onclick=\"convertToInteractive('df-969769db-c38c-4c36-ab98-3b3442ce3f41')\"\n",
              "              title=\"Convert this dataframe to an interactive table.\"\n",
              "              style=\"display:none;\">\n",
              "        \n",
              "  <svg xmlns=\"http://www.w3.org/2000/svg\" height=\"24px\"viewBox=\"0 0 24 24\"\n",
              "       width=\"24px\">\n",
              "    <path d=\"M0 0h24v24H0V0z\" fill=\"none\"/>\n",
              "    <path d=\"M18.56 5.44l.94 2.06.94-2.06 2.06-.94-2.06-.94-.94-2.06-.94 2.06-2.06.94zm-11 1L8.5 8.5l.94-2.06 2.06-.94-2.06-.94L8.5 2.5l-.94 2.06-2.06.94zm10 10l.94 2.06.94-2.06 2.06-.94-2.06-.94-.94-2.06-.94 2.06-2.06.94z\"/><path d=\"M17.41 7.96l-1.37-1.37c-.4-.4-.92-.59-1.43-.59-.52 0-1.04.2-1.43.59L10.3 9.45l-7.72 7.72c-.78.78-.78 2.05 0 2.83L4 21.41c.39.39.9.59 1.41.59.51 0 1.02-.2 1.41-.59l7.78-7.78 2.81-2.81c.8-.78.8-2.07 0-2.86zM5.41 20L4 18.59l7.72-7.72 1.47 1.35L5.41 20z\"/>\n",
              "  </svg>\n",
              "      </button>\n",
              "      \n",
              "  <style>\n",
              "    .colab-df-container {\n",
              "      display:flex;\n",
              "      flex-wrap:wrap;\n",
              "      gap: 12px;\n",
              "    }\n",
              "\n",
              "    .colab-df-convert {\n",
              "      background-color: #E8F0FE;\n",
              "      border: none;\n",
              "      border-radius: 50%;\n",
              "      cursor: pointer;\n",
              "      display: none;\n",
              "      fill: #1967D2;\n",
              "      height: 32px;\n",
              "      padding: 0 0 0 0;\n",
              "      width: 32px;\n",
              "    }\n",
              "\n",
              "    .colab-df-convert:hover {\n",
              "      background-color: #E2EBFA;\n",
              "      box-shadow: 0px 1px 2px rgba(60, 64, 67, 0.3), 0px 1px 3px 1px rgba(60, 64, 67, 0.15);\n",
              "      fill: #174EA6;\n",
              "    }\n",
              "\n",
              "    [theme=dark] .colab-df-convert {\n",
              "      background-color: #3B4455;\n",
              "      fill: #D2E3FC;\n",
              "    }\n",
              "\n",
              "    [theme=dark] .colab-df-convert:hover {\n",
              "      background-color: #434B5C;\n",
              "      box-shadow: 0px 1px 3px 1px rgba(0, 0, 0, 0.15);\n",
              "      filter: drop-shadow(0px 1px 2px rgba(0, 0, 0, 0.3));\n",
              "      fill: #FFFFFF;\n",
              "    }\n",
              "  </style>\n",
              "\n",
              "      <script>\n",
              "        const buttonEl =\n",
              "          document.querySelector('#df-969769db-c38c-4c36-ab98-3b3442ce3f41 button.colab-df-convert');\n",
              "        buttonEl.style.display =\n",
              "          google.colab.kernel.accessAllowed ? 'block' : 'none';\n",
              "\n",
              "        async function convertToInteractive(key) {\n",
              "          const element = document.querySelector('#df-969769db-c38c-4c36-ab98-3b3442ce3f41');\n",
              "          const dataTable =\n",
              "            await google.colab.kernel.invokeFunction('convertToInteractive',\n",
              "                                                     [key], {});\n",
              "          if (!dataTable) return;\n",
              "\n",
              "          const docLinkHtml = 'Like what you see? Visit the ' +\n",
              "            '<a target=\"_blank\" href=https://colab.research.google.com/notebooks/data_table.ipynb>data table notebook</a>'\n",
              "            + ' to learn more about interactive tables.';\n",
              "          element.innerHTML = '';\n",
              "          dataTable['output_type'] = 'display_data';\n",
              "          await google.colab.output.renderOutput(dataTable, element);\n",
              "          const docLink = document.createElement('div');\n",
              "          docLink.innerHTML = docLinkHtml;\n",
              "          element.appendChild(docLink);\n",
              "        }\n",
              "      </script>\n",
              "    </div>\n",
              "  </div>\n",
              "  "
            ]
          },
          "metadata": {},
          "execution_count": 335
        }
      ],
      "source": [
        "df1_2"
      ]
    },
    {
      "cell_type": "code",
      "execution_count": null,
      "metadata": {
        "colab": {
          "base_uri": "https://localhost:8080/",
          "height": 404
        },
        "id": "KTIlLN0Lf42G",
        "outputId": "e47e3422-169f-4dd2-fe78-81eefb68896d"
      },
      "outputs": [
        {
          "output_type": "display_data",
          "data": {
            "text/plain": [
              "<Figure size 432x432 with 1 Axes>"
            ],
            "image/png": "[encoded data removed]"
          },
          "metadata": {
            "needs_background": "light"
          }
        }
      ],
      "source": [
        "df1_2['상권별평균점포수'].sort_values(ascending = False).plot(kind='bar', color=['silver', 'silver', 'silver','#2F5597'], figsize = (6, 6));\n",
        "\n",
        "#골목 상권 평균 점포수는 38.7개\n",
        "#관광특구, 발달상권, 전통시장, 골목상권 순"
      ]
    },
    {
      "cell_type": "code",
      "execution_count": null,
      "metadata": {
        "colab": {
          "base_uri": "https://localhost:8080/",
          "height": 413
        },
        "id": "Wj503s2eKAu4",
        "outputId": "ce1b3182-7ddc-48b7-83a2-b9bb07679a15"
      },
      "outputs": [
        {
          "output_type": "display_data",
          "data": {
            "text/plain": [
              "<Figure size 432x432 with 1 Axes>"
            ],
            "image/png": "[encoded data removed]"
          },
          "metadata": {
            "needs_background": "light"
          }
        }
      ],
      "source": [
        "df1_2['분기당_매출_금액'].sort_values(ascending = False).plot(kind='bar', color=['silver', '#2F5597','silver', 'silver'], figsize = (6, 6));\n",
        "\n",
        "#골목상권  1/4분기 총 매출- 1조 1,445억\n",
        "#발달상권, 골목상권, 전통시장, 관광특구 순"
      ]
    },
    {
      "cell_type": "code",
      "execution_count": null,
      "metadata": {
        "colab": {
          "base_uri": "https://localhost:8080/",
          "height": 413
        },
        "id": "7U5q4XSwgrgB",
        "outputId": "60bf19f9-3ddf-48e9-8a3c-445521909f6e"
      },
      "outputs": [
        {
          "output_type": "display_data",
          "data": {
            "text/plain": [
              "<Figure size 432x432 with 1 Axes>"
            ],
            "image/png": "[encoded data removed]"
          },
          "metadata": {
            "needs_background": "light"
          }
        }
      ],
      "source": [
        "df1_2['상권별점포당평균매출'].sort_values(ascending = False).plot(kind='bar', color=['silver', 'silver', 'silver','#2F5597'], figsize = (6, 6));\n",
        "\n",
        "#점포당 평균 분기 매출 - 평균 2,740 만원\n",
        "#관광특구, 발달상권, 전통시장, 골목상권 순"
      ]
    },
    {
      "cell_type": "code",
      "execution_count": null,
      "metadata": {
        "colab": {
          "base_uri": "https://localhost:8080/",
          "height": 413
        },
        "id": "Ph0V1_Z9N-Cy",
        "outputId": "8f7303f5-0455-42ea-9eaf-3eaa7a568f2e"
      },
      "outputs": [
        {
          "output_type": "display_data",
          "data": {
            "text/plain": [
              "<Figure size 432x432 with 1 Axes>"
            ],
            "image/png": "[encoded data removed]"
          },
          "metadata": {
            "needs_background": "light"
          }
        }
      ],
      "source": [
        "df1_2['상권별평균매출'].sort_values(ascending = False).plot(kind='bar', color=['silver', 'silver', 'silver','#2F5597'], figsize = (6, 6));"
      ]
    },
    {
      "cell_type": "code",
      "execution_count": null,
      "metadata": {
        "colab": {
          "base_uri": "https://localhost:8080/",
          "height": 402
        },
        "id": "oMSAkjc7w9bU",
        "outputId": "bff767f1-3974-4e68-dbb1-de019b065823"
      },
      "outputs": [
        {
          "output_type": "display_data",
          "data": {
            "text/plain": [
              "<Figure size 504x432 with 1 Axes>"
            ],
            "image/png": "[encoded data removed]"
          },
          "metadata": {
            "needs_background": "light"
          }
        }
      ],
      "source": [
        "df_1.groupby('상권_구분_코드_명').sum()['점포수'].sort_values(ascending = False).plot(kind = 'bar', color=['silver', '#2F5597', 'silver', 'silver'], figsize = (7, 6));\n",
        "\n",
        "#골목상권 점포 수 – 40,906개 (전체 116,840개)\n",
        "#발달상권, 골목상권, 전통시장, 관광특구 순"
      ]
    },
    {
      "cell_type": "code",
      "execution_count": null,
      "metadata": {
        "colab": {
          "base_uri": "https://localhost:8080/",
          "height": 366
        },
        "id": "9U3mh5S7ISsZ",
        "outputId": "fc8e85e7-57ea-4605-8719-41799c120bae"
      },
      "outputs": [
        {
          "output_type": "execute_result",
          "data": {
            "text/plain": [
              "<matplotlib.axes._subplots.AxesSubplot at 0x7f981c647f50>"
            ]
          },
          "metadata": {},
          "execution_count": 341
        },
        {
          "output_type": "display_data",
          "data": {
            "text/plain": [
              "<Figure size 360x360 with 1 Axes>"
            ],
            "image/png": "[encoded data removed]"
          },
          "metadata": {
            "needs_background": "light"
          }
        }
      ],
      "source": [
        "df_1_1 = df_1.groupby('상권_구분_코드_명').sum()['점포수'].to_frame()\n",
        "df_1_1['상권수'] = df_1['상권_구분_코드_명'].value_counts()\n",
        "df_1_1['평균점포수'] = df_1_1['점포수']/df_1_1['상권수']\n",
        "df_1_1['평균점포수'].sort_values(ascending = False).plot(kind = 'bar', color = ['silver', 'silver', 'silver', '#2F5597'], figsize = (5,5\n",
        "                                                                                                                            ))"
      ]
    },
    {
      "cell_type": "code",
      "execution_count": null,
      "metadata": {
        "id": "fkckbb0cx1us"
      },
      "outputs": [],
      "source": [
        "df1_3 = df_1.groupby(['상권_구분_코드_명', '서비스_업종_코드_명']).sum()['점포수'].to_frame()"
      ]
    },
    {
      "cell_type": "code",
      "execution_count": null,
      "metadata": {
        "colab": {
          "base_uri": "https://localhost:8080/",
          "height": 310
        },
        "id": "vaq3r1g2qLWZ",
        "outputId": "cbabad17-6e7b-40e9-82b3-12315e379c1d"
      },
      "outputs": [
        {
          "output_type": "display_data",
          "data": {
            "text/plain": [
              "<Figure size 360x504 with 1 Axes>"
            ],
            "image/png": "[encoded data removed]"
          },
          "metadata": {}
        }
      ],
      "source": [
        "dfstreet = df_1[df_1['상권_구분_코드_명'] == '골목상권']\n",
        "explode = [0.1, 0.05, 0.05, 0.05, 0.05, 0.05, 0.05, 0.05, 0.05]\n",
        "dfstreet.groupby('서비스_업종_코드_명').sum()['점포수'].sort_values(ascending = True).plot(kind = 'pie', autopct='%.f%%', startangle=294, explode = explode, colors = ('lightgray','lightgray', 'lightgray', 'lightgray', 'lightgray', 'lightgray',  'lightgray',  'lightgray', '#2F5597'),counterclock=False, figsize = (5, 7));\n",
        "#골목상권 업종별 분포\n",
        "#한식음식점, 커피-음료, 분식전문점, \u000b호프-간이주점, 치킨전문점, 중식음식점, \u000b패스트푸드점, 양식음식점, 일식음식점 순"
      ]
    },
    {
      "cell_type": "code",
      "execution_count": null,
      "metadata": {
        "id": "s9XJN2S4V037"
      },
      "outputs": [],
      "source": [
        "df_1['점포당_평균_매출'] = df_1['분기당_매출_금액']/df_1['점포수']\n",
        "df_1['평균도달여부'] = [\"1\" if i >= df_1['점포당_평균_매출'].mean() else \"0\" for i in df_1['점포당_평균_매출']]\n",
        "\n",
        "#점포당 평균 매출 특성 추가\n",
        "#특성의 평균도달 여부를 다시 정리해서 특성 추가"
      ]
    },
    {
      "cell_type": "code",
      "execution_count": null,
      "metadata": {
        "colab": {
          "base_uri": "https://localhost:8080/"
        },
        "id": "5nSaV7Eb3mGE",
        "outputId": "88536834-853a-4371-8f13-2a9ba59b2e06"
      },
      "outputs": [
        {
          "output_type": "execute_result",
          "data": {
            "text/plain": [
              "0       5.052296e+07\n",
              "1       2.538542e+08\n",
              "2       1.088688e+08\n",
              "3       7.507100e+07\n",
              "4       1.805877e+08\n",
              "            ...     \n",
              "8334    4.335651e+07\n",
              "8335    1.046576e+07\n",
              "8336    5.119924e+06\n",
              "8337    3.080667e+07\n",
              "8338    6.198273e+07\n",
              "Name: 점포당_평균_매출, Length: 8339, dtype: float64"
            ]
          },
          "metadata": {},
          "execution_count": 345
        }
      ],
      "source": [
        "df_1['점포당_평균_매출'] "
      ]
    },
    {
      "cell_type": "code",
      "execution_count": null,
      "metadata": {
        "colab": {
          "base_uri": "https://localhost:8080/",
          "height": 763
        },
        "id": "nLpFCxQw58GO",
        "outputId": "84eb2a43-cec5-4055-e3f0-db538cb906ab"
      },
      "outputs": [
        {
          "output_type": "execute_result",
          "data": {
            "text/plain": [
              "     상권_구분_코드_명    상권_코드      상권_코드_명 서비스_업종_코드_명  주중_매출_비율  주말_매출_비율  \\\n",
              "0          관광특구  1001496  강남 마이스 관광특구       커피-음료        71        29   \n",
              "1          관광특구  1001496  강남 마이스 관광특구       분식전문점        64        37   \n",
              "2          관광특구  1001496  강남 마이스 관광특구      패스트푸드점        68        32   \n",
              "3          관광특구  1001496  강남 마이스 관광특구       양식음식점        65        35   \n",
              "4          관광특구  1001496  강남 마이스 관광특구       일식음식점        67        33   \n",
              "...         ...      ...          ...         ...       ...       ...   \n",
              "8334       골목상권  2110002      독립문역 1번       한식음식점        77        23   \n",
              "8335       골목상권  2110001       이북5도청사       커피-음료        67        33   \n",
              "8336       골목상권  2110001       이북5도청사     호프-간이주점        40        60   \n",
              "8337       골목상권  2110001       이북5도청사       분식전문점        49        52   \n",
              "8338       골목상권  2110001       이북5도청사       한식음식점        57        43   \n",
              "\n",
              "      월요일_매출_비율  화요일_매출_비율  수요일_매출_비율  목요일_매출_비율  ...  연령대_20_매출_비율  \\\n",
              "0            13         13         14         16  ...            27   \n",
              "1             8          8         17         15  ...            26   \n",
              "2            12         12         14         15  ...            31   \n",
              "3            12         12         14         13  ...            26   \n",
              "4            12         13         14         14  ...            28   \n",
              "...         ...        ...        ...        ...  ...           ...   \n",
              "8334         16         13         16         16  ...             6   \n",
              "8335         10         13         16         15  ...            19   \n",
              "8336         15         17          0          0  ...             0   \n",
              "8337          8          9         12          9  ...             3   \n",
              "8338         10         11         13         11  ...             3   \n",
              "\n",
              "      연령대_30_매출_비율  연령대_40_매출_비율  연령대_50_매출_비율  연령대_60_이상_매출_비율  점포수  평균  \\\n",
              "0               38            20            10                5   52 NaN   \n",
              "1               40            17            11                6   29 NaN   \n",
              "2               35            19             9                5   14 NaN   \n",
              "3               36            22            12                5   35 NaN   \n",
              "4               32            19            12                8   20 NaN   \n",
              "...            ...           ...           ...              ...  ...  ..   \n",
              "8334            11            17            30               36    8 NaN   \n",
              "8335            16            20            31               15    2 NaN   \n",
              "8336            19             9            35               38    1 NaN   \n",
              "8337            11            25            33               29    3 NaN   \n",
              "8338             9            17            31               40   11 NaN   \n",
              "\n",
              "         점포당_평균_매출  평균도달여부     분기당_매출_금액  \n",
              "0     5.052296e+07       1  2.627194e+09  \n",
              "1     2.538542e+08       1  7.361772e+09  \n",
              "2     1.088688e+08       1  1.524163e+09  \n",
              "3     7.507100e+07       1  2.627485e+09  \n",
              "4     1.805877e+08       1  3.611754e+09  \n",
              "...            ...     ...           ...  \n",
              "8334  4.335651e+07       1  3.468521e+08  \n",
              "8335  1.046576e+07       0  2.093152e+07  \n",
              "8336  5.119924e+06       0  5.119924e+06  \n",
              "8337  3.080667e+07       0  9.242002e+07  \n",
              "8338  6.198273e+07       1  6.818101e+08  \n",
              "\n",
              "[8339 rows x 32 columns]"
            ],
            "text/html": [
              "\n",
              "  <div id=\"df-11a57b6f-7fa5-4521-82fb-dec80534ec1c\">\n",
              "    <div class=\"colab-df-container\">\n",
              "      <div>\n",
              "<style scoped>\n",
              "    .dataframe tbody tr th:only-of-type {\n",
              "        vertical-align: middle;\n",
              "    }\n",
              "\n",
              "    .dataframe tbody tr th {\n",
              "        vertical-align: top;\n",
              "    }\n",
              "\n",
              "    .dataframe thead th {\n",
              "        text-align: right;\n",
              "    }\n",
              "</style>\n",
              "<table border=\"1\" class=\"dataframe\">\n",
              "  <thead>\n",
              "    <tr style=\"text-align: right;\">\n",
              "      <th></th>\n",
              "      <th>상권_구분_코드_명</th>\n",
              "      <th>상권_코드</th>\n",
              "      <th>상권_코드_명</th>\n",
              "      <th>서비스_업종_코드_명</th>\n",
              "      <th>주중_매출_비율</th>\n",
              "      <th>주말_매출_비율</th>\n",
              "      <th>월요일_매출_비율</th>\n",
              "      <th>화요일_매출_비율</th>\n",
              "      <th>수요일_매출_비율</th>\n",
              "      <th>목요일_매출_비율</th>\n",
              "      <th>...</th>\n",
              "      <th>연령대_20_매출_비율</th>\n",
              "      <th>연령대_30_매출_비율</th>\n",
              "      <th>연령대_40_매출_비율</th>\n",
              "      <th>연령대_50_매출_비율</th>\n",
              "      <th>연령대_60_이상_매출_비율</th>\n",
              "      <th>점포수</th>\n",
              "      <th>평균</th>\n",
              "      <th>점포당_평균_매출</th>\n",
              "      <th>평균도달여부</th>\n",
              "      <th>분기당_매출_금액</th>\n",
              "    </tr>\n",
              "  </thead>\n",
              "  <tbody>\n",
              "    <tr>\n",
              "      <th>0</th>\n",
              "      <td>관광특구</td>\n",
              "      <td>1001496</td>\n",
              "      <td>강남 마이스 관광특구</td>\n",
              "      <td>커피-음료</td>\n",
              "      <td>71</td>\n",
              "      <td>29</td>\n",
              "      <td>13</td>\n",
              "      <td>13</td>\n",
              "      <td>14</td>\n",
              "      <td>16</td>\n",
              "      <td>...</td>\n",
              "      <td>27</td>\n",
              "      <td>38</td>\n",
              "      <td>20</td>\n",
              "      <td>10</td>\n",
              "      <td>5</td>\n",
              "      <td>52</td>\n",
              "      <td>NaN</td>\n",
              "      <td>5.052296e+07</td>\n",
              "      <td>1</td>\n",
              "      <td>2.627194e+09</td>\n",
              "    </tr>\n",
              "    <tr>\n",
              "      <th>1</th>\n",
              "      <td>관광특구</td>\n",
              "      <td>1001496</td>\n",
              "      <td>강남 마이스 관광특구</td>\n",
              "      <td>분식전문점</td>\n",
              "      <td>64</td>\n",
              "      <td>37</td>\n",
              "      <td>8</td>\n",
              "      <td>8</td>\n",
              "      <td>17</td>\n",
              "      <td>15</td>\n",
              "      <td>...</td>\n",
              "      <td>26</td>\n",
              "      <td>40</td>\n",
              "      <td>17</td>\n",
              "      <td>11</td>\n",
              "      <td>6</td>\n",
              "      <td>29</td>\n",
              "      <td>NaN</td>\n",
              "      <td>2.538542e+08</td>\n",
              "      <td>1</td>\n",
              "      <td>7.361772e+09</td>\n",
              "    </tr>\n",
              "    <tr>\n",
              "      <th>2</th>\n",
              "      <td>관광특구</td>\n",
              "      <td>1001496</td>\n",
              "      <td>강남 마이스 관광특구</td>\n",
              "      <td>패스트푸드점</td>\n",
              "      <td>68</td>\n",
              "      <td>32</td>\n",
              "      <td>12</td>\n",
              "      <td>12</td>\n",
              "      <td>14</td>\n",
              "      <td>15</td>\n",
              "      <td>...</td>\n",
              "      <td>31</td>\n",
              "      <td>35</td>\n",
              "      <td>19</td>\n",
              "      <td>9</td>\n",
              "      <td>5</td>\n",
              "      <td>14</td>\n",
              "      <td>NaN</td>\n",
              "      <td>1.088688e+08</td>\n",
              "      <td>1</td>\n",
              "      <td>1.524163e+09</td>\n",
              "    </tr>\n",
              "    <tr>\n",
              "      <th>3</th>\n",
              "      <td>관광특구</td>\n",
              "      <td>1001496</td>\n",
              "      <td>강남 마이스 관광특구</td>\n",
              "      <td>양식음식점</td>\n",
              "      <td>65</td>\n",
              "      <td>35</td>\n",
              "      <td>12</td>\n",
              "      <td>12</td>\n",
              "      <td>14</td>\n",
              "      <td>13</td>\n",
              "      <td>...</td>\n",
              "      <td>26</td>\n",
              "      <td>36</td>\n",
              "      <td>22</td>\n",
              "      <td>12</td>\n",
              "      <td>5</td>\n",
              "      <td>35</td>\n",
              "      <td>NaN</td>\n",
              "      <td>7.507100e+07</td>\n",
              "      <td>1</td>\n",
              "      <td>2.627485e+09</td>\n",
              "    </tr>\n",
              "    <tr>\n",
              "      <th>4</th>\n",
              "      <td>관광특구</td>\n",
              "      <td>1001496</td>\n",
              "      <td>강남 마이스 관광특구</td>\n",
              "      <td>일식음식점</td>\n",
              "      <td>67</td>\n",
              "      <td>33</td>\n",
              "      <td>12</td>\n",
              "      <td>13</td>\n",
              "      <td>14</td>\n",
              "      <td>14</td>\n",
              "      <td>...</td>\n",
              "      <td>28</td>\n",
              "      <td>32</td>\n",
              "      <td>19</td>\n",
              "      <td>12</td>\n",
              "      <td>8</td>\n",
              "      <td>20</td>\n",
              "      <td>NaN</td>\n",
              "      <td>1.805877e+08</td>\n",
              "      <td>1</td>\n",
              "      <td>3.611754e+09</td>\n",
              "    </tr>\n",
              "    <tr>\n",
              "      <th>...</th>\n",
              "      <td>...</td>\n",
              "      <td>...</td>\n",
              "      <td>...</td>\n",
              "      <td>...</td>\n",
              "      <td>...</td>\n",
              "      <td>...</td>\n",
              "      <td>...</td>\n",
              "      <td>...</td>\n",
              "      <td>...</td>\n",
              "      <td>...</td>\n",
              "      <td>...</td>\n",
              "      <td>...</td>\n",
              "      <td>...</td>\n",
              "      <td>...</td>\n",
              "      <td>...</td>\n",
              "      <td>...</td>\n",
              "      <td>...</td>\n",
              "      <td>...</td>\n",
              "      <td>...</td>\n",
              "      <td>...</td>\n",
              "      <td>...</td>\n",
              "    </tr>\n",
              "    <tr>\n",
              "      <th>8334</th>\n",
              "      <td>골목상권</td>\n",
              "      <td>2110002</td>\n",
              "      <td>독립문역 1번</td>\n",
              "      <td>한식음식점</td>\n",
              "      <td>77</td>\n",
              "      <td>23</td>\n",
              "      <td>16</td>\n",
              "      <td>13</td>\n",
              "      <td>16</td>\n",
              "      <td>16</td>\n",
              "      <td>...</td>\n",
              "      <td>6</td>\n",
              "      <td>11</td>\n",
              "      <td>17</td>\n",
              "      <td>30</td>\n",
              "      <td>36</td>\n",
              "      <td>8</td>\n",
              "      <td>NaN</td>\n",
              "      <td>4.335651e+07</td>\n",
              "      <td>1</td>\n",
              "      <td>3.468521e+08</td>\n",
              "    </tr>\n",
              "    <tr>\n",
              "      <th>8335</th>\n",
              "      <td>골목상권</td>\n",
              "      <td>2110001</td>\n",
              "      <td>이북5도청사</td>\n",
              "      <td>커피-음료</td>\n",
              "      <td>67</td>\n",
              "      <td>33</td>\n",
              "      <td>10</td>\n",
              "      <td>13</td>\n",
              "      <td>16</td>\n",
              "      <td>15</td>\n",
              "      <td>...</td>\n",
              "      <td>19</td>\n",
              "      <td>16</td>\n",
              "      <td>20</td>\n",
              "      <td>31</td>\n",
              "      <td>15</td>\n",
              "      <td>2</td>\n",
              "      <td>NaN</td>\n",
              "      <td>1.046576e+07</td>\n",
              "      <td>0</td>\n",
              "      <td>2.093152e+07</td>\n",
              "    </tr>\n",
              "    <tr>\n",
              "      <th>8336</th>\n",
              "      <td>골목상권</td>\n",
              "      <td>2110001</td>\n",
              "      <td>이북5도청사</td>\n",
              "      <td>호프-간이주점</td>\n",
              "      <td>40</td>\n",
              "      <td>60</td>\n",
              "      <td>15</td>\n",
              "      <td>17</td>\n",
              "      <td>0</td>\n",
              "      <td>0</td>\n",
              "      <td>...</td>\n",
              "      <td>0</td>\n",
              "      <td>19</td>\n",
              "      <td>9</td>\n",
              "      <td>35</td>\n",
              "      <td>38</td>\n",
              "      <td>1</td>\n",
              "      <td>NaN</td>\n",
              "      <td>5.119924e+06</td>\n",
              "      <td>0</td>\n",
              "      <td>5.119924e+06</td>\n",
              "    </tr>\n",
              "    <tr>\n",
              "      <th>8337</th>\n",
              "      <td>골목상권</td>\n",
              "      <td>2110001</td>\n",
              "      <td>이북5도청사</td>\n",
              "      <td>분식전문점</td>\n",
              "      <td>49</td>\n",
              "      <td>52</td>\n",
              "      <td>8</td>\n",
              "      <td>9</td>\n",
              "      <td>12</td>\n",
              "      <td>9</td>\n",
              "      <td>...</td>\n",
              "      <td>3</td>\n",
              "      <td>11</td>\n",
              "      <td>25</td>\n",
              "      <td>33</td>\n",
              "      <td>29</td>\n",
              "      <td>3</td>\n",
              "      <td>NaN</td>\n",
              "      <td>3.080667e+07</td>\n",
              "      <td>0</td>\n",
              "      <td>9.242002e+07</td>\n",
              "    </tr>\n",
              "    <tr>\n",
              "      <th>8338</th>\n",
              "      <td>골목상권</td>\n",
              "      <td>2110001</td>\n",
              "      <td>이북5도청사</td>\n",
              "      <td>한식음식점</td>\n",
              "      <td>57</td>\n",
              "      <td>43</td>\n",
              "      <td>10</td>\n",
              "      <td>11</td>\n",
              "      <td>13</td>\n",
              "      <td>11</td>\n",
              "      <td>...</td>\n",
              "      <td>3</td>\n",
              "      <td>9</td>\n",
              "      <td>17</td>\n",
              "      <td>31</td>\n",
              "      <td>40</td>\n",
              "      <td>11</td>\n",
              "      <td>NaN</td>\n",
              "      <td>6.198273e+07</td>\n",
              "      <td>1</td>\n",
              "      <td>6.818101e+08</td>\n",
              "    </tr>\n",
              "  </tbody>\n",
              "</table>\n",
              "<p>8339 rows × 32 columns</p>\n",
              "</div>\n",
              "      <button class=\"colab-df-convert\" onclick=\"convertToInteractive('df-11a57b6f-7fa5-4521-82fb-dec80534ec1c')\"\n",
              "              title=\"Convert this dataframe to an interactive table.\"\n",
              "              style=\"display:none;\">\n",
              "        \n",
              "  <svg xmlns=\"http://www.w3.org/2000/svg\" height=\"24px\"viewBox=\"0 0 24 24\"\n",
              "       width=\"24px\">\n",
              "    <path d=\"M0 0h24v24H0V0z\" fill=\"none\"/>\n",
              "    <path d=\"M18.56 5.44l.94 2.06.94-2.06 2.06-.94-2.06-.94-.94-2.06-.94 2.06-2.06.94zm-11 1L8.5 8.5l.94-2.06 2.06-.94-2.06-.94L8.5 2.5l-.94 2.06-2.06.94zm10 10l.94 2.06.94-2.06 2.06-.94-2.06-.94-.94-2.06-.94 2.06-2.06.94z\"/><path d=\"M17.41 7.96l-1.37-1.37c-.4-.4-.92-.59-1.43-.59-.52 0-1.04.2-1.43.59L10.3 9.45l-7.72 7.72c-.78.78-.78 2.05 0 2.83L4 21.41c.39.39.9.59 1.41.59.51 0 1.02-.2 1.41-.59l7.78-7.78 2.81-2.81c.8-.78.8-2.07 0-2.86zM5.41 20L4 18.59l7.72-7.72 1.47 1.35L5.41 20z\"/>\n",
              "  </svg>\n",
              "      </button>\n",
              "      \n",
              "  <style>\n",
              "    .colab-df-container {\n",
              "      display:flex;\n",
              "      flex-wrap:wrap;\n",
              "      gap: 12px;\n",
              "    }\n",
              "\n",
              "    .colab-df-convert {\n",
              "      background-color: #E8F0FE;\n",
              "      border: none;\n",
              "      border-radius: 50%;\n",
              "      cursor: pointer;\n",
              "      display: none;\n",
              "      fill: #1967D2;\n",
              "      height: 32px;\n",
              "      padding: 0 0 0 0;\n",
              "      width: 32px;\n",
              "    }\n",
              "\n",
              "    .colab-df-convert:hover {\n",
              "      background-color: #E2EBFA;\n",
              "      box-shadow: 0px 1px 2px rgba(60, 64, 67, 0.3), 0px 1px 3px 1px rgba(60, 64, 67, 0.15);\n",
              "      fill: #174EA6;\n",
              "    }\n",
              "\n",
              "    [theme=dark] .colab-df-convert {\n",
              "      background-color: #3B4455;\n",
              "      fill: #D2E3FC;\n",
              "    }\n",
              "\n",
              "    [theme=dark] .colab-df-convert:hover {\n",
              "      background-color: #434B5C;\n",
              "      box-shadow: 0px 1px 3px 1px rgba(0, 0, 0, 0.15);\n",
              "      filter: drop-shadow(0px 1px 2px rgba(0, 0, 0, 0.3));\n",
              "      fill: #FFFFFF;\n",
              "    }\n",
              "  </style>\n",
              "\n",
              "      <script>\n",
              "        const buttonEl =\n",
              "          document.querySelector('#df-11a57b6f-7fa5-4521-82fb-dec80534ec1c button.colab-df-convert');\n",
              "        buttonEl.style.display =\n",
              "          google.colab.kernel.accessAllowed ? 'block' : 'none';\n",
              "\n",
              "        async function convertToInteractive(key) {\n",
              "          const element = document.querySelector('#df-11a57b6f-7fa5-4521-82fb-dec80534ec1c');\n",
              "          const dataTable =\n",
              "            await google.colab.kernel.invokeFunction('convertToInteractive',\n",
              "                                                     [key], {});\n",
              "          if (!dataTable) return;\n",
              "\n",
              "          const docLinkHtml = 'Like what you see? Visit the ' +\n",
              "            '<a target=\"_blank\" href=https://colab.research.google.com/notebooks/data_table.ipynb>data table notebook</a>'\n",
              "            + ' to learn more about interactive tables.';\n",
              "          element.innerHTML = '';\n",
              "          dataTable['output_type'] = 'display_data';\n",
              "          await google.colab.output.renderOutput(dataTable, element);\n",
              "          const docLink = document.createElement('div');\n",
              "          docLink.innerHTML = docLinkHtml;\n",
              "          element.appendChild(docLink);\n",
              "        }\n",
              "      </script>\n",
              "    </div>\n",
              "  </div>\n",
              "  "
            ]
          },
          "metadata": {},
          "execution_count": 346
        }
      ],
      "source": [
        "dels = [col for col in df_1.columns if (\"매출_건수\" in col or \"매출_금액\" in col)]\n",
        "df1_clean = df_1.drop(columns = dels)\n",
        "df1_clean['분기당_매출_금액'] = df_1['분기당_매출_금액']\n",
        "cols = [\"기준_년_코드\", \"기준_분기_코드\", \"상권_구분_코드\", \"서비스_업종_코드\"]\n",
        "df1_clean = df1_clean.drop(columns = cols)\n",
        "df1_clean"
      ]
    },
    {
      "cell_type": "code",
      "execution_count": null,
      "metadata": {
        "colab": {
          "base_uri": "https://localhost:8080/"
        },
        "id": "UUIZjFp6-1ed",
        "outputId": "bedc14b5-fed1-4b62-8d16-10d1ee5c5329"
      },
      "outputs": [
        {
          "output_type": "execute_result",
          "data": {
            "text/plain": [
              "Index(['상권_구분_코드_명', '상권_코드', '상권_코드_명', '서비스_업종_코드_명', '주중_매출_비율', '주말_매출_비율',\n",
              "       '월요일_매출_비율', '화요일_매출_비율', '수요일_매출_비율', '목요일_매출_비율', '금요일_매출_비율',\n",
              "       '토요일_매출_비율', '일요일_매출_비율', '시간대_00~06_매출_비율', '시간대_06~11_매출_비율',\n",
              "       '시간대_11~14_매출_비율', '시간대_14~17_매출_비율', '시간대_17~21_매출_비율',\n",
              "       '시간대_21~24_매출_비율', '남성_매출_비율', '여성_매출_비율', '연령대_10_매출_비율',\n",
              "       '연령대_20_매출_비율', '연령대_30_매출_비율', '연령대_40_매출_비율', '연령대_50_매출_비율',\n",
              "       '연령대_60_이상_매출_비율', '점포수', '평균', '점포당_평균_매출', '평균도달여부', '분기당_매출_금액'],\n",
              "      dtype='object')"
            ]
          },
          "metadata": {},
          "execution_count": 347
        }
      ],
      "source": [
        "df1_clean.columns"
      ]
    },
    {
      "cell_type": "code",
      "execution_count": null,
      "metadata": {
        "id": "faSQgtzDAnKN"
      },
      "outputs": [],
      "source": [
        "df2 = pd.read_csv(\"/content/직장인구.csv\", encoding='euc-kr', engine = 'python')\n",
        "df3 = pd.read_csv(\"/content/소득소비.csv\", encoding='euc-kr', engine = 'python')\n",
        "df4 = pd.read_csv(\"/content/생활인구.csv\", encoding='euc-kr', engine = 'python')\n",
        "df5 = pd.read_csv(\"/content/상주인구2.csv\", encoding='euc-kr', engine = 'python')"
      ]
    },
    {
      "cell_type": "code",
      "execution_count": null,
      "metadata": {
        "colab": {
          "base_uri": "https://localhost:8080/",
          "height": 143
        },
        "id": "Y40P6_IACg_G",
        "outputId": "217cf033-78bd-42a5-f709-027a3301b02b"
      },
      "outputs": [
        {
          "output_type": "execute_result",
          "data": {
            "text/plain": [
              "     상권_코드  총_직장_인구_수\n",
              "0  1001496      15904\n",
              "1  1001495      24375\n",
              "2  1001494      32935"
            ],
            "text/html": [
              "\n",
              "  <div id=\"df-910021ad-856c-4b85-8896-791990b5fd16\">\n",
              "    <div class=\"colab-df-container\">\n",
              "      <div>\n",
              "<style scoped>\n",
              "    .dataframe tbody tr th:only-of-type {\n",
              "        vertical-align: middle;\n",
              "    }\n",
              "\n",
              "    .dataframe tbody tr th {\n",
              "        vertical-align: top;\n",
              "    }\n",
              "\n",
              "    .dataframe thead th {\n",
              "        text-align: right;\n",
              "    }\n",
              "</style>\n",
              "<table border=\"1\" class=\"dataframe\">\n",
              "  <thead>\n",
              "    <tr style=\"text-align: right;\">\n",
              "      <th></th>\n",
              "      <th>상권_코드</th>\n",
              "      <th>총_직장_인구_수</th>\n",
              "    </tr>\n",
              "  </thead>\n",
              "  <tbody>\n",
              "    <tr>\n",
              "      <th>0</th>\n",
              "      <td>1001496</td>\n",
              "      <td>15904</td>\n",
              "    </tr>\n",
              "    <tr>\n",
              "      <th>1</th>\n",
              "      <td>1001495</td>\n",
              "      <td>24375</td>\n",
              "    </tr>\n",
              "    <tr>\n",
              "      <th>2</th>\n",
              "      <td>1001494</td>\n",
              "      <td>32935</td>\n",
              "    </tr>\n",
              "  </tbody>\n",
              "</table>\n",
              "</div>\n",
              "      <button class=\"colab-df-convert\" onclick=\"convertToInteractive('df-910021ad-856c-4b85-8896-791990b5fd16')\"\n",
              "              title=\"Convert this dataframe to an interactive table.\"\n",
              "              style=\"display:none;\">\n",
              "        \n",
              "  <svg xmlns=\"http://www.w3.org/2000/svg\" height=\"24px\"viewBox=\"0 0 24 24\"\n",
              "       width=\"24px\">\n",
              "    <path d=\"M0 0h24v24H0V0z\" fill=\"none\"/>\n",
              "    <path d=\"M18.56 5.44l.94 2.06.94-2.06 2.06-.94-2.06-.94-.94-2.06-.94 2.06-2.06.94zm-11 1L8.5 8.5l.94-2.06 2.06-.94-2.06-.94L8.5 2.5l-.94 2.06-2.06.94zm10 10l.94 2.06.94-2.06 2.06-.94-2.06-.94-.94-2.06-.94 2.06-2.06.94z\"/><path d=\"M17.41 7.96l-1.37-1.37c-.4-.4-.92-.59-1.43-.59-.52 0-1.04.2-1.43.59L10.3 9.45l-7.72 7.72c-.78.78-.78 2.05 0 2.83L4 21.41c.39.39.9.59 1.41.59.51 0 1.02-.2 1.41-.59l7.78-7.78 2.81-2.81c.8-.78.8-2.07 0-2.86zM5.41 20L4 18.59l7.72-7.72 1.47 1.35L5.41 20z\"/>\n",
              "  </svg>\n",
              "      </button>\n",
              "      \n",
              "  <style>\n",
              "    .colab-df-container {\n",
              "      display:flex;\n",
              "      flex-wrap:wrap;\n",
              "      gap: 12px;\n",
              "    }\n",
              "\n",
              "    .colab-df-convert {\n",
              "      background-color: #E8F0FE;\n",
              "      border: none;\n",
              "      border-radius: 50%;\n",
              "      cursor: pointer;\n",
              "      display: none;\n",
              "      fill: #1967D2;\n",
              "      height: 32px;\n",
              "      padding: 0 0 0 0;\n",
              "      width: 32px;\n",
              "    }\n",
              "\n",
              "    .colab-df-convert:hover {\n",
              "      background-color: #E2EBFA;\n",
              "      box-shadow: 0px 1px 2px rgba(60, 64, 67, 0.3), 0px 1px 3px 1px rgba(60, 64, 67, 0.15);\n",
              "      fill: #174EA6;\n",
              "    }\n",
              "\n",
              "    [theme=dark] .colab-df-convert {\n",
              "      background-color: #3B4455;\n",
              "      fill: #D2E3FC;\n",
              "    }\n",
              "\n",
              "    [theme=dark] .colab-df-convert:hover {\n",
              "      background-color: #434B5C;\n",
              "      box-shadow: 0px 1px 3px 1px rgba(0, 0, 0, 0.15);\n",
              "      filter: drop-shadow(0px 1px 2px rgba(0, 0, 0, 0.3));\n",
              "      fill: #FFFFFF;\n",
              "    }\n",
              "  </style>\n",
              "\n",
              "      <script>\n",
              "        const buttonEl =\n",
              "          document.querySelector('#df-910021ad-856c-4b85-8896-791990b5fd16 button.colab-df-convert');\n",
              "        buttonEl.style.display =\n",
              "          google.colab.kernel.accessAllowed ? 'block' : 'none';\n",
              "\n",
              "        async function convertToInteractive(key) {\n",
              "          const element = document.querySelector('#df-910021ad-856c-4b85-8896-791990b5fd16');\n",
              "          const dataTable =\n",
              "            await google.colab.kernel.invokeFunction('convertToInteractive',\n",
              "                                                     [key], {});\n",
              "          if (!dataTable) return;\n",
              "\n",
              "          const docLinkHtml = 'Like what you see? Visit the ' +\n",
              "            '<a target=\"_blank\" href=https://colab.research.google.com/notebooks/data_table.ipynb>data table notebook</a>'\n",
              "            + ' to learn more about interactive tables.';\n",
              "          element.innerHTML = '';\n",
              "          dataTable['output_type'] = 'display_data';\n",
              "          await google.colab.output.renderOutput(dataTable, element);\n",
              "          const docLink = document.createElement('div');\n",
              "          docLink.innerHTML = docLinkHtml;\n",
              "          element.appendChild(docLink);\n",
              "        }\n",
              "      </script>\n",
              "    </div>\n",
              "  </div>\n",
              "  "
            ]
          },
          "metadata": {},
          "execution_count": 349
        }
      ],
      "source": [
        "df2_clean = df2[df2.기준_년월_코드 == 2022].reset_index(drop = True)\n",
        "df2_clean2 = df2_clean[['상권_코드', '총_직장_인구_수']]\n",
        "df2_clean2.head(3)\n",
        "\n",
        "#총 직장 인구수를 특성으로 추가"
      ]
    },
    {
      "cell_type": "code",
      "execution_count": null,
      "metadata": {
        "colab": {
          "base_uri": "https://localhost:8080/",
          "height": 143
        },
        "id": "uTjyjxUaDQyt",
        "outputId": "b25d4c85-ced8-4ad4-e8b7-647ccc2000cd"
      },
      "outputs": [
        {
          "output_type": "execute_result",
          "data": {
            "text/plain": [
              "     상권_코드  월_평균_소득_금액        지출_총금액\n",
              "0  2110001   4305934.0  5.204276e+08\n",
              "1  2110002   3463885.0  2.324652e+08\n",
              "2  2110003   3548020.0  1.349699e+09"
            ],
            "text/html": [
              "\n",
              "  <div id=\"df-bde5ce8e-16b1-4d73-b897-b0d21b1547dd\">\n",
              "    <div class=\"colab-df-container\">\n",
              "      <div>\n",
              "<style scoped>\n",
              "    .dataframe tbody tr th:only-of-type {\n",
              "        vertical-align: middle;\n",
              "    }\n",
              "\n",
              "    .dataframe tbody tr th {\n",
              "        vertical-align: top;\n",
              "    }\n",
              "\n",
              "    .dataframe thead th {\n",
              "        text-align: right;\n",
              "    }\n",
              "</style>\n",
              "<table border=\"1\" class=\"dataframe\">\n",
              "  <thead>\n",
              "    <tr style=\"text-align: right;\">\n",
              "      <th></th>\n",
              "      <th>상권_코드</th>\n",
              "      <th>월_평균_소득_금액</th>\n",
              "      <th>지출_총금액</th>\n",
              "    </tr>\n",
              "  </thead>\n",
              "  <tbody>\n",
              "    <tr>\n",
              "      <th>0</th>\n",
              "      <td>2110001</td>\n",
              "      <td>4305934.0</td>\n",
              "      <td>5.204276e+08</td>\n",
              "    </tr>\n",
              "    <tr>\n",
              "      <th>1</th>\n",
              "      <td>2110002</td>\n",
              "      <td>3463885.0</td>\n",
              "      <td>2.324652e+08</td>\n",
              "    </tr>\n",
              "    <tr>\n",
              "      <th>2</th>\n",
              "      <td>2110003</td>\n",
              "      <td>3548020.0</td>\n",
              "      <td>1.349699e+09</td>\n",
              "    </tr>\n",
              "  </tbody>\n",
              "</table>\n",
              "</div>\n",
              "      <button class=\"colab-df-convert\" onclick=\"convertToInteractive('df-bde5ce8e-16b1-4d73-b897-b0d21b1547dd')\"\n",
              "              title=\"Convert this dataframe to an interactive table.\"\n",
              "              style=\"display:none;\">\n",
              "        \n",
              "  <svg xmlns=\"http://www.w3.org/2000/svg\" height=\"24px\"viewBox=\"0 0 24 24\"\n",
              "       width=\"24px\">\n",
              "    <path d=\"M0 0h24v24H0V0z\" fill=\"none\"/>\n",
              "    <path d=\"M18.56 5.44l.94 2.06.94-2.06 2.06-.94-2.06-.94-.94-2.06-.94 2.06-2.06.94zm-11 1L8.5 8.5l.94-2.06 2.06-.94-2.06-.94L8.5 2.5l-.94 2.06-2.06.94zm10 10l.94 2.06.94-2.06 2.06-.94-2.06-.94-.94-2.06-.94 2.06-2.06.94z\"/><path d=\"M17.41 7.96l-1.37-1.37c-.4-.4-.92-.59-1.43-.59-.52 0-1.04.2-1.43.59L10.3 9.45l-7.72 7.72c-.78.78-.78 2.05 0 2.83L4 21.41c.39.39.9.59 1.41.59.51 0 1.02-.2 1.41-.59l7.78-7.78 2.81-2.81c.8-.78.8-2.07 0-2.86zM5.41 20L4 18.59l7.72-7.72 1.47 1.35L5.41 20z\"/>\n",
              "  </svg>\n",
              "      </button>\n",
              "      \n",
              "  <style>\n",
              "    .colab-df-container {\n",
              "      display:flex;\n",
              "      flex-wrap:wrap;\n",
              "      gap: 12px;\n",
              "    }\n",
              "\n",
              "    .colab-df-convert {\n",
              "      background-color: #E8F0FE;\n",
              "      border: none;\n",
              "      border-radius: 50%;\n",
              "      cursor: pointer;\n",
              "      display: none;\n",
              "      fill: #1967D2;\n",
              "      height: 32px;\n",
              "      padding: 0 0 0 0;\n",
              "      width: 32px;\n",
              "    }\n",
              "\n",
              "    .colab-df-convert:hover {\n",
              "      background-color: #E2EBFA;\n",
              "      box-shadow: 0px 1px 2px rgba(60, 64, 67, 0.3), 0px 1px 3px 1px rgba(60, 64, 67, 0.15);\n",
              "      fill: #174EA6;\n",
              "    }\n",
              "\n",
              "    [theme=dark] .colab-df-convert {\n",
              "      background-color: #3B4455;\n",
              "      fill: #D2E3FC;\n",
              "    }\n",
              "\n",
              "    [theme=dark] .colab-df-convert:hover {\n",
              "      background-color: #434B5C;\n",
              "      box-shadow: 0px 1px 3px 1px rgba(0, 0, 0, 0.15);\n",
              "      filter: drop-shadow(0px 1px 2px rgba(0, 0, 0, 0.3));\n",
              "      fill: #FFFFFF;\n",
              "    }\n",
              "  </style>\n",
              "\n",
              "      <script>\n",
              "        const buttonEl =\n",
              "          document.querySelector('#df-bde5ce8e-16b1-4d73-b897-b0d21b1547dd button.colab-df-convert');\n",
              "        buttonEl.style.display =\n",
              "          google.colab.kernel.accessAllowed ? 'block' : 'none';\n",
              "\n",
              "        async function convertToInteractive(key) {\n",
              "          const element = document.querySelector('#df-bde5ce8e-16b1-4d73-b897-b0d21b1547dd');\n",
              "          const dataTable =\n",
              "            await google.colab.kernel.invokeFunction('convertToInteractive',\n",
              "                                                     [key], {});\n",
              "          if (!dataTable) return;\n",
              "\n",
              "          const docLinkHtml = 'Like what you see? Visit the ' +\n",
              "            '<a target=\"_blank\" href=https://colab.research.google.com/notebooks/data_table.ipynb>data table notebook</a>'\n",
              "            + ' to learn more about interactive tables.';\n",
              "          element.innerHTML = '';\n",
              "          dataTable['output_type'] = 'display_data';\n",
              "          await google.colab.output.renderOutput(dataTable, element);\n",
              "          const docLink = document.createElement('div');\n",
              "          docLink.innerHTML = docLinkHtml;\n",
              "          element.appendChild(docLink);\n",
              "        }\n",
              "      </script>\n",
              "    </div>\n",
              "  </div>\n",
              "  "
            ]
          },
          "metadata": {},
          "execution_count": 350
        }
      ],
      "source": [
        "df3_clean = df3[df3.기준_년_코드 == 2022].reset_index(drop = True)\n",
        "df3_clean2 = df3_clean[['상권_코드', '월_평균_소득_금액', '지출_총금액']]\n",
        "df3_clean2.head(3)\n",
        "\n",
        "#월 평균 소득 금액, 지출 총금액 특성으로 추가"
      ]
    },
    {
      "cell_type": "code",
      "execution_count": null,
      "metadata": {
        "colab": {
          "base_uri": "https://localhost:8080/",
          "height": 143
        },
        "id": "aiwJPMFWEeOr",
        "outputId": "b3f373fa-5f4b-499c-a5de-109c91c39b4b"
      },
      "outputs": [
        {
          "output_type": "execute_result",
          "data": {
            "text/plain": [
              "     상권_코드  총_생활인구_수\n",
              "0  1001496     92815\n",
              "1  1001495   3221641\n",
              "2  1001494   3610698"
            ],
            "text/html": [
              "\n",
              "  <div id=\"df-4eb89bc1-aff4-42c0-92e6-22b392891086\">\n",
              "    <div class=\"colab-df-container\">\n",
              "      <div>\n",
              "<style scoped>\n",
              "    .dataframe tbody tr th:only-of-type {\n",
              "        vertical-align: middle;\n",
              "    }\n",
              "\n",
              "    .dataframe tbody tr th {\n",
              "        vertical-align: top;\n",
              "    }\n",
              "\n",
              "    .dataframe thead th {\n",
              "        text-align: right;\n",
              "    }\n",
              "</style>\n",
              "<table border=\"1\" class=\"dataframe\">\n",
              "  <thead>\n",
              "    <tr style=\"text-align: right;\">\n",
              "      <th></th>\n",
              "      <th>상권_코드</th>\n",
              "      <th>총_생활인구_수</th>\n",
              "    </tr>\n",
              "  </thead>\n",
              "  <tbody>\n",
              "    <tr>\n",
              "      <th>0</th>\n",
              "      <td>1001496</td>\n",
              "      <td>92815</td>\n",
              "    </tr>\n",
              "    <tr>\n",
              "      <th>1</th>\n",
              "      <td>1001495</td>\n",
              "      <td>3221641</td>\n",
              "    </tr>\n",
              "    <tr>\n",
              "      <th>2</th>\n",
              "      <td>1001494</td>\n",
              "      <td>3610698</td>\n",
              "    </tr>\n",
              "  </tbody>\n",
              "</table>\n",
              "</div>\n",
              "      <button class=\"colab-df-convert\" onclick=\"convertToInteractive('df-4eb89bc1-aff4-42c0-92e6-22b392891086')\"\n",
              "              title=\"Convert this dataframe to an interactive table.\"\n",
              "              style=\"display:none;\">\n",
              "        \n",
              "  <svg xmlns=\"http://www.w3.org/2000/svg\" height=\"24px\"viewBox=\"0 0 24 24\"\n",
              "       width=\"24px\">\n",
              "    <path d=\"M0 0h24v24H0V0z\" fill=\"none\"/>\n",
              "    <path d=\"M18.56 5.44l.94 2.06.94-2.06 2.06-.94-2.06-.94-.94-2.06-.94 2.06-2.06.94zm-11 1L8.5 8.5l.94-2.06 2.06-.94-2.06-.94L8.5 2.5l-.94 2.06-2.06.94zm10 10l.94 2.06.94-2.06 2.06-.94-2.06-.94-.94-2.06-.94 2.06-2.06.94z\"/><path d=\"M17.41 7.96l-1.37-1.37c-.4-.4-.92-.59-1.43-.59-.52 0-1.04.2-1.43.59L10.3 9.45l-7.72 7.72c-.78.78-.78 2.05 0 2.83L4 21.41c.39.39.9.59 1.41.59.51 0 1.02-.2 1.41-.59l7.78-7.78 2.81-2.81c.8-.78.8-2.07 0-2.86zM5.41 20L4 18.59l7.72-7.72 1.47 1.35L5.41 20z\"/>\n",
              "  </svg>\n",
              "      </button>\n",
              "      \n",
              "  <style>\n",
              "    .colab-df-container {\n",
              "      display:flex;\n",
              "      flex-wrap:wrap;\n",
              "      gap: 12px;\n",
              "    }\n",
              "\n",
              "    .colab-df-convert {\n",
              "      background-color: #E8F0FE;\n",
              "      border: none;\n",
              "      border-radius: 50%;\n",
              "      cursor: pointer;\n",
              "      display: none;\n",
              "      fill: #1967D2;\n",
              "      height: 32px;\n",
              "      padding: 0 0 0 0;\n",
              "      width: 32px;\n",
              "    }\n",
              "\n",
              "    .colab-df-convert:hover {\n",
              "      background-color: #E2EBFA;\n",
              "      box-shadow: 0px 1px 2px rgba(60, 64, 67, 0.3), 0px 1px 3px 1px rgba(60, 64, 67, 0.15);\n",
              "      fill: #174EA6;\n",
              "    }\n",
              "\n",
              "    [theme=dark] .colab-df-convert {\n",
              "      background-color: #3B4455;\n",
              "      fill: #D2E3FC;\n",
              "    }\n",
              "\n",
              "    [theme=dark] .colab-df-convert:hover {\n",
              "      background-color: #434B5C;\n",
              "      box-shadow: 0px 1px 3px 1px rgba(0, 0, 0, 0.15);\n",
              "      filter: drop-shadow(0px 1px 2px rgba(0, 0, 0, 0.3));\n",
              "      fill: #FFFFFF;\n",
              "    }\n",
              "  </style>\n",
              "\n",
              "      <script>\n",
              "        const buttonEl =\n",
              "          document.querySelector('#df-4eb89bc1-aff4-42c0-92e6-22b392891086 button.colab-df-convert');\n",
              "        buttonEl.style.display =\n",
              "          google.colab.kernel.accessAllowed ? 'block' : 'none';\n",
              "\n",
              "        async function convertToInteractive(key) {\n",
              "          const element = document.querySelector('#df-4eb89bc1-aff4-42c0-92e6-22b392891086');\n",
              "          const dataTable =\n",
              "            await google.colab.kernel.invokeFunction('convertToInteractive',\n",
              "                                                     [key], {});\n",
              "          if (!dataTable) return;\n",
              "\n",
              "          const docLinkHtml = 'Like what you see? Visit the ' +\n",
              "            '<a target=\"_blank\" href=https://colab.research.google.com/notebooks/data_table.ipynb>data table notebook</a>'\n",
              "            + ' to learn more about interactive tables.';\n",
              "          element.innerHTML = '';\n",
              "          dataTable['output_type'] = 'display_data';\n",
              "          await google.colab.output.renderOutput(dataTable, element);\n",
              "          const docLink = document.createElement('div');\n",
              "          docLink.innerHTML = docLinkHtml;\n",
              "          element.appendChild(docLink);\n",
              "        }\n",
              "      </script>\n",
              "    </div>\n",
              "  </div>\n",
              "  "
            ]
          },
          "metadata": {},
          "execution_count": 351
        }
      ],
      "source": [
        "df4_clean = df4[df4['기준 년코드'] == 2022].reset_index(drop = True)\n",
        "df4_clean2 = df4_clean[['상권_코드', '총_생활인구_수']]\n",
        "df4_clean2.head(3)\n",
        "\n",
        "#총 생활인구 수 특성으로 추가"
      ]
    },
    {
      "cell_type": "code",
      "execution_count": null,
      "metadata": {
        "colab": {
          "base_uri": "https://localhost:8080/",
          "height": 424
        },
        "id": "XF6P1HL8IE0n",
        "outputId": "a9053d45-1d5b-4c49-e90e-94ea8514de8c"
      },
      "outputs": [
        {
          "output_type": "execute_result",
          "data": {
            "text/plain": [
              "      기준_년_코드 상권_구분_코드_명    상권 코드  총 상주인구 수                 상권 코드 명\n",
              "0        2022       관광특구  1001496        33             강남 마이스 관광특구\n",
              "1        2022       관광특구  1001495     10693                 잠실 관광특구\n",
              "2        2022       관광특구  1001494      2206              종로?청계 관광특구\n",
              "3        2022       관광특구  1001493      2951            동대문패션타운 관광특구\n",
              "4        2022       관광특구  1001492      1172  명동 남대문 북창동 다동 무교동 관광특구\n",
              "...       ...        ...      ...       ...                     ...\n",
              "1630     2022       골목상권  2110005      1877                     세검정\n",
              "1631     2022       골목상권  2110004       510                  대신고등학교\n",
              "1632     2022       골목상권  2110003      3457                 세검정초등학교\n",
              "1633     2022       골목상권  2110002       701                 독립문역 1번\n",
              "1634     2022       골목상권  2110001      1190                  이북5도청사\n",
              "\n",
              "[1635 rows x 5 columns]"
            ],
            "text/html": [
              "\n",
              "  <div id=\"df-41a501fd-e182-4537-9b9a-4197d7f23320\">\n",
              "    <div class=\"colab-df-container\">\n",
              "      <div>\n",
              "<style scoped>\n",
              "    .dataframe tbody tr th:only-of-type {\n",
              "        vertical-align: middle;\n",
              "    }\n",
              "\n",
              "    .dataframe tbody tr th {\n",
              "        vertical-align: top;\n",
              "    }\n",
              "\n",
              "    .dataframe thead th {\n",
              "        text-align: right;\n",
              "    }\n",
              "</style>\n",
              "<table border=\"1\" class=\"dataframe\">\n",
              "  <thead>\n",
              "    <tr style=\"text-align: right;\">\n",
              "      <th></th>\n",
              "      <th>기준_년_코드</th>\n",
              "      <th>상권_구분_코드_명</th>\n",
              "      <th>상권 코드</th>\n",
              "      <th>총 상주인구 수</th>\n",
              "      <th>상권 코드 명</th>\n",
              "    </tr>\n",
              "  </thead>\n",
              "  <tbody>\n",
              "    <tr>\n",
              "      <th>0</th>\n",
              "      <td>2022</td>\n",
              "      <td>관광특구</td>\n",
              "      <td>1001496</td>\n",
              "      <td>33</td>\n",
              "      <td>강남 마이스 관광특구</td>\n",
              "    </tr>\n",
              "    <tr>\n",
              "      <th>1</th>\n",
              "      <td>2022</td>\n",
              "      <td>관광특구</td>\n",
              "      <td>1001495</td>\n",
              "      <td>10693</td>\n",
              "      <td>잠실 관광특구</td>\n",
              "    </tr>\n",
              "    <tr>\n",
              "      <th>2</th>\n",
              "      <td>2022</td>\n",
              "      <td>관광특구</td>\n",
              "      <td>1001494</td>\n",
              "      <td>2206</td>\n",
              "      <td>종로?청계 관광특구</td>\n",
              "    </tr>\n",
              "    <tr>\n",
              "      <th>3</th>\n",
              "      <td>2022</td>\n",
              "      <td>관광특구</td>\n",
              "      <td>1001493</td>\n",
              "      <td>2951</td>\n",
              "      <td>동대문패션타운 관광특구</td>\n",
              "    </tr>\n",
              "    <tr>\n",
              "      <th>4</th>\n",
              "      <td>2022</td>\n",
              "      <td>관광특구</td>\n",
              "      <td>1001492</td>\n",
              "      <td>1172</td>\n",
              "      <td>명동 남대문 북창동 다동 무교동 관광특구</td>\n",
              "    </tr>\n",
              "    <tr>\n",
              "      <th>...</th>\n",
              "      <td>...</td>\n",
              "      <td>...</td>\n",
              "      <td>...</td>\n",
              "      <td>...</td>\n",
              "      <td>...</td>\n",
              "    </tr>\n",
              "    <tr>\n",
              "      <th>1630</th>\n",
              "      <td>2022</td>\n",
              "      <td>골목상권</td>\n",
              "      <td>2110005</td>\n",
              "      <td>1877</td>\n",
              "      <td>세검정</td>\n",
              "    </tr>\n",
              "    <tr>\n",
              "      <th>1631</th>\n",
              "      <td>2022</td>\n",
              "      <td>골목상권</td>\n",
              "      <td>2110004</td>\n",
              "      <td>510</td>\n",
              "      <td>대신고등학교</td>\n",
              "    </tr>\n",
              "    <tr>\n",
              "      <th>1632</th>\n",
              "      <td>2022</td>\n",
              "      <td>골목상권</td>\n",
              "      <td>2110003</td>\n",
              "      <td>3457</td>\n",
              "      <td>세검정초등학교</td>\n",
              "    </tr>\n",
              "    <tr>\n",
              "      <th>1633</th>\n",
              "      <td>2022</td>\n",
              "      <td>골목상권</td>\n",
              "      <td>2110002</td>\n",
              "      <td>701</td>\n",
              "      <td>독립문역 1번</td>\n",
              "    </tr>\n",
              "    <tr>\n",
              "      <th>1634</th>\n",
              "      <td>2022</td>\n",
              "      <td>골목상권</td>\n",
              "      <td>2110001</td>\n",
              "      <td>1190</td>\n",
              "      <td>이북5도청사</td>\n",
              "    </tr>\n",
              "  </tbody>\n",
              "</table>\n",
              "<p>1635 rows × 5 columns</p>\n",
              "</div>\n",
              "      <button class=\"colab-df-convert\" onclick=\"convertToInteractive('df-41a501fd-e182-4537-9b9a-4197d7f23320')\"\n",
              "              title=\"Convert this dataframe to an interactive table.\"\n",
              "              style=\"display:none;\">\n",
              "        \n",
              "  <svg xmlns=\"http://www.w3.org/2000/svg\" height=\"24px\"viewBox=\"0 0 24 24\"\n",
              "       width=\"24px\">\n",
              "    <path d=\"M0 0h24v24H0V0z\" fill=\"none\"/>\n",
              "    <path d=\"M18.56 5.44l.94 2.06.94-2.06 2.06-.94-2.06-.94-.94-2.06-.94 2.06-2.06.94zm-11 1L8.5 8.5l.94-2.06 2.06-.94-2.06-.94L8.5 2.5l-.94 2.06-2.06.94zm10 10l.94 2.06.94-2.06 2.06-.94-2.06-.94-.94-2.06-.94 2.06-2.06.94z\"/><path d=\"M17.41 7.96l-1.37-1.37c-.4-.4-.92-.59-1.43-.59-.52 0-1.04.2-1.43.59L10.3 9.45l-7.72 7.72c-.78.78-.78 2.05 0 2.83L4 21.41c.39.39.9.59 1.41.59.51 0 1.02-.2 1.41-.59l7.78-7.78 2.81-2.81c.8-.78.8-2.07 0-2.86zM5.41 20L4 18.59l7.72-7.72 1.47 1.35L5.41 20z\"/>\n",
              "  </svg>\n",
              "      </button>\n",
              "      \n",
              "  <style>\n",
              "    .colab-df-container {\n",
              "      display:flex;\n",
              "      flex-wrap:wrap;\n",
              "      gap: 12px;\n",
              "    }\n",
              "\n",
              "    .colab-df-convert {\n",
              "      background-color: #E8F0FE;\n",
              "      border: none;\n",
              "      border-radius: 50%;\n",
              "      cursor: pointer;\n",
              "      display: none;\n",
              "      fill: #1967D2;\n",
              "      height: 32px;\n",
              "      padding: 0 0 0 0;\n",
              "      width: 32px;\n",
              "    }\n",
              "\n",
              "    .colab-df-convert:hover {\n",
              "      background-color: #E2EBFA;\n",
              "      box-shadow: 0px 1px 2px rgba(60, 64, 67, 0.3), 0px 1px 3px 1px rgba(60, 64, 67, 0.15);\n",
              "      fill: #174EA6;\n",
              "    }\n",
              "\n",
              "    [theme=dark] .colab-df-convert {\n",
              "      background-color: #3B4455;\n",
              "      fill: #D2E3FC;\n",
              "    }\n",
              "\n",
              "    [theme=dark] .colab-df-convert:hover {\n",
              "      background-color: #434B5C;\n",
              "      box-shadow: 0px 1px 3px 1px rgba(0, 0, 0, 0.15);\n",
              "      filter: drop-shadow(0px 1px 2px rgba(0, 0, 0, 0.3));\n",
              "      fill: #FFFFFF;\n",
              "    }\n",
              "  </style>\n",
              "\n",
              "      <script>\n",
              "        const buttonEl =\n",
              "          document.querySelector('#df-41a501fd-e182-4537-9b9a-4197d7f23320 button.colab-df-convert');\n",
              "        buttonEl.style.display =\n",
              "          google.colab.kernel.accessAllowed ? 'block' : 'none';\n",
              "\n",
              "        async function convertToInteractive(key) {\n",
              "          const element = document.querySelector('#df-41a501fd-e182-4537-9b9a-4197d7f23320');\n",
              "          const dataTable =\n",
              "            await google.colab.kernel.invokeFunction('convertToInteractive',\n",
              "                                                     [key], {});\n",
              "          if (!dataTable) return;\n",
              "\n",
              "          const docLinkHtml = 'Like what you see? Visit the ' +\n",
              "            '<a target=\"_blank\" href=https://colab.research.google.com/notebooks/data_table.ipynb>data table notebook</a>'\n",
              "            + ' to learn more about interactive tables.';\n",
              "          element.innerHTML = '';\n",
              "          dataTable['output_type'] = 'display_data';\n",
              "          await google.colab.output.renderOutput(dataTable, element);\n",
              "          const docLink = document.createElement('div');\n",
              "          docLink.innerHTML = docLinkHtml;\n",
              "          element.appendChild(docLink);\n",
              "        }\n",
              "      </script>\n",
              "    </div>\n",
              "  </div>\n",
              "  "
            ]
          },
          "metadata": {},
          "execution_count": 352
        }
      ],
      "source": [
        "df5"
      ]
    },
    {
      "cell_type": "code",
      "execution_count": null,
      "metadata": {
        "colab": {
          "base_uri": "https://localhost:8080/",
          "height": 143
        },
        "id": "T8g6vIRwyoc3",
        "outputId": "c2f5f651-2807-419f-9206-b602566f147e"
      },
      "outputs": [
        {
          "output_type": "execute_result",
          "data": {
            "text/plain": [
              "     상권_코드  총 상주인구 수\n",
              "0  1001496        33\n",
              "1  1001495     10693\n",
              "2  1001494      2206"
            ],
            "text/html": [
              "\n",
              "  <div id=\"df-4fdff152-daec-449f-8ecd-f9d95f6e8b0b\">\n",
              "    <div class=\"colab-df-container\">\n",
              "      <div>\n",
              "<style scoped>\n",
              "    .dataframe tbody tr th:only-of-type {\n",
              "        vertical-align: middle;\n",
              "    }\n",
              "\n",
              "    .dataframe tbody tr th {\n",
              "        vertical-align: top;\n",
              "    }\n",
              "\n",
              "    .dataframe thead th {\n",
              "        text-align: right;\n",
              "    }\n",
              "</style>\n",
              "<table border=\"1\" class=\"dataframe\">\n",
              "  <thead>\n",
              "    <tr style=\"text-align: right;\">\n",
              "      <th></th>\n",
              "      <th>상권_코드</th>\n",
              "      <th>총 상주인구 수</th>\n",
              "    </tr>\n",
              "  </thead>\n",
              "  <tbody>\n",
              "    <tr>\n",
              "      <th>0</th>\n",
              "      <td>1001496</td>\n",
              "      <td>33</td>\n",
              "    </tr>\n",
              "    <tr>\n",
              "      <th>1</th>\n",
              "      <td>1001495</td>\n",
              "      <td>10693</td>\n",
              "    </tr>\n",
              "    <tr>\n",
              "      <th>2</th>\n",
              "      <td>1001494</td>\n",
              "      <td>2206</td>\n",
              "    </tr>\n",
              "  </tbody>\n",
              "</table>\n",
              "</div>\n",
              "      <button class=\"colab-df-convert\" onclick=\"convertToInteractive('df-4fdff152-daec-449f-8ecd-f9d95f6e8b0b')\"\n",
              "              title=\"Convert this dataframe to an interactive table.\"\n",
              "              style=\"display:none;\">\n",
              "        \n",
              "  <svg xmlns=\"http://www.w3.org/2000/svg\" height=\"24px\"viewBox=\"0 0 24 24\"\n",
              "       width=\"24px\">\n",
              "    <path d=\"M0 0h24v24H0V0z\" fill=\"none\"/>\n",
              "    <path d=\"M18.56 5.44l.94 2.06.94-2.06 2.06-.94-2.06-.94-.94-2.06-.94 2.06-2.06.94zm-11 1L8.5 8.5l.94-2.06 2.06-.94-2.06-.94L8.5 2.5l-.94 2.06-2.06.94zm10 10l.94 2.06.94-2.06 2.06-.94-2.06-.94-.94-2.06-.94 2.06-2.06.94z\"/><path d=\"M17.41 7.96l-1.37-1.37c-.4-.4-.92-.59-1.43-.59-.52 0-1.04.2-1.43.59L10.3 9.45l-7.72 7.72c-.78.78-.78 2.05 0 2.83L4 21.41c.39.39.9.59 1.41.59.51 0 1.02-.2 1.41-.59l7.78-7.78 2.81-2.81c.8-.78.8-2.07 0-2.86zM5.41 20L4 18.59l7.72-7.72 1.47 1.35L5.41 20z\"/>\n",
              "  </svg>\n",
              "      </button>\n",
              "      \n",
              "  <style>\n",
              "    .colab-df-container {\n",
              "      display:flex;\n",
              "      flex-wrap:wrap;\n",
              "      gap: 12px;\n",
              "    }\n",
              "\n",
              "    .colab-df-convert {\n",
              "      background-color: #E8F0FE;\n",
              "      border: none;\n",
              "      border-radius: 50%;\n",
              "      cursor: pointer;\n",
              "      display: none;\n",
              "      fill: #1967D2;\n",
              "      height: 32px;\n",
              "      padding: 0 0 0 0;\n",
              "      width: 32px;\n",
              "    }\n",
              "\n",
              "    .colab-df-convert:hover {\n",
              "      background-color: #E2EBFA;\n",
              "      box-shadow: 0px 1px 2px rgba(60, 64, 67, 0.3), 0px 1px 3px 1px rgba(60, 64, 67, 0.15);\n",
              "      fill: #174EA6;\n",
              "    }\n",
              "\n",
              "    [theme=dark] .colab-df-convert {\n",
              "      background-color: #3B4455;\n",
              "      fill: #D2E3FC;\n",
              "    }\n",
              "\n",
              "    [theme=dark] .colab-df-convert:hover {\n",
              "      background-color: #434B5C;\n",
              "      box-shadow: 0px 1px 3px 1px rgba(0, 0, 0, 0.15);\n",
              "      filter: drop-shadow(0px 1px 2px rgba(0, 0, 0, 0.3));\n",
              "      fill: #FFFFFF;\n",
              "    }\n",
              "  </style>\n",
              "\n",
              "      <script>\n",
              "        const buttonEl =\n",
              "          document.querySelector('#df-4fdff152-daec-449f-8ecd-f9d95f6e8b0b button.colab-df-convert');\n",
              "        buttonEl.style.display =\n",
              "          google.colab.kernel.accessAllowed ? 'block' : 'none';\n",
              "\n",
              "        async function convertToInteractive(key) {\n",
              "          const element = document.querySelector('#df-4fdff152-daec-449f-8ecd-f9d95f6e8b0b');\n",
              "          const dataTable =\n",
              "            await google.colab.kernel.invokeFunction('convertToInteractive',\n",
              "                                                     [key], {});\n",
              "          if (!dataTable) return;\n",
              "\n",
              "          const docLinkHtml = 'Like what you see? Visit the ' +\n",
              "            '<a target=\"_blank\" href=https://colab.research.google.com/notebooks/data_table.ipynb>data table notebook</a>'\n",
              "            + ' to learn more about interactive tables.';\n",
              "          element.innerHTML = '';\n",
              "          dataTable['output_type'] = 'display_data';\n",
              "          await google.colab.output.renderOutput(dataTable, element);\n",
              "          const docLink = document.createElement('div');\n",
              "          docLink.innerHTML = docLinkHtml;\n",
              "          element.appendChild(docLink);\n",
              "        }\n",
              "      </script>\n",
              "    </div>\n",
              "  </div>\n",
              "  "
            ]
          },
          "metadata": {},
          "execution_count": 353
        }
      ],
      "source": [
        "df5_clean2 = df5[['상권 코드', '총 상주인구 수']]\n",
        "df5_clean2.rename(columns = {'상권 코드' : '상권_코드'}, inplace=True)\n",
        "df5_clean2.head(3)"
      ]
    },
    {
      "cell_type": "code",
      "execution_count": null,
      "metadata": {
        "colab": {
          "base_uri": "https://localhost:8080/",
          "height": 572
        },
        "id": "KXGvljeWIAsP",
        "outputId": "f0aadd01-7365-437f-e225-0c8dd7780fa1"
      },
      "outputs": [
        {
          "output_type": "execute_result",
          "data": {
            "text/plain": [
              "     상권_구분_코드_명    상권_코드      상권_코드_명 서비스_업종_코드_명  주중_매출_비율  주말_매출_비율  \\\n",
              "0          관광특구  1001496  강남 마이스 관광특구       커피-음료      71.0      29.0   \n",
              "1          관광특구  1001496  강남 마이스 관광특구       분식전문점      64.0      37.0   \n",
              "2          관광특구  1001496  강남 마이스 관광특구      패스트푸드점      68.0      32.0   \n",
              "3          관광특구  1001496  강남 마이스 관광특구       양식음식점      65.0      35.0   \n",
              "4          관광특구  1001496  강남 마이스 관광특구       일식음식점      67.0      33.0   \n",
              "...         ...      ...          ...         ...       ...       ...   \n",
              "8409        NaN  2130023          NaN         NaN       NaN       NaN   \n",
              "8410        NaN  2130008          NaN         NaN       NaN       NaN   \n",
              "8411        NaN  2130006          NaN         NaN       NaN       NaN   \n",
              "8412        NaN  2130003          NaN         NaN       NaN       NaN   \n",
              "8413        NaN  2120115          NaN         NaN       NaN       NaN   \n",
              "\n",
              "      월요일_매출_비율  화요일_매출_비율  수요일_매출_비율  목요일_매출_비율  ...   점포수  평균     점포당_평균_매출  \\\n",
              "0          13.0       13.0       14.0       16.0  ...  52.0 NaN  5.052296e+07   \n",
              "1           8.0        8.0       17.0       15.0  ...  29.0 NaN  2.538542e+08   \n",
              "2          12.0       12.0       14.0       15.0  ...  14.0 NaN  1.088688e+08   \n",
              "3          12.0       12.0       14.0       13.0  ...  35.0 NaN  7.507100e+07   \n",
              "4          12.0       13.0       14.0       14.0  ...  20.0 NaN  1.805877e+08   \n",
              "...         ...        ...        ...        ...  ...   ...  ..           ...   \n",
              "8409        NaN        NaN        NaN        NaN  ...   NaN NaN           NaN   \n",
              "8410        NaN        NaN        NaN        NaN  ...   NaN NaN           NaN   \n",
              "8411        NaN        NaN        NaN        NaN  ...   NaN NaN           NaN   \n",
              "8412        NaN        NaN        NaN        NaN  ...   NaN NaN           NaN   \n",
              "8413        NaN        NaN        NaN        NaN  ...   NaN NaN           NaN   \n",
              "\n",
              "      평균도달여부     분기당_매출_금액  총_직장_인구_수  월_평균_소득_금액  지출_총금액  총_생활인구_수  총 상주인구 수  \n",
              "0          1  2.627194e+09    15904.0   7010917.0     NaN   92815.0      33.0  \n",
              "1          1  7.361772e+09    15904.0   7010917.0     NaN   92815.0      33.0  \n",
              "2          1  1.524163e+09    15904.0   7010917.0     NaN   92815.0      33.0  \n",
              "3          1  2.627485e+09    15904.0   7010917.0     NaN   92815.0      33.0  \n",
              "4          1  3.611754e+09    15904.0   7010917.0     NaN   92815.0      33.0  \n",
              "...      ...           ...        ...         ...     ...       ...       ...  \n",
              "8409     NaN           NaN        NaN         NaN     NaN   55144.0       NaN  \n",
              "8410     NaN           NaN        NaN         NaN     NaN   43601.0       NaN  \n",
              "8411     NaN           NaN        NaN         NaN     NaN   35922.0       NaN  \n",
              "8412     NaN           NaN        NaN         NaN     NaN   51431.0       NaN  \n",
              "8413     NaN           NaN        NaN         NaN     NaN   15206.0       NaN  \n",
              "\n",
              "[8414 rows x 37 columns]"
            ],
            "text/html": [
              "\n",
              "  <div id=\"df-bda3083b-9030-4eb0-b9b2-ff08769eb30a\">\n",
              "    <div class=\"colab-df-container\">\n",
              "      <div>\n",
              "<style scoped>\n",
              "    .dataframe tbody tr th:only-of-type {\n",
              "        vertical-align: middle;\n",
              "    }\n",
              "\n",
              "    .dataframe tbody tr th {\n",
              "        vertical-align: top;\n",
              "    }\n",
              "\n",
              "    .dataframe thead th {\n",
              "        text-align: right;\n",
              "    }\n",
              "</style>\n",
              "<table border=\"1\" class=\"dataframe\">\n",
              "  <thead>\n",
              "    <tr style=\"text-align: right;\">\n",
              "      <th></th>\n",
              "      <th>상권_구분_코드_명</th>\n",
              "      <th>상권_코드</th>\n",
              "      <th>상권_코드_명</th>\n",
              "      <th>서비스_업종_코드_명</th>\n",
              "      <th>주중_매출_비율</th>\n",
              "      <th>주말_매출_비율</th>\n",
              "      <th>월요일_매출_비율</th>\n",
              "      <th>화요일_매출_비율</th>\n",
              "      <th>수요일_매출_비율</th>\n",
              "      <th>목요일_매출_비율</th>\n",
              "      <th>...</th>\n",
              "      <th>점포수</th>\n",
              "      <th>평균</th>\n",
              "      <th>점포당_평균_매출</th>\n",
              "      <th>평균도달여부</th>\n",
              "      <th>분기당_매출_금액</th>\n",
              "      <th>총_직장_인구_수</th>\n",
              "      <th>월_평균_소득_금액</th>\n",
              "      <th>지출_총금액</th>\n",
              "      <th>총_생활인구_수</th>\n",
              "      <th>총 상주인구 수</th>\n",
              "    </tr>\n",
              "  </thead>\n",
              "  <tbody>\n",
              "    <tr>\n",
              "      <th>0</th>\n",
              "      <td>관광특구</td>\n",
              "      <td>1001496</td>\n",
              "      <td>강남 마이스 관광특구</td>\n",
              "      <td>커피-음료</td>\n",
              "      <td>71.0</td>\n",
              "      <td>29.0</td>\n",
              "      <td>13.0</td>\n",
              "      <td>13.0</td>\n",
              "      <td>14.0</td>\n",
              "      <td>16.0</td>\n",
              "      <td>...</td>\n",
              "      <td>52.0</td>\n",
              "      <td>NaN</td>\n",
              "      <td>5.052296e+07</td>\n",
              "      <td>1</td>\n",
              "      <td>2.627194e+09</td>\n",
              "      <td>15904.0</td>\n",
              "      <td>7010917.0</td>\n",
              "      <td>NaN</td>\n",
              "      <td>92815.0</td>\n",
              "      <td>33.0</td>\n",
              "    </tr>\n",
              "    <tr>\n",
              "      <th>1</th>\n",
              "      <td>관광특구</td>\n",
              "      <td>1001496</td>\n",
              "      <td>강남 마이스 관광특구</td>\n",
              "      <td>분식전문점</td>\n",
              "      <td>64.0</td>\n",
              "      <td>37.0</td>\n",
              "      <td>8.0</td>\n",
              "      <td>8.0</td>\n",
              "      <td>17.0</td>\n",
              "      <td>15.0</td>\n",
              "      <td>...</td>\n",
              "      <td>29.0</td>\n",
              "      <td>NaN</td>\n",
              "      <td>2.538542e+08</td>\n",
              "      <td>1</td>\n",
              "      <td>7.361772e+09</td>\n",
              "      <td>15904.0</td>\n",
              "      <td>7010917.0</td>\n",
              "      <td>NaN</td>\n",
              "      <td>92815.0</td>\n",
              "      <td>33.0</td>\n",
              "    </tr>\n",
              "    <tr>\n",
              "      <th>2</th>\n",
              "      <td>관광특구</td>\n",
              "      <td>1001496</td>\n",
              "      <td>강남 마이스 관광특구</td>\n",
              "      <td>패스트푸드점</td>\n",
              "      <td>68.0</td>\n",
              "      <td>32.0</td>\n",
              "      <td>12.0</td>\n",
              "      <td>12.0</td>\n",
              "      <td>14.0</td>\n",
              "      <td>15.0</td>\n",
              "      <td>...</td>\n",
              "      <td>14.0</td>\n",
              "      <td>NaN</td>\n",
              "      <td>1.088688e+08</td>\n",
              "      <td>1</td>\n",
              "      <td>1.524163e+09</td>\n",
              "      <td>15904.0</td>\n",
              "      <td>7010917.0</td>\n",
              "      <td>NaN</td>\n",
              "      <td>92815.0</td>\n",
              "      <td>33.0</td>\n",
              "    </tr>\n",
              "    <tr>\n",
              "      <th>3</th>\n",
              "      <td>관광특구</td>\n",
              "      <td>1001496</td>\n",
              "      <td>강남 마이스 관광특구</td>\n",
              "      <td>양식음식점</td>\n",
              "      <td>65.0</td>\n",
              "      <td>35.0</td>\n",
              "      <td>12.0</td>\n",
              "      <td>12.0</td>\n",
              "      <td>14.0</td>\n",
              "      <td>13.0</td>\n",
              "      <td>...</td>\n",
              "      <td>35.0</td>\n",
              "      <td>NaN</td>\n",
              "      <td>7.507100e+07</td>\n",
              "      <td>1</td>\n",
              "      <td>2.627485e+09</td>\n",
              "      <td>15904.0</td>\n",
              "      <td>7010917.0</td>\n",
              "      <td>NaN</td>\n",
              "      <td>92815.0</td>\n",
              "      <td>33.0</td>\n",
              "    </tr>\n",
              "    <tr>\n",
              "      <th>4</th>\n",
              "      <td>관광특구</td>\n",
              "      <td>1001496</td>\n",
              "      <td>강남 마이스 관광특구</td>\n",
              "      <td>일식음식점</td>\n",
              "      <td>67.0</td>\n",
              "      <td>33.0</td>\n",
              "      <td>12.0</td>\n",
              "      <td>13.0</td>\n",
              "      <td>14.0</td>\n",
              "      <td>14.0</td>\n",
              "      <td>...</td>\n",
              "      <td>20.0</td>\n",
              "      <td>NaN</td>\n",
              "      <td>1.805877e+08</td>\n",
              "      <td>1</td>\n",
              "      <td>3.611754e+09</td>\n",
              "      <td>15904.0</td>\n",
              "      <td>7010917.0</td>\n",
              "      <td>NaN</td>\n",
              "      <td>92815.0</td>\n",
              "      <td>33.0</td>\n",
              "    </tr>\n",
              "    <tr>\n",
              "      <th>...</th>\n",
              "      <td>...</td>\n",
              "      <td>...</td>\n",
              "      <td>...</td>\n",
              "      <td>...</td>\n",
              "      <td>...</td>\n",
              "      <td>...</td>\n",
              "      <td>...</td>\n",
              "      <td>...</td>\n",
              "      <td>...</td>\n",
              "      <td>...</td>\n",
              "      <td>...</td>\n",
              "      <td>...</td>\n",
              "      <td>...</td>\n",
              "      <td>...</td>\n",
              "      <td>...</td>\n",
              "      <td>...</td>\n",
              "      <td>...</td>\n",
              "      <td>...</td>\n",
              "      <td>...</td>\n",
              "      <td>...</td>\n",
              "      <td>...</td>\n",
              "    </tr>\n",
              "    <tr>\n",
              "      <th>8409</th>\n",
              "      <td>NaN</td>\n",
              "      <td>2130023</td>\n",
              "      <td>NaN</td>\n",
              "      <td>NaN</td>\n",
              "      <td>NaN</td>\n",
              "      <td>NaN</td>\n",
              "      <td>NaN</td>\n",
              "      <td>NaN</td>\n",
              "      <td>NaN</td>\n",
              "      <td>NaN</td>\n",
              "      <td>...</td>\n",
              "      <td>NaN</td>\n",
              "      <td>NaN</td>\n",
              "      <td>NaN</td>\n",
              "      <td>NaN</td>\n",
              "      <td>NaN</td>\n",
              "      <td>NaN</td>\n",
              "      <td>NaN</td>\n",
              "      <td>NaN</td>\n",
              "      <td>55144.0</td>\n",
              "      <td>NaN</td>\n",
              "    </tr>\n",
              "    <tr>\n",
              "      <th>8410</th>\n",
              "      <td>NaN</td>\n",
              "      <td>2130008</td>\n",
              "      <td>NaN</td>\n",
              "      <td>NaN</td>\n",
              "      <td>NaN</td>\n",
              "      <td>NaN</td>\n",
              "      <td>NaN</td>\n",
              "      <td>NaN</td>\n",
              "      <td>NaN</td>\n",
              "      <td>NaN</td>\n",
              "      <td>...</td>\n",
              "      <td>NaN</td>\n",
              "      <td>NaN</td>\n",
              "      <td>NaN</td>\n",
              "      <td>NaN</td>\n",
              "      <td>NaN</td>\n",
              "      <td>NaN</td>\n",
              "      <td>NaN</td>\n",
              "      <td>NaN</td>\n",
              "      <td>43601.0</td>\n",
              "      <td>NaN</td>\n",
              "    </tr>\n",
              "    <tr>\n",
              "      <th>8411</th>\n",
              "      <td>NaN</td>\n",
              "      <td>2130006</td>\n",
              "      <td>NaN</td>\n",
              "      <td>NaN</td>\n",
              "      <td>NaN</td>\n",
              "      <td>NaN</td>\n",
              "      <td>NaN</td>\n",
              "      <td>NaN</td>\n",
              "      <td>NaN</td>\n",
              "      <td>NaN</td>\n",
              "      <td>...</td>\n",
              "      <td>NaN</td>\n",
              "      <td>NaN</td>\n",
              "      <td>NaN</td>\n",
              "      <td>NaN</td>\n",
              "      <td>NaN</td>\n",
              "      <td>NaN</td>\n",
              "      <td>NaN</td>\n",
              "      <td>NaN</td>\n",
              "      <td>35922.0</td>\n",
              "      <td>NaN</td>\n",
              "    </tr>\n",
              "    <tr>\n",
              "      <th>8412</th>\n",
              "      <td>NaN</td>\n",
              "      <td>2130003</td>\n",
              "      <td>NaN</td>\n",
              "      <td>NaN</td>\n",
              "      <td>NaN</td>\n",
              "      <td>NaN</td>\n",
              "      <td>NaN</td>\n",
              "      <td>NaN</td>\n",
              "      <td>NaN</td>\n",
              "      <td>NaN</td>\n",
              "      <td>...</td>\n",
              "      <td>NaN</td>\n",
              "      <td>NaN</td>\n",
              "      <td>NaN</td>\n",
              "      <td>NaN</td>\n",
              "      <td>NaN</td>\n",
              "      <td>NaN</td>\n",
              "      <td>NaN</td>\n",
              "      <td>NaN</td>\n",
              "      <td>51431.0</td>\n",
              "      <td>NaN</td>\n",
              "    </tr>\n",
              "    <tr>\n",
              "      <th>8413</th>\n",
              "      <td>NaN</td>\n",
              "      <td>2120115</td>\n",
              "      <td>NaN</td>\n",
              "      <td>NaN</td>\n",
              "      <td>NaN</td>\n",
              "      <td>NaN</td>\n",
              "      <td>NaN</td>\n",
              "      <td>NaN</td>\n",
              "      <td>NaN</td>\n",
              "      <td>NaN</td>\n",
              "      <td>...</td>\n",
              "      <td>NaN</td>\n",
              "      <td>NaN</td>\n",
              "      <td>NaN</td>\n",
              "      <td>NaN</td>\n",
              "      <td>NaN</td>\n",
              "      <td>NaN</td>\n",
              "      <td>NaN</td>\n",
              "      <td>NaN</td>\n",
              "      <td>15206.0</td>\n",
              "      <td>NaN</td>\n",
              "    </tr>\n",
              "  </tbody>\n",
              "</table>\n",
              "<p>8414 rows × 37 columns</p>\n",
              "</div>\n",
              "      <button class=\"colab-df-convert\" onclick=\"convertToInteractive('df-bda3083b-9030-4eb0-b9b2-ff08769eb30a')\"\n",
              "              title=\"Convert this dataframe to an interactive table.\"\n",
              "              style=\"display:none;\">\n",
              "        \n",
              "  <svg xmlns=\"http://www.w3.org/2000/svg\" height=\"24px\"viewBox=\"0 0 24 24\"\n",
              "       width=\"24px\">\n",
              "    <path d=\"M0 0h24v24H0V0z\" fill=\"none\"/>\n",
              "    <path d=\"M18.56 5.44l.94 2.06.94-2.06 2.06-.94-2.06-.94-.94-2.06-.94 2.06-2.06.94zm-11 1L8.5 8.5l.94-2.06 2.06-.94-2.06-.94L8.5 2.5l-.94 2.06-2.06.94zm10 10l.94 2.06.94-2.06 2.06-.94-2.06-.94-.94-2.06-.94 2.06-2.06.94z\"/><path d=\"M17.41 7.96l-1.37-1.37c-.4-.4-.92-.59-1.43-.59-.52 0-1.04.2-1.43.59L10.3 9.45l-7.72 7.72c-.78.78-.78 2.05 0 2.83L4 21.41c.39.39.9.59 1.41.59.51 0 1.02-.2 1.41-.59l7.78-7.78 2.81-2.81c.8-.78.8-2.07 0-2.86zM5.41 20L4 18.59l7.72-7.72 1.47 1.35L5.41 20z\"/>\n",
              "  </svg>\n",
              "      </button>\n",
              "      \n",
              "  <style>\n",
              "    .colab-df-container {\n",
              "      display:flex;\n",
              "      flex-wrap:wrap;\n",
              "      gap: 12px;\n",
              "    }\n",
              "\n",
              "    .colab-df-convert {\n",
              "      background-color: #E8F0FE;\n",
              "      border: none;\n",
              "      border-radius: 50%;\n",
              "      cursor: pointer;\n",
              "      display: none;\n",
              "      fill: #1967D2;\n",
              "      height: 32px;\n",
              "      padding: 0 0 0 0;\n",
              "      width: 32px;\n",
              "    }\n",
              "\n",
              "    .colab-df-convert:hover {\n",
              "      background-color: #E2EBFA;\n",
              "      box-shadow: 0px 1px 2px rgba(60, 64, 67, 0.3), 0px 1px 3px 1px rgba(60, 64, 67, 0.15);\n",
              "      fill: #174EA6;\n",
              "    }\n",
              "\n",
              "    [theme=dark] .colab-df-convert {\n",
              "      background-color: #3B4455;\n",
              "      fill: #D2E3FC;\n",
              "    }\n",
              "\n",
              "    [theme=dark] .colab-df-convert:hover {\n",
              "      background-color: #434B5C;\n",
              "      box-shadow: 0px 1px 3px 1px rgba(0, 0, 0, 0.15);\n",
              "      filter: drop-shadow(0px 1px 2px rgba(0, 0, 0, 0.3));\n",
              "      fill: #FFFFFF;\n",
              "    }\n",
              "  </style>\n",
              "\n",
              "      <script>\n",
              "        const buttonEl =\n",
              "          document.querySelector('#df-bda3083b-9030-4eb0-b9b2-ff08769eb30a button.colab-df-convert');\n",
              "        buttonEl.style.display =\n",
              "          google.colab.kernel.accessAllowed ? 'block' : 'none';\n",
              "\n",
              "        async function convertToInteractive(key) {\n",
              "          const element = document.querySelector('#df-bda3083b-9030-4eb0-b9b2-ff08769eb30a');\n",
              "          const dataTable =\n",
              "            await google.colab.kernel.invokeFunction('convertToInteractive',\n",
              "                                                     [key], {});\n",
              "          if (!dataTable) return;\n",
              "\n",
              "          const docLinkHtml = 'Like what you see? Visit the ' +\n",
              "            '<a target=\"_blank\" href=https://colab.research.google.com/notebooks/data_table.ipynb>data table notebook</a>'\n",
              "            + ' to learn more about interactive tables.';\n",
              "          element.innerHTML = '';\n",
              "          dataTable['output_type'] = 'display_data';\n",
              "          await google.colab.output.renderOutput(dataTable, element);\n",
              "          const docLink = document.createElement('div');\n",
              "          docLink.innerHTML = docLinkHtml;\n",
              "          element.appendChild(docLink);\n",
              "        }\n",
              "      </script>\n",
              "    </div>\n",
              "  </div>\n",
              "  "
            ]
          },
          "metadata": {},
          "execution_count": 354
        }
      ],
      "source": [
        "import pandas as pd\n",
        "from functools import reduce\n",
        "data_frames = [df1_clean, df2_clean2,df3_clean2, df4_clean2, df5_clean2]\n",
        "df_merged = reduce(lambda  left,right: pd.merge(left,right,on=['상권_코드'],how='outer'), data_frames)\n",
        "df_merged"
      ]
    },
    {
      "cell_type": "code",
      "execution_count": null,
      "metadata": {
        "colab": {
          "base_uri": "https://localhost:8080/"
        },
        "id": "ybJEXuDfNGwj",
        "outputId": "33338973-8721-401a-d591-38fbe86b84bc"
      },
      "outputs": [
        {
          "output_type": "execute_result",
          "data": {
            "text/plain": [
              "Index(['상권_구분_코드_명', '상권_코드', '상권_코드_명', '서비스_업종_코드_명', '주중_매출_비율', '주말_매출_비율',\n",
              "       '월요일_매출_비율', '화요일_매출_비율', '수요일_매출_비율', '목요일_매출_비율', '금요일_매출_비율',\n",
              "       '토요일_매출_비율', '일요일_매출_비율', '시간대_00~06_매출_비율', '시간대_06~11_매출_비율',\n",
              "       '시간대_11~14_매출_비율', '시간대_14~17_매출_비율', '시간대_17~21_매출_비율',\n",
              "       '시간대_21~24_매출_비율', '남성_매출_비율', '여성_매출_비율', '연령대_10_매출_비율',\n",
              "       '연령대_20_매출_비율', '연령대_30_매출_비율', '연령대_40_매출_비율', '연령대_50_매출_비율',\n",
              "       '연령대_60_이상_매출_비율', '점포수', '평균', '점포당_평균_매출', '평균도달여부', '분기당_매출_금액',\n",
              "       '총_직장_인구_수', '월_평균_소득_금액', '지출_총금액', '총_생활인구_수', '총 상주인구 수'],\n",
              "      dtype='object')"
            ]
          },
          "metadata": {},
          "execution_count": 355
        }
      ],
      "source": [
        "del_ix =df_merged[df_merged['상권_코드_명'].isnull()].index\n",
        "df_merged_clean = df_merged.drop(del_ix, axis=0)\n",
        "df_merged_clean.columns\n",
        "\n",
        "#상권코드명 nan 없는 걸로 재정리"
      ]
    },
    {
      "cell_type": "code",
      "execution_count": null,
      "metadata": {
        "id": "sXk0vZUo0lsi"
      },
      "outputs": [],
      "source": [
        "df_merged_clean.rename(columns = {'상권_구분_코드_명': 'C/A Code Name', '상권_코드': 'C/A Code', \n",
        "                     '상권_코드_명' :'Name of C/A', '서비스_업종_코드_명' :'Industry Code Name', '주중_매출_비율' :'Weekdays S/R', '주말_매출_비율' : 'Weekend S/R',\n",
        "       '월요일_매출_비율':'Monday S/R', '화요일_매출_비율':'Tuesday S/R', '수요일_매출_비율':'Wednesday S/R', '목요일_매출_비율':'Thursday S/R', \n",
        "       '금요일_매출_비율':'Friday S/R', '토요일_매출_비율':'Saturday S/R', '일요일_매출_비율':'Sunday S/R', '시간대_00~06_매출_비율' :'00-06AM S/R', '시간대_06~11_매출_비율' :'06-11AM S/R',\n",
        "       '시간대_11~14_매출_비율':'11-02PM S/R', '시간대_14~17_매출_비율':'02-05PM S/R', '시간대_17~21_매출_비율':'05-09PM S/R',\n",
        "        '시간대_21~24_매출_비율':'09-00AM S/R', '남성_매출_비율':'Male S/R', '여성_매출_비율':'Female S/R', '연령대_10_매출_비율' :'S/R of 10s',\n",
        "       '연령대_20_매출_비율':'S/R of 20s', '연령대_30_매출_비율':'S/R of 30s', '연령대_40_매출_비율':'S/R of 40s', '연령대_50_매출_비율':'S/R of 50s',\n",
        "       '연령대_60_이상_매출_비율':'S/R of over 60s', '점포수':'Number of Stores', '평균':'Average', '점포당_평균_매출':'Average Sales per Store', '평균이상여부':'Above Average', '총_직장_인구_수':'Total Business pop',\n",
        "       '월_평균_소득_금액':'Monthly Income', '지출_총금액':'Total Expenditure', '총_생활인구_수':'Total Living pop', '총 상주인구 수':'Total Settled pop'}, inplace=True)\n",
        "\n",
        "#데이터셋 이름 재정리"
      ]
    },
    {
      "cell_type": "code",
      "execution_count": null,
      "metadata": {
        "colab": {
          "base_uri": "https://localhost:8080/"
        },
        "id": "di-oTRO1Qf-w",
        "outputId": "330415f4-1137-4370-e86d-d3907d1f8987"
      },
      "outputs": [
        {
          "output_type": "execute_result",
          "data": {
            "text/plain": [
              "골목상권    0.604749\n",
              "발달상권    0.235880\n",
              "전통시장    0.153136\n",
              "관광특구    0.006236\n",
              "Name: C/A Code Name, dtype: float64"
            ]
          },
          "metadata": {},
          "execution_count": 357
        }
      ],
      "source": [
        "df_merged_clean['C/A Code Name'].value_counts(normalize = True)"
      ]
    },
    {
      "cell_type": "code",
      "execution_count": null,
      "metadata": {
        "id": "CewWp1APXIQf"
      },
      "outputs": [],
      "source": [
        "df_merged_clean = df_merged_clean[df_merged_clean['C/A Code Name'] == '골목상권']"
      ]
    },
    {
      "cell_type": "code",
      "execution_count": null,
      "metadata": {
        "id": "bf5wptTBX6ws"
      },
      "outputs": [],
      "source": [
        "df_merged_clean['Average Sales per Store'] = df_merged_clean['분기당_매출_금액']/df_merged_clean['Number of Stores']"
      ]
    },
    {
      "cell_type": "code",
      "execution_count": null,
      "metadata": {
        "id": "Xam6OmC0Y4PI"
      },
      "outputs": [],
      "source": [
        "df_merged_clean=df_merged_clean.drop(columns = ['Average', '평균도달여부', 'C/A Code Name'], axis = 1)"
      ]
    },
    {
      "cell_type": "code",
      "execution_count": null,
      "metadata": {
        "colab": {
          "base_uri": "https://localhost:8080/"
        },
        "id": "uIfZ9Zs_CeZA",
        "outputId": "da5782cf-fd1b-4b8c-9290-be668f5bbd94"
      },
      "outputs": [
        {
          "output_type": "execute_result",
          "data": {
            "text/plain": [
              "Index(['C/A Code', 'Name of C/A', 'Industry Code Name', 'Weekdays S/R',\n",
              "       'Weekend S/R', 'Monday S/R', 'Tuesday S/R', 'Wednesday S/R',\n",
              "       'Thursday S/R', 'Friday S/R', 'Saturday S/R', 'Sunday S/R',\n",
              "       '00-06AM S/R', '06-11AM S/R', '11-02PM S/R', '02-05PM S/R',\n",
              "       '05-09PM S/R', '09-00AM S/R', 'Male S/R', 'Female S/R', 'S/R of 10s',\n",
              "       'S/R of 20s', 'S/R of 30s', 'S/R of 40s', 'S/R of 50s',\n",
              "       'S/R of over 60s', 'Number of Stores', 'Average Sales per Store',\n",
              "       '분기당_매출_금액', 'Total Business pop', 'Monthly Income',\n",
              "       'Total Expenditure', 'Total Living pop', 'Total Settled pop'],\n",
              "      dtype='object')"
            ]
          },
          "metadata": {},
          "execution_count": 361
        }
      ],
      "source": [
        "df_merged_clean.columns"
      ]
    },
    {
      "cell_type": "code",
      "execution_count": null,
      "metadata": {
        "colab": {
          "base_uri": "https://localhost:8080/"
        },
        "id": "epBUlx1taGgF",
        "outputId": "d2b4f07c-6c83-40ac-b337-757e20d965ae"
      },
      "outputs": [
        {
          "output_type": "execute_result",
          "data": {
            "text/plain": [
              "27419212.437311266"
            ]
          },
          "metadata": {},
          "execution_count": 362
        }
      ],
      "source": [
        "df_merged_clean['Average Sales per Store'].mean()\n",
        "\n",
        "#골목상권 점포당 평균 분기 매출"
      ]
    },
    {
      "cell_type": "code",
      "execution_count": null,
      "metadata": {
        "colab": {
          "base_uri": "https://localhost:8080/"
        },
        "id": "zXBNg0bxZ4s1",
        "outputId": "90886916-0e2c-4ae3-db4a-080a6ed5f12d"
      },
      "outputs": [
        {
          "output_type": "execute_result",
          "data": {
            "text/plain": [
              "count    5.043000e+03\n",
              "mean     2.741921e+07\n",
              "std      4.329202e+07\n",
              "min      3.750000e+02\n",
              "25%      7.295963e+06\n",
              "50%      1.670432e+07\n",
              "75%      3.335093e+07\n",
              "max      1.426353e+09\n",
              "Name: Average Sales per Store, dtype: float64"
            ]
          },
          "metadata": {},
          "execution_count": 363
        }
      ],
      "source": [
        "df_merged_clean['Average Sales per Store'].describe()"
      ]
    },
    {
      "cell_type": "code",
      "execution_count": null,
      "metadata": {
        "colab": {
          "base_uri": "https://localhost:8080/",
          "height": 321
        },
        "id": "NSpVVvLNy0ud",
        "outputId": "1f1fe622-3a39-4b6e-826c-ee354706ccf8"
      },
      "outputs": [
        {
          "output_type": "execute_result",
          "data": {
            "text/plain": [
              "      C/A Code Name of C/A Industry Code Name  Weekdays S/R  Weekend S/R  \\\n",
              "4680   2110775      대동초등학교              분식전문점         100.0          0.0   \n",
              "5590   2110587     공덕동주민센터             패스트푸드점         100.0          0.0   \n",
              "6555   2110398     쌍문2동우체국              일식음식점         100.0          0.0   \n",
              "\n",
              "      Monday S/R  Tuesday S/R  Wednesday S/R  Thursday S/R  Friday S/R  ...  \\\n",
              "4680         0.0         55.0            0.0          46.0         0.0  ...   \n",
              "5590         0.0          0.0          100.0           0.0         0.0  ...   \n",
              "6555       100.0          0.0            0.0           0.0         0.0  ...   \n",
              "\n",
              "      S/R of 50s  S/R of over 60s  Number of Stores  Average Sales per Store  \\\n",
              "4680         0.0              0.0               2.0                  24458.0   \n",
              "5590         0.0              0.0               3.0                    375.0   \n",
              "6555       100.0              0.0               1.0                  78794.0   \n",
              "\n",
              "      분기당_매출_금액  Total Business pop  Monthly Income  Total Expenditure  \\\n",
              "4680    48916.0                61.0       2203445.0       4.063313e+08   \n",
              "5590     1125.0               238.0       3155945.0       1.288732e+09   \n",
              "6555    78794.0               474.0       2298262.0       1.819690e+09   \n",
              "\n",
              "      Total Living pop  Total Settled pop  \n",
              "4680          398242.0              930.0  \n",
              "5590         1063212.0             3609.0  \n",
              "6555          943670.0             3166.0  \n",
              "\n",
              "[3 rows x 34 columns]"
            ],
            "text/html": [
              "\n",
              "  <div id=\"df-c1010b69-88e9-49a5-bdb0-28b7c1da6a28\">\n",
              "    <div class=\"colab-df-container\">\n",
              "      <div>\n",
              "<style scoped>\n",
              "    .dataframe tbody tr th:only-of-type {\n",
              "        vertical-align: middle;\n",
              "    }\n",
              "\n",
              "    .dataframe tbody tr th {\n",
              "        vertical-align: top;\n",
              "    }\n",
              "\n",
              "    .dataframe thead th {\n",
              "        text-align: right;\n",
              "    }\n",
              "</style>\n",
              "<table border=\"1\" class=\"dataframe\">\n",
              "  <thead>\n",
              "    <tr style=\"text-align: right;\">\n",
              "      <th></th>\n",
              "      <th>C/A Code</th>\n",
              "      <th>Name of C/A</th>\n",
              "      <th>Industry Code Name</th>\n",
              "      <th>Weekdays S/R</th>\n",
              "      <th>Weekend S/R</th>\n",
              "      <th>Monday S/R</th>\n",
              "      <th>Tuesday S/R</th>\n",
              "      <th>Wednesday S/R</th>\n",
              "      <th>Thursday S/R</th>\n",
              "      <th>Friday S/R</th>\n",
              "      <th>...</th>\n",
              "      <th>S/R of 50s</th>\n",
              "      <th>S/R of over 60s</th>\n",
              "      <th>Number of Stores</th>\n",
              "      <th>Average Sales per Store</th>\n",
              "      <th>분기당_매출_금액</th>\n",
              "      <th>Total Business pop</th>\n",
              "      <th>Monthly Income</th>\n",
              "      <th>Total Expenditure</th>\n",
              "      <th>Total Living pop</th>\n",
              "      <th>Total Settled pop</th>\n",
              "    </tr>\n",
              "  </thead>\n",
              "  <tbody>\n",
              "    <tr>\n",
              "      <th>4680</th>\n",
              "      <td>2110775</td>\n",
              "      <td>대동초등학교</td>\n",
              "      <td>분식전문점</td>\n",
              "      <td>100.0</td>\n",
              "      <td>0.0</td>\n",
              "      <td>0.0</td>\n",
              "      <td>55.0</td>\n",
              "      <td>0.0</td>\n",
              "      <td>46.0</td>\n",
              "      <td>0.0</td>\n",
              "      <td>...</td>\n",
              "      <td>0.0</td>\n",
              "      <td>0.0</td>\n",
              "      <td>2.0</td>\n",
              "      <td>24458.0</td>\n",
              "      <td>48916.0</td>\n",
              "      <td>61.0</td>\n",
              "      <td>2203445.0</td>\n",
              "      <td>4.063313e+08</td>\n",
              "      <td>398242.0</td>\n",
              "      <td>930.0</td>\n",
              "    </tr>\n",
              "    <tr>\n",
              "      <th>5590</th>\n",
              "      <td>2110587</td>\n",
              "      <td>공덕동주민센터</td>\n",
              "      <td>패스트푸드점</td>\n",
              "      <td>100.0</td>\n",
              "      <td>0.0</td>\n",
              "      <td>0.0</td>\n",
              "      <td>0.0</td>\n",
              "      <td>100.0</td>\n",
              "      <td>0.0</td>\n",
              "      <td>0.0</td>\n",
              "      <td>...</td>\n",
              "      <td>0.0</td>\n",
              "      <td>0.0</td>\n",
              "      <td>3.0</td>\n",
              "      <td>375.0</td>\n",
              "      <td>1125.0</td>\n",
              "      <td>238.0</td>\n",
              "      <td>3155945.0</td>\n",
              "      <td>1.288732e+09</td>\n",
              "      <td>1063212.0</td>\n",
              "      <td>3609.0</td>\n",
              "    </tr>\n",
              "    <tr>\n",
              "      <th>6555</th>\n",
              "      <td>2110398</td>\n",
              "      <td>쌍문2동우체국</td>\n",
              "      <td>일식음식점</td>\n",
              "      <td>100.0</td>\n",
              "      <td>0.0</td>\n",
              "      <td>100.0</td>\n",
              "      <td>0.0</td>\n",
              "      <td>0.0</td>\n",
              "      <td>0.0</td>\n",
              "      <td>0.0</td>\n",
              "      <td>...</td>\n",
              "      <td>100.0</td>\n",
              "      <td>0.0</td>\n",
              "      <td>1.0</td>\n",
              "      <td>78794.0</td>\n",
              "      <td>78794.0</td>\n",
              "      <td>474.0</td>\n",
              "      <td>2298262.0</td>\n",
              "      <td>1.819690e+09</td>\n",
              "      <td>943670.0</td>\n",
              "      <td>3166.0</td>\n",
              "    </tr>\n",
              "  </tbody>\n",
              "</table>\n",
              "<p>3 rows × 34 columns</p>\n",
              "</div>\n",
              "      <button class=\"colab-df-convert\" onclick=\"convertToInteractive('df-c1010b69-88e9-49a5-bdb0-28b7c1da6a28')\"\n",
              "              title=\"Convert this dataframe to an interactive table.\"\n",
              "              style=\"display:none;\">\n",
              "        \n",
              "  <svg xmlns=\"http://www.w3.org/2000/svg\" height=\"24px\"viewBox=\"0 0 24 24\"\n",
              "       width=\"24px\">\n",
              "    <path d=\"M0 0h24v24H0V0z\" fill=\"none\"/>\n",
              "    <path d=\"M18.56 5.44l.94 2.06.94-2.06 2.06-.94-2.06-.94-.94-2.06-.94 2.06-2.06.94zm-11 1L8.5 8.5l.94-2.06 2.06-.94-2.06-.94L8.5 2.5l-.94 2.06-2.06.94zm10 10l.94 2.06.94-2.06 2.06-.94-2.06-.94-.94-2.06-.94 2.06-2.06.94z\"/><path d=\"M17.41 7.96l-1.37-1.37c-.4-.4-.92-.59-1.43-.59-.52 0-1.04.2-1.43.59L10.3 9.45l-7.72 7.72c-.78.78-.78 2.05 0 2.83L4 21.41c.39.39.9.59 1.41.59.51 0 1.02-.2 1.41-.59l7.78-7.78 2.81-2.81c.8-.78.8-2.07 0-2.86zM5.41 20L4 18.59l7.72-7.72 1.47 1.35L5.41 20z\"/>\n",
              "  </svg>\n",
              "      </button>\n",
              "      \n",
              "  <style>\n",
              "    .colab-df-container {\n",
              "      display:flex;\n",
              "      flex-wrap:wrap;\n",
              "      gap: 12px;\n",
              "    }\n",
              "\n",
              "    .colab-df-convert {\n",
              "      background-color: #E8F0FE;\n",
              "      border: none;\n",
              "      border-radius: 50%;\n",
              "      cursor: pointer;\n",
              "      display: none;\n",
              "      fill: #1967D2;\n",
              "      height: 32px;\n",
              "      padding: 0 0 0 0;\n",
              "      width: 32px;\n",
              "    }\n",
              "\n",
              "    .colab-df-convert:hover {\n",
              "      background-color: #E2EBFA;\n",
              "      box-shadow: 0px 1px 2px rgba(60, 64, 67, 0.3), 0px 1px 3px 1px rgba(60, 64, 67, 0.15);\n",
              "      fill: #174EA6;\n",
              "    }\n",
              "\n",
              "    [theme=dark] .colab-df-convert {\n",
              "      background-color: #3B4455;\n",
              "      fill: #D2E3FC;\n",
              "    }\n",
              "\n",
              "    [theme=dark] .colab-df-convert:hover {\n",
              "      background-color: #434B5C;\n",
              "      box-shadow: 0px 1px 3px 1px rgba(0, 0, 0, 0.15);\n",
              "      filter: drop-shadow(0px 1px 2px rgba(0, 0, 0, 0.3));\n",
              "      fill: #FFFFFF;\n",
              "    }\n",
              "  </style>\n",
              "\n",
              "      <script>\n",
              "        const buttonEl =\n",
              "          document.querySelector('#df-c1010b69-88e9-49a5-bdb0-28b7c1da6a28 button.colab-df-convert');\n",
              "        buttonEl.style.display =\n",
              "          google.colab.kernel.accessAllowed ? 'block' : 'none';\n",
              "\n",
              "        async function convertToInteractive(key) {\n",
              "          const element = document.querySelector('#df-c1010b69-88e9-49a5-bdb0-28b7c1da6a28');\n",
              "          const dataTable =\n",
              "            await google.colab.kernel.invokeFunction('convertToInteractive',\n",
              "                                                     [key], {});\n",
              "          if (!dataTable) return;\n",
              "\n",
              "          const docLinkHtml = 'Like what you see? Visit the ' +\n",
              "            '<a target=\"_blank\" href=https://colab.research.google.com/notebooks/data_table.ipynb>data table notebook</a>'\n",
              "            + ' to learn more about interactive tables.';\n",
              "          element.innerHTML = '';\n",
              "          dataTable['output_type'] = 'display_data';\n",
              "          await google.colab.output.renderOutput(dataTable, element);\n",
              "          const docLink = document.createElement('div');\n",
              "          docLink.innerHTML = docLinkHtml;\n",
              "          element.appendChild(docLink);\n",
              "        }\n",
              "      </script>\n",
              "    </div>\n",
              "  </div>\n",
              "  "
            ]
          },
          "metadata": {},
          "execution_count": 364
        }
      ],
      "source": [
        "df_merged_clean[df_merged_clean['분기당_매출_금액'] < 100000]"
      ]
    },
    {
      "cell_type": "code",
      "execution_count": null,
      "metadata": {
        "id": "DgjKw5QI8i1R"
      },
      "outputs": [],
      "source": [
        "below = df_merged_clean[df_merged_clean['Average Sales per Store'] < 300000].index\n",
        "below\n",
        "df_new = df_merged_clean.drop(below, axis = 0)\n",
        "#평균매출 30만원 이하 데이터 셋에서 없애기"
      ]
    },
    {
      "cell_type": "code",
      "execution_count": null,
      "metadata": {
        "colab": {
          "base_uri": "https://localhost:8080/",
          "height": 356
        },
        "id": "5jw4f2Bo7cs7",
        "outputId": "ebeaa559-45d5-4a76-fab1-b7db08bad9c9"
      },
      "outputs": [
        {
          "output_type": "execute_result",
          "data": {
            "text/plain": [
              "      C/A Code Name of C/A Industry Code Name  Weekdays S/R  Weekend S/R  \\\n",
              "3296   2111090     강일동주민센터              커피-음료          71.0         30.0   \n",
              "3297   2111090     강일동주민센터              분식전문점          72.0         28.0   \n",
              "3298   2111090     강일동주민센터              치킨전문점          65.0         35.0   \n",
              "\n",
              "      Monday S/R  Tuesday S/R  Wednesday S/R  Thursday S/R  Friday S/R  ...  \\\n",
              "3296        13.0         16.0           15.0          14.0        13.0  ...   \n",
              "3297        13.0         15.0           15.0          14.0        15.0  ...   \n",
              "3298        13.0         12.0           13.0          11.0        16.0  ...   \n",
              "\n",
              "      S/R of 50s  S/R of over 60s  Number of Stores  Average Sales per Store  \\\n",
              "3296        16.0              5.0               3.0             1.487554e+07   \n",
              "3297        26.0             10.0               9.0             2.111535e+07   \n",
              "3298        26.0             16.0               7.0             2.323064e+07   \n",
              "\n",
              "        분기당_매출_금액  Total Business pop  Monthly Income  Total Expenditure  \\\n",
              "3296   44626620.0                91.0       2810845.0                NaN   \n",
              "3297  190038132.0                91.0       2810845.0                NaN   \n",
              "3298  162614461.0                91.0       2810845.0                NaN   \n",
              "\n",
              "      Total Living pop  Total Settled pop  \n",
              "3296           70773.0             1051.0  \n",
              "3297           70773.0             1051.0  \n",
              "3298           70773.0             1051.0  \n",
              "\n",
              "[3 rows x 34 columns]"
            ],
            "text/html": [
              "\n",
              "  <div id=\"df-82ddc1e6-5dc7-44e6-b779-47173b1c0fa8\">\n",
              "    <div class=\"colab-df-container\">\n",
              "      <div>\n",
              "<style scoped>\n",
              "    .dataframe tbody tr th:only-of-type {\n",
              "        vertical-align: middle;\n",
              "    }\n",
              "\n",
              "    .dataframe tbody tr th {\n",
              "        vertical-align: top;\n",
              "    }\n",
              "\n",
              "    .dataframe thead th {\n",
              "        text-align: right;\n",
              "    }\n",
              "</style>\n",
              "<table border=\"1\" class=\"dataframe\">\n",
              "  <thead>\n",
              "    <tr style=\"text-align: right;\">\n",
              "      <th></th>\n",
              "      <th>C/A Code</th>\n",
              "      <th>Name of C/A</th>\n",
              "      <th>Industry Code Name</th>\n",
              "      <th>Weekdays S/R</th>\n",
              "      <th>Weekend S/R</th>\n",
              "      <th>Monday S/R</th>\n",
              "      <th>Tuesday S/R</th>\n",
              "      <th>Wednesday S/R</th>\n",
              "      <th>Thursday S/R</th>\n",
              "      <th>Friday S/R</th>\n",
              "      <th>...</th>\n",
              "      <th>S/R of 50s</th>\n",
              "      <th>S/R of over 60s</th>\n",
              "      <th>Number of Stores</th>\n",
              "      <th>Average Sales per Store</th>\n",
              "      <th>분기당_매출_금액</th>\n",
              "      <th>Total Business pop</th>\n",
              "      <th>Monthly Income</th>\n",
              "      <th>Total Expenditure</th>\n",
              "      <th>Total Living pop</th>\n",
              "      <th>Total Settled pop</th>\n",
              "    </tr>\n",
              "  </thead>\n",
              "  <tbody>\n",
              "    <tr>\n",
              "      <th>3296</th>\n",
              "      <td>2111090</td>\n",
              "      <td>강일동주민센터</td>\n",
              "      <td>커피-음료</td>\n",
              "      <td>71.0</td>\n",
              "      <td>30.0</td>\n",
              "      <td>13.0</td>\n",
              "      <td>16.0</td>\n",
              "      <td>15.0</td>\n",
              "      <td>14.0</td>\n",
              "      <td>13.0</td>\n",
              "      <td>...</td>\n",
              "      <td>16.0</td>\n",
              "      <td>5.0</td>\n",
              "      <td>3.0</td>\n",
              "      <td>1.487554e+07</td>\n",
              "      <td>44626620.0</td>\n",
              "      <td>91.0</td>\n",
              "      <td>2810845.0</td>\n",
              "      <td>NaN</td>\n",
              "      <td>70773.0</td>\n",
              "      <td>1051.0</td>\n",
              "    </tr>\n",
              "    <tr>\n",
              "      <th>3297</th>\n",
              "      <td>2111090</td>\n",
              "      <td>강일동주민센터</td>\n",
              "      <td>분식전문점</td>\n",
              "      <td>72.0</td>\n",
              "      <td>28.0</td>\n",
              "      <td>13.0</td>\n",
              "      <td>15.0</td>\n",
              "      <td>15.0</td>\n",
              "      <td>14.0</td>\n",
              "      <td>15.0</td>\n",
              "      <td>...</td>\n",
              "      <td>26.0</td>\n",
              "      <td>10.0</td>\n",
              "      <td>9.0</td>\n",
              "      <td>2.111535e+07</td>\n",
              "      <td>190038132.0</td>\n",
              "      <td>91.0</td>\n",
              "      <td>2810845.0</td>\n",
              "      <td>NaN</td>\n",
              "      <td>70773.0</td>\n",
              "      <td>1051.0</td>\n",
              "    </tr>\n",
              "    <tr>\n",
              "      <th>3298</th>\n",
              "      <td>2111090</td>\n",
              "      <td>강일동주민센터</td>\n",
              "      <td>치킨전문점</td>\n",
              "      <td>65.0</td>\n",
              "      <td>35.0</td>\n",
              "      <td>13.0</td>\n",
              "      <td>12.0</td>\n",
              "      <td>13.0</td>\n",
              "      <td>11.0</td>\n",
              "      <td>16.0</td>\n",
              "      <td>...</td>\n",
              "      <td>26.0</td>\n",
              "      <td>16.0</td>\n",
              "      <td>7.0</td>\n",
              "      <td>2.323064e+07</td>\n",
              "      <td>162614461.0</td>\n",
              "      <td>91.0</td>\n",
              "      <td>2810845.0</td>\n",
              "      <td>NaN</td>\n",
              "      <td>70773.0</td>\n",
              "      <td>1051.0</td>\n",
              "    </tr>\n",
              "  </tbody>\n",
              "</table>\n",
              "<p>3 rows × 34 columns</p>\n",
              "</div>\n",
              "      <button class=\"colab-df-convert\" onclick=\"convertToInteractive('df-82ddc1e6-5dc7-44e6-b779-47173b1c0fa8')\"\n",
              "              title=\"Convert this dataframe to an interactive table.\"\n",
              "              style=\"display:none;\">\n",
              "        \n",
              "  <svg xmlns=\"http://www.w3.org/2000/svg\" height=\"24px\"viewBox=\"0 0 24 24\"\n",
              "       width=\"24px\">\n",
              "    <path d=\"M0 0h24v24H0V0z\" fill=\"none\"/>\n",
              "    <path d=\"M18.56 5.44l.94 2.06.94-2.06 2.06-.94-2.06-.94-.94-2.06-.94 2.06-2.06.94zm-11 1L8.5 8.5l.94-2.06 2.06-.94-2.06-.94L8.5 2.5l-.94 2.06-2.06.94zm10 10l.94 2.06.94-2.06 2.06-.94-2.06-.94-.94-2.06-.94 2.06-2.06.94z\"/><path d=\"M17.41 7.96l-1.37-1.37c-.4-.4-.92-.59-1.43-.59-.52 0-1.04.2-1.43.59L10.3 9.45l-7.72 7.72c-.78.78-.78 2.05 0 2.83L4 21.41c.39.39.9.59 1.41.59.51 0 1.02-.2 1.41-.59l7.78-7.78 2.81-2.81c.8-.78.8-2.07 0-2.86zM5.41 20L4 18.59l7.72-7.72 1.47 1.35L5.41 20z\"/>\n",
              "  </svg>\n",
              "      </button>\n",
              "      \n",
              "  <style>\n",
              "    .colab-df-container {\n",
              "      display:flex;\n",
              "      flex-wrap:wrap;\n",
              "      gap: 12px;\n",
              "    }\n",
              "\n",
              "    .colab-df-convert {\n",
              "      background-color: #E8F0FE;\n",
              "      border: none;\n",
              "      border-radius: 50%;\n",
              "      cursor: pointer;\n",
              "      display: none;\n",
              "      fill: #1967D2;\n",
              "      height: 32px;\n",
              "      padding: 0 0 0 0;\n",
              "      width: 32px;\n",
              "    }\n",
              "\n",
              "    .colab-df-convert:hover {\n",
              "      background-color: #E2EBFA;\n",
              "      box-shadow: 0px 1px 2px rgba(60, 64, 67, 0.3), 0px 1px 3px 1px rgba(60, 64, 67, 0.15);\n",
              "      fill: #174EA6;\n",
              "    }\n",
              "\n",
              "    [theme=dark] .colab-df-convert {\n",
              "      background-color: #3B4455;\n",
              "      fill: #D2E3FC;\n",
              "    }\n",
              "\n",
              "    [theme=dark] .colab-df-convert:hover {\n",
              "      background-color: #434B5C;\n",
              "      box-shadow: 0px 1px 3px 1px rgba(0, 0, 0, 0.15);\n",
              "      filter: drop-shadow(0px 1px 2px rgba(0, 0, 0, 0.3));\n",
              "      fill: #FFFFFF;\n",
              "    }\n",
              "  </style>\n",
              "\n",
              "      <script>\n",
              "        const buttonEl =\n",
              "          document.querySelector('#df-82ddc1e6-5dc7-44e6-b779-47173b1c0fa8 button.colab-df-convert');\n",
              "        buttonEl.style.display =\n",
              "          google.colab.kernel.accessAllowed ? 'block' : 'none';\n",
              "\n",
              "        async function convertToInteractive(key) {\n",
              "          const element = document.querySelector('#df-82ddc1e6-5dc7-44e6-b779-47173b1c0fa8');\n",
              "          const dataTable =\n",
              "            await google.colab.kernel.invokeFunction('convertToInteractive',\n",
              "                                                     [key], {});\n",
              "          if (!dataTable) return;\n",
              "\n",
              "          const docLinkHtml = 'Like what you see? Visit the ' +\n",
              "            '<a target=\"_blank\" href=https://colab.research.google.com/notebooks/data_table.ipynb>data table notebook</a>'\n",
              "            + ' to learn more about interactive tables.';\n",
              "          element.innerHTML = '';\n",
              "          dataTable['output_type'] = 'display_data';\n",
              "          await google.colab.output.renderOutput(dataTable, element);\n",
              "          const docLink = document.createElement('div');\n",
              "          docLink.innerHTML = docLinkHtml;\n",
              "          element.appendChild(docLink);\n",
              "        }\n",
              "      </script>\n",
              "    </div>\n",
              "  </div>\n",
              "  "
            ]
          },
          "metadata": {},
          "execution_count": 366
        }
      ],
      "source": [
        "over = df_merged_clean[df_merged_clean['Average Sales per Store'] > 200000000].index\n",
        "df_new1 = df_new.drop(over, axis = 0)\n",
        "df_new1.head(3)\n",
        "#평균매출 2억 이상 데이터 셋에서 없애기"
      ]
    },
    {
      "cell_type": "code",
      "execution_count": null,
      "metadata": {
        "colab": {
          "base_uri": "https://localhost:8080/"
        },
        "id": "CuvOTKMlxeoH",
        "outputId": "57883409-02a6-420e-ad3d-e4cb69b395bc"
      },
      "outputs": [
        {
          "output_type": "execute_result",
          "data": {
            "text/plain": [
              "40621.0"
            ]
          },
          "metadata": {},
          "execution_count": 367
        }
      ],
      "source": [
        "df_new1['Number of Stores'].sum()"
      ]
    },
    {
      "cell_type": "code",
      "execution_count": null,
      "metadata": {
        "id": "hLRnkq0HsD4s"
      },
      "outputs": [],
      "source": [
        "df_new1['Average of Street'] = df_new1['분기당_매출_금액'].sum()/df_new1['Number of Stores'].sum()\n",
        "df_new1['Above Average']= [\"1\" if i >= df_new1['Average of Street'].mean() else \"0\" for i in df_new1['Average Sales per Store']]"
      ]
    },
    {
      "cell_type": "code",
      "execution_count": null,
      "metadata": {
        "colab": {
          "base_uri": "https://localhost:8080/"
        },
        "id": "opdVu3kr0YWa",
        "outputId": "469d11f3-ea63-4192-d937-ba109ab44298"
      },
      "outputs": [
        {
          "output_type": "execute_result",
          "data": {
            "text/plain": [
              "27400696.33101105"
            ]
          },
          "metadata": {},
          "execution_count": 369
        }
      ],
      "source": [
        "df_new1['Average of Street'].mean()"
      ]
    },
    {
      "cell_type": "code",
      "execution_count": null,
      "metadata": {
        "colab": {
          "base_uri": "https://localhost:8080/"
        },
        "id": "AKSad_wB04mc",
        "outputId": "fd3473f6-ba85-4578-958c-2993fd859000"
      },
      "outputs": [
        {
          "output_type": "execute_result",
          "data": {
            "text/plain": [
              "0    0.687916\n",
              "1    0.312084\n",
              "Name: Above Average, dtype: float64"
            ]
          },
          "metadata": {},
          "execution_count": 370
        }
      ],
      "source": [
        "df_new1['Above Average'].value_counts(normalize = True)"
      ]
    },
    {
      "cell_type": "code",
      "execution_count": null,
      "metadata": {
        "colab": {
          "base_uri": "https://localhost:8080/"
        },
        "id": "y0lnqGrX12VQ",
        "outputId": "8a7c6edf-352f-4c9c-af62-4007d4910d49"
      },
      "outputs": [
        {
          "output_type": "execute_result",
          "data": {
            "text/plain": [
              "11497321.275927225"
            ]
          },
          "metadata": {},
          "execution_count": 371
        }
      ],
      "source": [
        "df_new1[df_new1['Above Average']=='0'].mean()['Average Sales per Store']\n",
        "#평균미만의업종의 평균매출"
      ]
    },
    {
      "cell_type": "code",
      "execution_count": null,
      "metadata": {
        "colab": {
          "base_uri": "https://localhost:8080/",
          "height": 225
        },
        "id": "yQxFG_PdYUNI",
        "outputId": "fed05e05-fb9c-494e-8c0f-2c5a7b618544"
      },
      "outputs": [
        {
          "output_type": "display_data",
          "data": {
            "text/plain": [
              "<Figure size 288x216 with 1 Axes>"
            ],
            "image/png": "[encoded data removed]"
          },
          "metadata": {
            "needs_background": "light"
          }
        }
      ],
      "source": [
        "import seaborn as sns\n",
        "import matplotlib.pyplot as plt\n",
        "\n",
        "plt.figure(figsize = (4,3))\n",
        "sns.boxplot(\"Average Sales per Store\", data = df_new1)\n",
        "plt.show();\n",
        "\n",
        "#이상치 확인"
      ]
    },
    {
      "cell_type": "code",
      "execution_count": null,
      "metadata": {
        "colab": {
          "base_uri": "https://localhost:8080/",
          "height": 308
        },
        "id": "OYqoDpwI6nc4",
        "outputId": "9726b0a3-1642-4b5b-a5a0-7a33d3c3ebd6"
      },
      "outputs": [
        {
          "output_type": "execute_result",
          "data": {
            "text/plain": [
              "<matplotlib.axes._subplots.AxesSubplot at 0x7f981944ddd0>"
            ]
          },
          "metadata": {},
          "execution_count": 373
        },
        {
          "output_type": "display_data",
          "data": {
            "text/plain": [
              "<Figure size 432x288 with 1 Axes>"
            ],
            "image/png": "[encoded data removed]"
          },
          "metadata": {
            "needs_background": "light"
          }
        }
      ],
      "source": [
        "sns.distplot(df_new1['Average Sales per Store'])"
      ]
    },
    {
      "cell_type": "code",
      "execution_count": null,
      "metadata": {
        "id": "GwX4kGeQOMDU"
      },
      "outputs": [],
      "source": [
        "target = 'Above Average'\n",
        "#타겟으로 삼을 것 정리"
      ]
    },
    {
      "cell_type": "code",
      "execution_count": null,
      "metadata": {
        "colab": {
          "base_uri": "https://localhost:8080/"
        },
        "id": "estk2PTvPe-E",
        "outputId": "be72e013-f0cb-4419-ed52-f398de4a6484"
      },
      "outputs": [
        {
          "output_type": "execute_result",
          "data": {
            "text/plain": [
              "(4957, 36)"
            ]
          },
          "metadata": {},
          "execution_count": 375
        }
      ],
      "source": [
        "df_new1.shape"
      ]
    },
    {
      "cell_type": "code",
      "execution_count": null,
      "metadata": {
        "id": "Nma7stSY74k4"
      },
      "outputs": [],
      "source": [
        "df_new1.to_csv('Seoul Market Edited.csv', index=False)"
      ]
    },
    {
      "cell_type": "code",
      "execution_count": null,
      "metadata": {
        "colab": {
          "base_uri": "https://localhost:8080/"
        },
        "id": "QFv8lJ3TOOTl",
        "outputId": "7d65cd30-283e-4edc-b3e8-80bdf03b55a4"
      },
      "outputs": [
        {
          "output_type": "stream",
          "name": "stdout",
          "text": [
            "train set: (3172, 36)\n",
            "val set: (793, 36)\n",
            "test set: (992, 36)\n"
          ]
        }
      ],
      "source": [
        "train, test = train_test_split(df_new1, test_size = 0.2, stratify = df_new1[target],random_state = 42)\n",
        "train, val = train_test_split(train, test_size = 0.2, stratify = train[target],random_state = 42)\n",
        "print(\"train set:\", train.shape)\n",
        "print(\"val set:\", val.shape)\n",
        "print(\"test set:\", test.shape)\n",
        "#train, test, validation으로 데이터를 분할"
      ]
    },
    {
      "cell_type": "code",
      "execution_count": null,
      "metadata": {
        "id": "pdzRF1rnPaAr"
      },
      "outputs": [],
      "source": [
        "features = ['Name of C/A', 'Industry Code Name',\n",
        "       'Monday S/R', 'Tuesday S/R',\n",
        "       'Wednesday S/R', 'Thursday S/R', 'Friday S/R', 'Saturday S/R',\n",
        "       'Sunday S/R', '00-06AM S/R', '06-11AM S/R', '11-02PM S/R',\n",
        "       '02-05PM S/R', '05-09PM S/R', '09-00AM S/R', 'Male S/R', 'Female S/R',\n",
        "       'S/R of 10s', 'S/R of 20s', 'S/R of 30s', 'S/R of 40s', 'S/R of 50s',\n",
        "       'S/R of over 60s', 'Number of Stores', \n",
        "      'Total Business pop',\n",
        "       'Monthly Income', 'Total Expenditure', 'Total Living pop',\n",
        "       'Total Settled pop']\n",
        "#특성 별도 정리"
      ]
    },
    {
      "cell_type": "code",
      "execution_count": null,
      "metadata": {
        "id": "c2XCDC98PmKP"
      },
      "outputs": [],
      "source": [
        "X_train = train[features]\n",
        "X_test = test[features]\n",
        "X_val = val[features]\n",
        "y_train = train[target]\n",
        "y_test = test[target]\n",
        "y_val = val[target]"
      ]
    },
    {
      "cell_type": "code",
      "execution_count": null,
      "metadata": {
        "colab": {
          "base_uri": "https://localhost:8080/"
        },
        "id": "xwzfGkEQPnxl",
        "outputId": "fbe60982-4810-4652-ac16-0be60f2dca5a"
      },
      "outputs": [
        {
          "output_type": "stream",
          "name": "stdout",
          "text": [
            "기준모델의 정확도는 0.688 입니다\n"
          ]
        }
      ],
      "source": [
        "base = y_train.mode()[0]\n",
        "baseline = len(y_train)*[base]\n",
        "baseline_acc = accuracy_score(y_train, baseline)\n",
        "print(f'기준모델의 정확도는 {baseline_acc.round(3)} 입니다')\n",
        "#기준모델 정확도 확인"
      ]
    },
    {
      "cell_type": "code",
      "execution_count": null,
      "metadata": {
        "colab": {
          "base_uri": "https://localhost:8080/"
        },
        "id": "ftYiBO86sOB7",
        "outputId": "b936799c-4a87-4b26-b8cd-6d852431f82a"
      },
      "outputs": [
        {
          "output_type": "stream",
          "name": "stdout",
          "text": [
            "훈련 정확도:  1.0\n",
            "검증 정확도:  0.6645649432534678\n"
          ]
        }
      ],
      "source": [
        "from sklearn.tree import DecisionTreeClassifier\n",
        "pipe_dt = make_pipeline(\n",
        "    OrdinalEncoder(),\n",
        "    SimpleImputer(),\n",
        "    DecisionTreeClassifier(random_state=1, criterion=\"entropy\"),\n",
        ")\n",
        "pipe_dt.fit(X_train, y_train)\n",
        "\n",
        "print(\"훈련 정확도: \", pipe_dt.score(X_train, y_train))\n",
        "print(\"검증 정확도: \", pipe_dt.score(X_val, y_val))\n",
        "\n",
        "y_pred = pipe_dt.predict(X_test)\n",
        "#디시즌트리 정확도 확인"
      ]
    },
    {
      "cell_type": "code",
      "execution_count": null,
      "metadata": {
        "colab": {
          "base_uri": "https://localhost:8080/"
        },
        "id": "tRRJnQglsuUj",
        "outputId": "fac8b38e-6f80-4a7b-999d-0afeb35e63bd"
      },
      "outputs": [
        {
          "output_type": "stream",
          "name": "stdout",
          "text": [
            "              precision    recall  f1-score   support\n",
            "\n",
            "           0       0.76      0.74      0.75       682\n",
            "           1       0.46      0.49      0.47       310\n",
            "\n",
            "    accuracy                           0.66       992\n",
            "   macro avg       0.61      0.61      0.61       992\n",
            "weighted avg       0.67      0.66      0.66       992\n",
            "\n"
          ]
        }
      ],
      "source": [
        "from sklearn.metrics import classification_report\n",
        "\n",
        "y_pred = pipe_dt.predict(X_test)\n",
        "print(classification_report(y_test, y_pred))\n",
        "#평가 지표 확인"
      ]
    },
    {
      "cell_type": "code",
      "execution_count": null,
      "metadata": {
        "colab": {
          "base_uri": "https://localhost:8080/"
        },
        "id": "I2k8YYsZs__1",
        "outputId": "961c6707-7b4d-47a1-adb7-668b49de4e54"
      },
      "outputs": [
        {
          "output_type": "stream",
          "name": "stdout",
          "text": [
            "훈련 정확도:  0.9401008827238335\n",
            "검증 정확도:  0.755359394703657\n"
          ]
        }
      ],
      "source": [
        "pipe_rf = make_pipeline(\n",
        "    OrdinalEncoder(),\n",
        "    SimpleImputer(),\n",
        "    RandomForestClassifier(max_depth = 10, random_state=42, oob_score=True, n_jobs=-1),\n",
        ")\n",
        "\n",
        "pipe_rf.fit(X_train, y_train)\n",
        "print(\"훈련 정확도: \", pipe_rf.score(X_train, y_train))\n",
        "print(\"검증 정확도: \", pipe_rf.score(X_val, y_val))\n",
        "#랜덤포레스트 훈련, 검증 정확도 확인"
      ]
    },
    {
      "cell_type": "code",
      "execution_count": null,
      "metadata": {
        "colab": {
          "base_uri": "https://localhost:8080/"
        },
        "id": "g1JL9XtUuLbh",
        "outputId": "99533392-ed6f-4939-f013-e5d3f2bc027f"
      },
      "outputs": [
        {
          "output_type": "execute_result",
          "data": {
            "text/plain": [
              "0.7604035308953342"
            ]
          },
          "metadata": {},
          "execution_count": 384
        }
      ],
      "source": [
        "pipe_rf.named_steps[\"randomforestclassifier\"].oob_score_"
      ]
    },
    {
      "cell_type": "code",
      "execution_count": null,
      "metadata": {
        "colab": {
          "base_uri": "https://localhost:8080/"
        },
        "id": "l1VUgr1ruQiS",
        "outputId": "36c6825d-66f8-40b4-a3a4-a5b18755b352"
      },
      "outputs": [
        {
          "output_type": "stream",
          "name": "stdout",
          "text": [
            "              precision    recall  f1-score   support\n",
            "\n",
            "           0       0.80      0.92      0.86       682\n",
            "           1       0.74      0.50      0.60       310\n",
            "\n",
            "    accuracy                           0.79       992\n",
            "   macro avg       0.77      0.71      0.73       992\n",
            "weighted avg       0.78      0.79      0.78       992\n",
            "\n"
          ]
        }
      ],
      "source": [
        "y_pred = pipe_rf.predict(X_test)\n",
        "print(classification_report(y_test, y_pred))\n",
        "#평가 지표 확인"
      ]
    },
    {
      "cell_type": "code",
      "execution_count": null,
      "metadata": {
        "colab": {
          "base_uri": "https://localhost:8080/",
          "height": 1000
        },
        "id": "7WtaQcQhuqS2",
        "outputId": "8dcf756c-9c65-4d84-9f46-21f4fcde9cb2"
      },
      "outputs": [
        {
          "output_type": "display_data",
          "data": {
            "text/plain": [
              "<Figure size 720x1440 with 1 Axes>"
            ],
            "image/png": "[encoded data removed]"
          },
          "metadata": {
            "needs_background": "light"
          }
        }
      ],
      "source": [
        "%matplotlib inline\n",
        "import matplotlib.pyplot as plt\n",
        "\n",
        "model_rf = pipe_rf.named_steps['randomforestclassifier']\n",
        "importances = pd.Series(model_rf.feature_importances_, X_train.columns)\n",
        "plt.figure(figsize=(10, 20))\n",
        "importances.sort_values().plot.barh();"
      ]
    },
    {
      "cell_type": "code",
      "execution_count": null,
      "metadata": {
        "id": "m_ESQjn_uwfe"
      },
      "outputs": [],
      "source": [
        "from scipy.stats.distributions import uniform\n",
        "\n",
        "params = {\n",
        "    \"simpleimputer__strategy\": [\"median\", \"mean\"],\n",
        "    \"xgbclassifier__max_depth\": [2, 4, 6],\n",
        "    \"xgbclassifier__min_child_weight\": [2, 4, 8],\n",
        "    \"xgbclassifier__colsample_bytree\": uniform(\n",
        "        loc=0.5, scale=0.5\n",
        "    ),  # 0.5 ~ 1 사이의 uniform 분포로 범위를 지정해 줍니다.\n",
        "}\n",
        "#랜더마이즈드서치 해보기"
      ]
    },
    {
      "cell_type": "code",
      "execution_count": null,
      "metadata": {
        "colab": {
          "base_uri": "https://localhost:8080/"
        },
        "id": "Udl_FAUL5Ije",
        "outputId": "52933be1-2e25-49a8-d666-6a2c61e7d2db"
      },
      "outputs": [
        {
          "output_type": "execute_result",
          "data": {
            "text/plain": [
              "0.7704918032786885"
            ]
          },
          "metadata": {},
          "execution_count": 388
        }
      ],
      "source": [
        "from xgboost import XGBClassifier\n",
        "pipe = make_pipeline(\n",
        "    OrdinalEncoder(),\n",
        "    SimpleImputer(strategy=\"mean\"),\n",
        "    XGBClassifier(\n",
        "        objective=\"binary:logistic\",\n",
        "        eval_metric=\"auc\",\n",
        "        n_estimators=200,\n",
        "        random_state=42,\n",
        "        n_jobs=-1,\n",
        "        max_depth=6,\n",
        "        min_child_weight=4,\n",
        "        colsample_bytree=0.79,\n",
        "        learning_rate=0.1,\n",
        "        use_label_encoder=False,\n",
        "        scale_pos_weight = 1\n",
        "    ),\n",
        ")\n",
        "\n",
        "pipe.fit(X_train, y_train)\n",
        "pipe.score(X_val, y_val)\n",
        "#xgbclassifier 시도해보고 스코어 확인"
      ]
    },
    {
      "cell_type": "code",
      "execution_count": null,
      "metadata": {
        "id": "dStnBA9k5WIa"
      },
      "outputs": [],
      "source": [
        "y_pred = pipe.predict(X_test)"
      ]
    },
    {
      "cell_type": "code",
      "execution_count": null,
      "metadata": {
        "colab": {
          "base_uri": "https://localhost:8080/"
        },
        "id": "oPjdDgCs5Y5I",
        "outputId": "7ba8a256-8ed2-463d-e263-c2d509a38d98"
      },
      "outputs": [
        {
          "output_type": "stream",
          "name": "stdout",
          "text": [
            "              precision    recall  f1-score   support\n",
            "\n",
            "           0       0.82      0.90      0.86       682\n",
            "           1       0.72      0.57      0.63       310\n",
            "\n",
            "    accuracy                           0.80       992\n",
            "   macro avg       0.77      0.73      0.75       992\n",
            "weighted avg       0.79      0.80      0.79       992\n",
            "\n"
          ]
        }
      ],
      "source": [
        "from sklearn.metrics import classification_report\n",
        "\n",
        "print(classification_report(y_test, y_pred))\n",
        "#평가 지표 확인"
      ]
    },
    {
      "cell_type": "code",
      "execution_count": null,
      "metadata": {
        "colab": {
          "base_uri": "https://localhost:8080/"
        },
        "id": "_W-6GzalPq4N",
        "outputId": "780861c8-413d-4834-ffa8-6e5a68a88a81"
      },
      "outputs": [
        {
          "output_type": "stream",
          "name": "stdout",
          "text": [
            "Looking in indexes: https://pypi.org/simple, https://us-python.pkg.dev/colab-wheels/public/simple/\n",
            "Requirement already satisfied: hyperopt in /usr/local/lib/python3.7/dist-packages (0.1.2)\n",
            "Requirement already satisfied: pymongo in /usr/local/lib/python3.7/dist-packages (from hyperopt) (4.2.0)\n",
            "Requirement already satisfied: scipy in /usr/local/lib/python3.7/dist-packages (from hyperopt) (1.7.3)\n",
            "Requirement already satisfied: future in /usr/local/lib/python3.7/dist-packages (from hyperopt) (0.16.0)\n",
            "Requirement already satisfied: six in /usr/local/lib/python3.7/dist-packages (from hyperopt) (1.15.0)\n",
            "Requirement already satisfied: tqdm in /usr/local/lib/python3.7/dist-packages (from hyperopt) (4.64.1)\n",
            "Requirement already satisfied: numpy in /usr/local/lib/python3.7/dist-packages (from hyperopt) (1.21.6)\n",
            "Requirement already satisfied: networkx in /usr/local/lib/python3.7/dist-packages (from hyperopt) (2.6.3)\n"
          ]
        }
      ],
      "source": [
        "!pip3 install hyperopt"
      ]
    },
    {
      "cell_type": "code",
      "execution_count": null,
      "metadata": {
        "id": "JsvLCuSgPsvw"
      },
      "outputs": [],
      "source": [
        "from category_encoders import OrdinalEncoder\n",
        "from sklearn.impute import SimpleImputer\n",
        "from xgboost import XGBClassifier\n",
        "from sklearn.pipeline import make_pipeline\n",
        "pipe = make_pipeline(\n",
        "    OrdinalEncoder(),\n",
        "    SimpleImputer(strategy=\"median\"),\n",
        "    XGBClassifier(\n",
        "        objective=\"binary:logistic\",\n",
        "        eval_metric=\"error\",\n",
        "        n_estimators=200,\n",
        "        random_state=42,\n",
        "        n_jobs=-1,\n",
        "        learning_rate=0.1,\n",
        "        use_label_encoder=False,\n",
        "    ),\n",
        ")\n"
      ]
    },
    {
      "cell_type": "code",
      "execution_count": null,
      "metadata": {
        "id": "NT0mhGrWPutm"
      },
      "outputs": [],
      "source": [
        "from hyperopt import hp\n",
        "\n",
        "params = {\n",
        "    \"simpleimputer__strategy\": hp.choice(\"strategy\", [\"median\", \"mean\"]),\n",
        "    \"xgbclassifier__max_depth\": hp.quniform(\"max_depth\", 2, 10, 2),\n",
        "    \"xgbclassifier__min_child_weight\": hp.quniform(\"min_child_weight\", 2, 10, 2),\n",
        "    \"xgbclassifier__colsample_bytree\": hp.uniform(\"colsample_bytree\", 0.5, 1.0),\n",
        "}\n",
        "#하이퍼옵트"
      ]
    },
    {
      "cell_type": "code",
      "execution_count": null,
      "metadata": {
        "colab": {
          "base_uri": "https://localhost:8080/"
        },
        "id": "r5J_LQ2QPwaX",
        "outputId": "54c000d9-4ed7-4290-de10-6b482d74fd5a"
      },
      "outputs": [
        {
          "output_type": "stream",
          "name": "stdout",
          "text": [
            "100%|██████████| 10/10 [00:41<00:00,  4.16s/it, best loss: -0.8227419703176237]\n"
          ]
        }
      ],
      "source": [
        "from hyperopt import fmin, tpe, Trials, STATUS_OK\n",
        "from sklearn.model_selection import cross_val_score\n",
        "import numpy as np\n",
        "\n",
        "\n",
        "def get_pipe(params):\n",
        "    params[\"xgbclassifier__max_depth\"] = int(\n",
        "        params[\"xgbclassifier__max_depth\"]\n",
        "    )  # max_depth는 정수형으로 변환해 줍니다.\n",
        "    pipe = make_pipeline(\n",
        "        OrdinalEncoder(),\n",
        "        SimpleImputer(strategy=\"median\"),\n",
        "        XGBClassifier(\n",
        "            objective=\"binary:logistic\",\n",
        "            eval_metric=\"error\",\n",
        "            n_estimators=200,\n",
        "            random_state=42,\n",
        "            n_jobs=-1,\n",
        "            learning_rate=0.1,\n",
        "            use_label_encoder=False,\n",
        "        ),\n",
        "    )\n",
        "    pipe = pipe.set_params(**params)\n",
        "    return pipe\n",
        "\n",
        "\n",
        "def fit_and_eval(params):\n",
        "    pipe = get_pipe(params) \n",
        "    score = cross_val_score(pipe, X_train, y_train, cv=3, scoring=\"roc_auc\")\n",
        "    avg_cv_score = np.mean(score)\n",
        "\n",
        "    return {\"loss\": -avg_cv_score, \"status\": STATUS_OK}\n",
        "\n",
        "\n",
        "trials = (\n",
        "    Trials()\n",
        ")  \n",
        "\n",
        "best_params = fmin(\n",
        "    fn=fit_and_eval, trials=trials, space=params, algo=tpe.suggest, max_evals=10\n",
        ") "
      ]
    },
    {
      "cell_type": "code",
      "execution_count": null,
      "metadata": {
        "colab": {
          "base_uri": "https://localhost:8080/"
        },
        "id": "rWqOfHN7Pysp",
        "outputId": "662f66a0-9d08-4192-d467-24c4c65a827f"
      },
      "outputs": [
        {
          "output_type": "stream",
          "name": "stdout",
          "text": [
            "최적 하이퍼파라미터:  {'colsample_bytree': [0.5850259315280395], 'max_depth': [10.0], 'min_child_weight': [10.0], 'strategy': [1]}\n",
            "최적 AUC:  0.8227419703176237\n"
          ]
        }
      ],
      "source": [
        "print(\"최적 하이퍼파라미터: \", trials.best_trial[\"misc\"][\"vals\"])\n",
        "print(\"최적 AUC: \", -trials.best_trial[\"result\"][\"loss\"])\n",
        "#최적 하이퍼파라미터, AUC 확인"
      ]
    },
    {
      "cell_type": "code",
      "execution_count": null,
      "metadata": {
        "id": "c6vc7EQdQMH7"
      },
      "outputs": [],
      "source": [
        "pipe = make_pipeline(\n",
        "    OrdinalEncoder(),\n",
        "    SimpleImputer(strategy=\"median\"),\n",
        "    XGBClassifier(\n",
        "        objective=\"binary:logistic\",\n",
        "        eval_metric=\"auc\",\n",
        "        n_estimators=200,\n",
        "        random_state=42,\n",
        "        n_jobs=-1,\n",
        "        max_depth=6,\n",
        "        min_child_weight=8,\n",
        "        colsample_bytree=0.6,\n",
        "        learning_rate=0.1,\n",
        "        subsample = 0.8,\n",
        "        use_label_encoder=False,\n",
        "        scale_pos_weight = 1\n",
        "    ),\n",
        ")\n",
        "\n",
        "pipe.fit(X_train, y_train)\n",
        "pipe.score(X_val, y_val)\n",
        "y_pred = pipe.predict(X_test)"
      ]
    },
    {
      "cell_type": "code",
      "execution_count": null,
      "metadata": {
        "id": "OS3aSabczRc1"
      },
      "outputs": [],
      "source": [
        "y_pred = pipe.predict(X_test)"
      ]
    },
    {
      "cell_type": "code",
      "execution_count": null,
      "metadata": {
        "colab": {
          "base_uri": "https://localhost:8080/"
        },
        "id": "m8NZ2v2-QS4e",
        "outputId": "b745efe4-1b0c-458b-90c2-43db89b6845f"
      },
      "outputs": [
        {
          "output_type": "stream",
          "name": "stdout",
          "text": [
            "              precision    recall  f1-score   support\n",
            "\n",
            "           0       0.83      0.87      0.85       682\n",
            "           1       0.68      0.60      0.64       310\n",
            "\n",
            "    accuracy                           0.79       992\n",
            "   macro avg       0.75      0.74      0.74       992\n",
            "weighted avg       0.78      0.79      0.78       992\n",
            "\n"
          ]
        }
      ],
      "source": [
        "from sklearn.metrics import classification_report\n",
        "\n",
        "print(classification_report(y_test, y_pred))"
      ]
    },
    {
      "cell_type": "code",
      "execution_count": null,
      "metadata": {
        "colab": {
          "base_uri": "https://localhost:8080/",
          "height": 976
        },
        "id": "ApbHOUUUQV31",
        "outputId": "4feb7a78-7530-4fc0-8dd4-47c339887036"
      },
      "outputs": [
        {
          "output_type": "display_data",
          "data": {
            "text/plain": [
              "<Figure size 1200x1200 with 1 Axes>"
            ],
            "image/png": "[encoded data removed]"
          },
          "metadata": {
            "needs_background": "light"
          }
        }
      ],
      "source": [
        "import matplotlib.pyplot as plt\n",
        "\n",
        "feature_importances = list(\n",
        "    zip(X_train.columns, pipe.named_steps[\"xgbclassifier\"].feature_importances_)\n",
        ")\n",
        "feature_importances = sorted(feature_importances, key=lambda x: x[1], reverse=True)\n",
        "\n",
        "plt.figure(figsize=(10, 10), dpi=120)\n",
        "\n",
        "plt.barh(*list(zip(*feature_importances[::-1])), alpha = 1)\n",
        "plt.axvline(0.03, color=\"red\", linewidth=0.5);\n",
        "\n",
        "#특성 중요도 파악"
      ]
    },
    {
      "cell_type": "code",
      "execution_count": null,
      "metadata": {
        "colab": {
          "base_uri": "https://localhost:8080/",
          "height": 315
        },
        "id": "oF9My3gdOCoL",
        "outputId": "1975b8cf-41b0-4a7b-81c3-78e92867822d"
      },
      "outputs": [
        {
          "output_type": "display_data",
          "data": {
            "text/plain": [
              "<Figure size 432x288 with 2 Axes>"
            ],
            "image/png": "[encoded data removed]"
          },
          "metadata": {
            "needs_background": "light"
          }
        },
        {
          "output_type": "stream",
          "name": "stdout",
          "text": [
            "AUC: 0.8246239712420773\n"
          ]
        }
      ],
      "source": [
        "from sklearn.metrics import classification_report\n",
        "from sklearn.metrics import plot_confusion_matrix\n",
        "from sklearn.metrics import roc_curve, roc_auc_score\n",
        "import matplotlib.pyplot as plt\n",
        "\n",
        "plot_confusion_matrix(pipe, X_test, y_test, cmap=plt.cm.Blues)\n",
        "plt.title(f\"Confusion Matrix (n = {len(y_test)})\", fontsize=15)\n",
        "plt.show()\n",
        "\n",
        "y_pred_proba = pipe.predict_proba(X_test)[:, 1]\n",
        "print(\"AUC:\", roc_auc_score(y_test, y_pred_proba))\n",
        "\n",
        "#confusion matrix 확인"
      ]
    },
    {
      "cell_type": "code",
      "execution_count": null,
      "metadata": {
        "id": "PHaTtnCQiGOO"
      },
      "outputs": [],
      "source": [
        "pipe = make_pipeline(\n",
        "    OrdinalEncoder(),\n",
        "    SimpleImputer(strategy=\"median\"),\n",
        "    XGBClassifier(\n",
        "        objective=\"binary:logistic\",\n",
        "        eval_metric=\"auc\",\n",
        "        n_estimators=200,\n",
        "        random_state=42,\n",
        "        n_jobs=-1,\n",
        "        max_depth=6,\n",
        "        min_child_weight=8,\n",
        "        colsample_bytree=0.6,\n",
        "        learning_rate=0.1,\n",
        "        subsample = 0.8,\n",
        "        use_label_encoder=False,\n",
        "        scale_pos_weight = 1\n",
        "    ),\n",
        ")\n",
        "\n",
        "pipe.fit(X_train, y_train)\n",
        "pipe.score(X_val, y_val)\n",
        "y_pred = pipe.predict(X_test)"
      ]
    },
    {
      "cell_type": "code",
      "execution_count": null,
      "metadata": {
        "colab": {
          "base_uri": "https://localhost:8080/"
        },
        "id": "Ah25hwjxSBTg",
        "outputId": "5424a330-e73a-4a11-e542-50c599b65622"
      },
      "outputs": [
        {
          "output_type": "stream",
          "name": "stdout",
          "text": [
            "Perm Name of C/A :: 검증 정확도 0.799194\n",
            "Perm Industry Code Name :: 검증 정확도 0.776512\n",
            "Perm Monday S/R :: 검증 정확도 0.792137\n",
            "Perm Tuesday S/R :: 검증 정확도 0.794556\n",
            "Perm Wednesday S/R :: 검증 정확도 0.789617\n",
            "Perm Thursday S/R :: 검증 정확도 0.790323\n",
            "Perm Friday S/R :: 검증 정확도 0.788609\n",
            "Perm Saturday S/R :: 검증 정확도 0.795565\n",
            "Perm Sunday S/R :: 검증 정확도 0.792944\n",
            "Perm 00-06AM S/R :: 검증 정확도 0.793851\n",
            "Perm 06-11AM S/R :: 검증 정확도 0.799395\n",
            "Perm 11-02PM S/R :: 검증 정확도 0.791734\n",
            "Perm 02-05PM S/R :: 검증 정확도 0.778226\n",
            "Perm 05-09PM S/R :: 검증 정확도 0.786794\n",
            "Perm 09-00AM S/R :: 검증 정확도 0.786391\n",
            "Perm Male S/R :: 검증 정확도 0.792339\n",
            "Perm Female S/R :: 검증 정확도 0.794859\n",
            "Perm S/R of 10s :: 검증 정확도 0.797480\n",
            "Perm S/R of 20s :: 검증 정확도 0.787298\n",
            "Perm S/R of 30s :: 검증 정확도 0.793347\n",
            "Perm S/R of 40s :: 검증 정확도 0.788810\n",
            "Perm S/R of 50s :: 검증 정확도 0.792944\n",
            "Perm S/R of over 60s :: 검증 정확도 0.793044\n",
            "Perm Number of Stores :: 검증 정확도 0.771875\n",
            "Perm Total Business pop :: 검증 정확도 0.790726\n",
            "Perm Monthly Income :: 검증 정확도 0.779234\n",
            "Perm Total Expenditure :: 검증 정확도 0.789617\n",
            "Perm Total Living pop :: 검증 정확도 0.787802\n",
            "Perm Total Settled pop :: 검증 정확도 0.797984\n"
          ]
        }
      ],
      "source": [
        "score = pipe.score(X_test, y_test)\n",
        "pi = pd.Series(dtype=float)\n",
        "\n",
        "n_iter = 10  \n",
        "\n",
        "for feature in features:\n",
        "    X_test_permed = X_test.copy()\n",
        "\n",
        "    scores_permutated = []\n",
        "    for _ in range(n_iter):\n",
        "        X_test_permed[feature] = np.random.permutation(X_test_permed[feature])\n",
        "        scores_permutated.append(pipe.score(X_test_permed, y_test))\n",
        "    avg_score_permutated = np.mean(scores_permutated)\n",
        "    print(f\"Perm {feature} :: 검증 정확도 {avg_score_permutated:.6f}\")\n",
        "\n",
        "    pi[feature] = score - avg_score_permutated"
      ]
    },
    {
      "cell_type": "code",
      "execution_count": null,
      "metadata": {
        "colab": {
          "base_uri": "https://localhost:8080/",
          "height": 517
        },
        "id": "zZeSQnQnjH7x",
        "outputId": "db0884b1-edeb-4503-9a2b-df6f08af3d92"
      },
      "outputs": [
        {
          "output_type": "execute_result",
          "data": {
            "text/plain": [
              "Text(0.5, 1.0, 'Permutation Importance')"
            ]
          },
          "metadata": {},
          "execution_count": 403
        },
        {
          "output_type": "display_data",
          "data": {
            "text/plain": [
              "<Figure size 432x576 with 1 Axes>"
            ],
            "image/png": "[encoded data removed]"
          },
          "metadata": {
            "needs_background": "light"
          }
        }
      ],
      "source": [
        "pi.sort_values().plot.barh(figsize = (6,8))\n",
        "plt.title(\"Permutation Importance\")\n",
        "#순열 중요도 파악"
      ]
    },
    {
      "cell_type": "code",
      "execution_count": null,
      "metadata": {
        "colab": {
          "base_uri": "https://localhost:8080/"
        },
        "id": "leRuDYiptvIh",
        "outputId": "fa3dfb7e-551e-4505-e990-442b08183146"
      },
      "outputs": [
        {
          "output_type": "stream",
          "name": "stdout",
          "text": [
            "Looking in indexes: https://pypi.org/simple, https://us-python.pkg.dev/colab-wheels/public/simple/\n",
            "Requirement already satisfied: pdpbox in /usr/local/lib/python3.7/dist-packages (0.2.1)\n",
            "Requirement already satisfied: psutil in /usr/local/lib/python3.7/dist-packages (from pdpbox) (5.4.8)\n",
            "Requirement already satisfied: sklearn in /usr/local/lib/python3.7/dist-packages (from pdpbox) (0.0)\n",
            "Requirement already satisfied: matplotlib==3.1.1 in /usr/local/lib/python3.7/dist-packages (from pdpbox) (3.1.1)\n",
            "Requirement already satisfied: scipy in /usr/local/lib/python3.7/dist-packages (from pdpbox) (1.7.3)\n",
            "Requirement already satisfied: pandas in /usr/local/lib/python3.7/dist-packages (from pdpbox) (1.3.5)\n",
            "Requirement already satisfied: joblib in /usr/local/lib/python3.7/dist-packages (from pdpbox) (1.1.0)\n",
            "Requirement already satisfied: numpy in /usr/local/lib/python3.7/dist-packages (from pdpbox) (1.21.6)\n",
            "Requirement already satisfied: kiwisolver>=1.0.1 in /usr/local/lib/python3.7/dist-packages (from matplotlib==3.1.1->pdpbox) (1.4.4)\n",
            "Requirement already satisfied: python-dateutil>=2.1 in /usr/local/lib/python3.7/dist-packages (from matplotlib==3.1.1->pdpbox) (2.8.2)\n",
            "Requirement already satisfied: cycler>=0.10 in /usr/local/lib/python3.7/dist-packages (from matplotlib==3.1.1->pdpbox) (0.11.0)\n",
            "Requirement already satisfied: pyparsing!=2.0.4,!=2.1.2,!=2.1.6,>=2.0.1 in /usr/local/lib/python3.7/dist-packages (from matplotlib==3.1.1->pdpbox) (3.0.9)\n",
            "Requirement already satisfied: typing-extensions in /usr/local/lib/python3.7/dist-packages (from kiwisolver>=1.0.1->matplotlib==3.1.1->pdpbox) (4.1.1)\n",
            "Requirement already satisfied: six>=1.5 in /usr/local/lib/python3.7/dist-packages (from python-dateutil>=2.1->matplotlib==3.1.1->pdpbox) (1.15.0)\n",
            "Requirement already satisfied: pytz>=2017.3 in /usr/local/lib/python3.7/dist-packages (from pandas->pdpbox) (2022.2.1)\n",
            "Requirement already satisfied: scikit-learn in /usr/local/lib/python3.7/dist-packages (from sklearn->pdpbox) (1.0.2)\n",
            "Requirement already satisfied: threadpoolctl>=2.0.0 in /usr/local/lib/python3.7/dist-packages (from scikit-learn->sklearn->pdpbox) (3.1.0)\n"
          ]
        }
      ],
      "source": [
        "pip install pdpbox"
      ]
    },
    {
      "cell_type": "code",
      "execution_count": null,
      "metadata": {
        "colab": {
          "base_uri": "https://localhost:8080/"
        },
        "id": "0B-L1W1HuX1Y",
        "outputId": "d92b3164-c324-48f1-a24a-282059863d5e"
      },
      "outputs": [
        {
          "output_type": "stream",
          "name": "stdout",
          "text": [
            "[0]\tvalidation_0-auc:0.797694\tvalidation_1-auc:0.746882\n",
            "Multiple eval metrics have been passed: 'validation_1-auc' will be used for early stopping.\n",
            "\n",
            "Will train until validation_1-auc hasn't improved in 50 rounds.\n",
            "[1]\tvalidation_0-auc:0.823321\tvalidation_1-auc:0.758546\n",
            "[2]\tvalidation_0-auc:0.840599\tvalidation_1-auc:0.758427\n",
            "[3]\tvalidation_0-auc:0.853953\tvalidation_1-auc:0.77005\n",
            "[4]\tvalidation_0-auc:0.860266\tvalidation_1-auc:0.775993\n",
            "[5]\tvalidation_0-auc:0.866243\tvalidation_1-auc:0.779964\n",
            "[6]\tvalidation_0-auc:0.871836\tvalidation_1-auc:0.782648\n",
            "[7]\tvalidation_0-auc:0.876155\tvalidation_1-auc:0.784795\n",
            "[8]\tvalidation_0-auc:0.882365\tvalidation_1-auc:0.789259\n",
            "[9]\tvalidation_0-auc:0.884412\tvalidation_1-auc:0.790108\n",
            "[10]\tvalidation_0-auc:0.886899\tvalidation_1-auc:0.790004\n",
            "[11]\tvalidation_0-auc:0.889938\tvalidation_1-auc:0.789666\n",
            "[12]\tvalidation_0-auc:0.891067\tvalidation_1-auc:0.789414\n",
            "[13]\tvalidation_0-auc:0.891838\tvalidation_1-auc:0.788584\n",
            "[14]\tvalidation_0-auc:0.893686\tvalidation_1-auc:0.789058\n",
            "[15]\tvalidation_0-auc:0.894683\tvalidation_1-auc:0.786293\n",
            "[16]\tvalidation_0-auc:0.897339\tvalidation_1-auc:0.789103\n",
            "[17]\tvalidation_0-auc:0.898265\tvalidation_1-auc:0.789459\n",
            "[18]\tvalidation_0-auc:0.899901\tvalidation_1-auc:0.793374\n",
            "[19]\tvalidation_0-auc:0.902435\tvalidation_1-auc:0.793389\n",
            "[20]\tvalidation_0-auc:0.903527\tvalidation_1-auc:0.794835\n",
            "[21]\tvalidation_0-auc:0.904827\tvalidation_1-auc:0.797645\n",
            "[22]\tvalidation_0-auc:0.905793\tvalidation_1-auc:0.798631\n",
            "[23]\tvalidation_0-auc:0.906994\tvalidation_1-auc:0.800099\n",
            "[24]\tvalidation_0-auc:0.908403\tvalidation_1-auc:0.801886\n",
            "[25]\tvalidation_0-auc:0.90948\tvalidation_1-auc:0.80262\n",
            "[26]\tvalidation_0-auc:0.910879\tvalidation_1-auc:0.804356\n",
            "[27]\tvalidation_0-auc:0.911492\tvalidation_1-auc:0.804326\n",
            "[28]\tvalidation_0-auc:0.912511\tvalidation_1-auc:0.805023\n",
            "[29]\tvalidation_0-auc:0.914582\tvalidation_1-auc:0.805668\n",
            "[30]\tvalidation_0-auc:0.915878\tvalidation_1-auc:0.805764\n",
            "[31]\tvalidation_0-auc:0.916683\tvalidation_1-auc:0.805594\n",
            "[32]\tvalidation_0-auc:0.917096\tvalidation_1-auc:0.806906\n",
            "[33]\tvalidation_0-auc:0.919103\tvalidation_1-auc:0.805898\n",
            "[34]\tvalidation_0-auc:0.920286\tvalidation_1-auc:0.806862\n",
            "[35]\tvalidation_0-auc:0.921041\tvalidation_1-auc:0.806283\n",
            "[36]\tvalidation_0-auc:0.922391\tvalidation_1-auc:0.807351\n",
            "[37]\tvalidation_0-auc:0.924067\tvalidation_1-auc:0.807195\n",
            "[38]\tvalidation_0-auc:0.924953\tvalidation_1-auc:0.807685\n",
            "[39]\tvalidation_0-auc:0.925996\tvalidation_1-auc:0.808085\n",
            "[40]\tvalidation_0-auc:0.926978\tvalidation_1-auc:0.808849\n",
            "[41]\tvalidation_0-auc:0.927862\tvalidation_1-auc:0.809034\n",
            "[42]\tvalidation_0-auc:0.929182\tvalidation_1-auc:0.80681\n",
            "[43]\tvalidation_0-auc:0.929772\tvalidation_1-auc:0.807114\n",
            "[44]\tvalidation_0-auc:0.929941\tvalidation_1-auc:0.807292\n",
            "[45]\tvalidation_0-auc:0.930873\tvalidation_1-auc:0.807544\n",
            "[46]\tvalidation_0-auc:0.931938\tvalidation_1-auc:0.807781\n",
            "[47]\tvalidation_0-auc:0.932593\tvalidation_1-auc:0.807618\n",
            "[48]\tvalidation_0-auc:0.933334\tvalidation_1-auc:0.807722\n",
            "[49]\tvalidation_0-auc:0.934328\tvalidation_1-auc:0.808515\n",
            "[50]\tvalidation_0-auc:0.935191\tvalidation_1-auc:0.808649\n",
            "[51]\tvalidation_0-auc:0.935515\tvalidation_1-auc:0.809005\n",
            "[52]\tvalidation_0-auc:0.936484\tvalidation_1-auc:0.809383\n",
            "[53]\tvalidation_0-auc:0.937486\tvalidation_1-auc:0.809116\n",
            "[54]\tvalidation_0-auc:0.939185\tvalidation_1-auc:0.809257\n",
            "[55]\tvalidation_0-auc:0.940035\tvalidation_1-auc:0.808812\n",
            "[56]\tvalidation_0-auc:0.940111\tvalidation_1-auc:0.809338\n",
            "[57]\tvalidation_0-auc:0.941313\tvalidation_1-auc:0.809561\n",
            "[58]\tvalidation_0-auc:0.941956\tvalidation_1-auc:0.810154\n",
            "[59]\tvalidation_0-auc:0.942983\tvalidation_1-auc:0.80985\n",
            "[60]\tvalidation_0-auc:0.94347\tvalidation_1-auc:0.809776\n",
            "[61]\tvalidation_0-auc:0.944232\tvalidation_1-auc:0.809806\n",
            "[62]\tvalidation_0-auc:0.944227\tvalidation_1-auc:0.809442\n",
            "[63]\tvalidation_0-auc:0.94485\tvalidation_1-auc:0.809487\n",
            "[64]\tvalidation_0-auc:0.945322\tvalidation_1-auc:0.809591\n",
            "[65]\tvalidation_0-auc:0.946409\tvalidation_1-auc:0.81005\n",
            "[66]\tvalidation_0-auc:0.947085\tvalidation_1-auc:0.809524\n",
            "[67]\tvalidation_0-auc:0.947541\tvalidation_1-auc:0.809946\n",
            "[68]\tvalidation_0-auc:0.948698\tvalidation_1-auc:0.809872\n",
            "[69]\tvalidation_0-auc:0.950256\tvalidation_1-auc:0.809368\n",
            "[70]\tvalidation_0-auc:0.950736\tvalidation_1-auc:0.809976\n",
            "[71]\tvalidation_0-auc:0.951037\tvalidation_1-auc:0.809902\n",
            "[72]\tvalidation_0-auc:0.95177\tvalidation_1-auc:0.809012\n",
            "[73]\tvalidation_0-auc:0.952612\tvalidation_1-auc:0.80916\n",
            "[74]\tvalidation_0-auc:0.953994\tvalidation_1-auc:0.808856\n",
            "[75]\tvalidation_0-auc:0.954769\tvalidation_1-auc:0.809865\n",
            "[76]\tvalidation_0-auc:0.955561\tvalidation_1-auc:0.810035\n",
            "[77]\tvalidation_0-auc:0.956077\tvalidation_1-auc:0.810466\n",
            "[78]\tvalidation_0-auc:0.956916\tvalidation_1-auc:0.810985\n",
            "[79]\tvalidation_0-auc:0.958015\tvalidation_1-auc:0.810703\n",
            "[80]\tvalidation_0-auc:0.958845\tvalidation_1-auc:0.81028\n",
            "[81]\tvalidation_0-auc:0.959504\tvalidation_1-auc:0.811066\n",
            "[82]\tvalidation_0-auc:0.960279\tvalidation_1-auc:0.811133\n",
            "[83]\tvalidation_0-auc:0.960603\tvalidation_1-auc:0.81114\n",
            "[84]\tvalidation_0-auc:0.960566\tvalidation_1-auc:0.811748\n",
            "[85]\tvalidation_0-auc:0.960984\tvalidation_1-auc:0.811682\n",
            "[86]\tvalidation_0-auc:0.961249\tvalidation_1-auc:0.812438\n",
            "[87]\tvalidation_0-auc:0.961473\tvalidation_1-auc:0.812416\n",
            "[88]\tvalidation_0-auc:0.962461\tvalidation_1-auc:0.812831\n",
            "[89]\tvalidation_0-auc:0.962653\tvalidation_1-auc:0.813128\n",
            "[90]\tvalidation_0-auc:0.963029\tvalidation_1-auc:0.813402\n",
            "[91]\tvalidation_0-auc:0.963674\tvalidation_1-auc:0.813165\n",
            "[92]\tvalidation_0-auc:0.96398\tvalidation_1-auc:0.813402\n",
            "[93]\tvalidation_0-auc:0.96485\tvalidation_1-auc:0.812905\n",
            "[94]\tvalidation_0-auc:0.96529\tvalidation_1-auc:0.813105\n",
            "[95]\tvalidation_0-auc:0.965514\tvalidation_1-auc:0.813039\n",
            "[96]\tvalidation_0-auc:0.966015\tvalidation_1-auc:0.813187\n",
            "[97]\tvalidation_0-auc:0.967019\tvalidation_1-auc:0.813113\n",
            "[98]\tvalidation_0-auc:0.967236\tvalidation_1-auc:0.813491\n",
            "[99]\tvalidation_0-auc:0.967863\tvalidation_1-auc:0.812957\n",
            "[100]\tvalidation_0-auc:0.968584\tvalidation_1-auc:0.812564\n",
            "[101]\tvalidation_0-auc:0.96896\tvalidation_1-auc:0.812312\n",
            "[102]\tvalidation_0-auc:0.969623\tvalidation_1-auc:0.811622\n",
            "[103]\tvalidation_0-auc:0.970439\tvalidation_1-auc:0.811763\n",
            "[104]\tvalidation_0-auc:0.970813\tvalidation_1-auc:0.811719\n",
            "[105]\tvalidation_0-auc:0.970974\tvalidation_1-auc:0.811541\n",
            "[106]\tvalidation_0-auc:0.970935\tvalidation_1-auc:0.811867\n",
            "[107]\tvalidation_0-auc:0.971691\tvalidation_1-auc:0.812208\n",
            "[108]\tvalidation_0-auc:0.97211\tvalidation_1-auc:0.812594\n",
            "[109]\tvalidation_0-auc:0.973068\tvalidation_1-auc:0.812616\n",
            "[110]\tvalidation_0-auc:0.973394\tvalidation_1-auc:0.812875\n",
            "[111]\tvalidation_0-auc:0.97386\tvalidation_1-auc:0.812683\n",
            "[112]\tvalidation_0-auc:0.974025\tvalidation_1-auc:0.812838\n",
            "[113]\tvalidation_0-auc:0.974446\tvalidation_1-auc:0.81289\n",
            "[114]\tvalidation_0-auc:0.974869\tvalidation_1-auc:0.812608\n",
            "[115]\tvalidation_0-auc:0.975195\tvalidation_1-auc:0.813076\n",
            "[116]\tvalidation_0-auc:0.975644\tvalidation_1-auc:0.81338\n",
            "[117]\tvalidation_0-auc:0.975952\tvalidation_1-auc:0.812645\n",
            "[118]\tvalidation_0-auc:0.976222\tvalidation_1-auc:0.813179\n",
            "[119]\tvalidation_0-auc:0.976723\tvalidation_1-auc:0.813179\n",
            "[120]\tvalidation_0-auc:0.977109\tvalidation_1-auc:0.812653\n",
            "[121]\tvalidation_0-auc:0.977332\tvalidation_1-auc:0.812883\n",
            "[122]\tvalidation_0-auc:0.977549\tvalidation_1-auc:0.812786\n",
            "[123]\tvalidation_0-auc:0.97792\tvalidation_1-auc:0.812334\n",
            "[124]\tvalidation_0-auc:0.978038\tvalidation_1-auc:0.812386\n",
            "[125]\tvalidation_0-auc:0.978657\tvalidation_1-auc:0.81206\n",
            "[126]\tvalidation_0-auc:0.979088\tvalidation_1-auc:0.812549\n",
            "[127]\tvalidation_0-auc:0.97936\tvalidation_1-auc:0.812215\n",
            "[128]\tvalidation_0-auc:0.979646\tvalidation_1-auc:0.812208\n",
            "[129]\tvalidation_0-auc:0.97972\tvalidation_1-auc:0.812267\n",
            "[130]\tvalidation_0-auc:0.980199\tvalidation_1-auc:0.813113\n",
            "[131]\tvalidation_0-auc:0.980555\tvalidation_1-auc:0.813639\n",
            "[132]\tvalidation_0-auc:0.980968\tvalidation_1-auc:0.81375\n",
            "[133]\tvalidation_0-auc:0.981023\tvalidation_1-auc:0.813876\n",
            "[134]\tvalidation_0-auc:0.981567\tvalidation_1-auc:0.813142\n",
            "[135]\tvalidation_0-auc:0.981759\tvalidation_1-auc:0.812297\n",
            "[136]\tvalidation_0-auc:0.981962\tvalidation_1-auc:0.812608\n",
            "[137]\tvalidation_0-auc:0.982039\tvalidation_1-auc:0.812438\n",
            "[138]\tvalidation_0-auc:0.982725\tvalidation_1-auc:0.813046\n",
            "[139]\tvalidation_0-auc:0.982659\tvalidation_1-auc:0.812846\n",
            "[140]\tvalidation_0-auc:0.982803\tvalidation_1-auc:0.812519\n",
            "[141]\tvalidation_0-auc:0.983409\tvalidation_1-auc:0.812364\n",
            "[142]\tvalidation_0-auc:0.983694\tvalidation_1-auc:0.81186\n",
            "[143]\tvalidation_0-auc:0.984012\tvalidation_1-auc:0.811771\n",
            "[144]\tvalidation_0-auc:0.984587\tvalidation_1-auc:0.811934\n",
            "[145]\tvalidation_0-auc:0.98474\tvalidation_1-auc:0.811563\n",
            "[146]\tvalidation_0-auc:0.985192\tvalidation_1-auc:0.812623\n",
            "[147]\tvalidation_0-auc:0.985371\tvalidation_1-auc:0.812386\n",
            "[148]\tvalidation_0-auc:0.985538\tvalidation_1-auc:0.81229\n",
            "[149]\tvalidation_0-auc:0.985679\tvalidation_1-auc:0.811845\n",
            "[150]\tvalidation_0-auc:0.985994\tvalidation_1-auc:0.811771\n",
            "[151]\tvalidation_0-auc:0.986136\tvalidation_1-auc:0.811696\n",
            "[152]\tvalidation_0-auc:0.986341\tvalidation_1-auc:0.811489\n",
            "[153]\tvalidation_0-auc:0.986672\tvalidation_1-auc:0.811467\n",
            "[154]\tvalidation_0-auc:0.98679\tvalidation_1-auc:0.811615\n",
            "[155]\tvalidation_0-auc:0.986863\tvalidation_1-auc:0.811652\n",
            "[156]\tvalidation_0-auc:0.987134\tvalidation_1-auc:0.811415\n",
            "[157]\tvalidation_0-auc:0.987207\tvalidation_1-auc:0.811237\n",
            "[158]\tvalidation_0-auc:0.987377\tvalidation_1-auc:0.811311\n",
            "[159]\tvalidation_0-auc:0.987656\tvalidation_1-auc:0.81054\n",
            "[160]\tvalidation_0-auc:0.987731\tvalidation_1-auc:0.810703\n",
            "[161]\tvalidation_0-auc:0.98803\tvalidation_1-auc:0.810139\n",
            "[162]\tvalidation_0-auc:0.98806\tvalidation_1-auc:0.810339\n",
            "[163]\tvalidation_0-auc:0.988266\tvalidation_1-auc:0.810406\n",
            "[164]\tvalidation_0-auc:0.988498\tvalidation_1-auc:0.811163\n",
            "[165]\tvalidation_0-auc:0.988621\tvalidation_1-auc:0.810896\n",
            "[166]\tvalidation_0-auc:0.988728\tvalidation_1-auc:0.810792\n",
            "[167]\tvalidation_0-auc:0.988952\tvalidation_1-auc:0.810577\n",
            "[168]\tvalidation_0-auc:0.988956\tvalidation_1-auc:0.81074\n",
            "[169]\tvalidation_0-auc:0.989234\tvalidation_1-auc:0.810503\n",
            "[170]\tvalidation_0-auc:0.989434\tvalidation_1-auc:0.811059\n",
            "[171]\tvalidation_0-auc:0.989609\tvalidation_1-auc:0.810844\n",
            "[172]\tvalidation_0-auc:0.989812\tvalidation_1-auc:0.811363\n",
            "[173]\tvalidation_0-auc:0.989952\tvalidation_1-auc:0.811911\n",
            "[174]\tvalidation_0-auc:0.990005\tvalidation_1-auc:0.812186\n",
            "[175]\tvalidation_0-auc:0.990211\tvalidation_1-auc:0.811874\n",
            "[176]\tvalidation_0-auc:0.990404\tvalidation_1-auc:0.811682\n",
            "[177]\tvalidation_0-auc:0.990756\tvalidation_1-auc:0.811934\n",
            "[178]\tvalidation_0-auc:0.99085\tvalidation_1-auc:0.811385\n",
            "[179]\tvalidation_0-auc:0.991074\tvalidation_1-auc:0.810755\n",
            "[180]\tvalidation_0-auc:0.991362\tvalidation_1-auc:0.810773\n",
            "[181]\tvalidation_0-auc:0.991593\tvalidation_1-auc:0.810866\n",
            "[182]\tvalidation_0-auc:0.991731\tvalidation_1-auc:0.811155\n",
            "[183]\tvalidation_0-auc:0.991878\tvalidation_1-auc:0.811378\n",
            "Stopping. Best iteration:\n",
            "[133]\tvalidation_0-auc:0.981023\tvalidation_1-auc:0.813876\n",
            "\n"
          ]
        },
        {
          "output_type": "execute_result",
          "data": {
            "text/plain": [
              "XGBClassifier(colsample_bytree=0.6, eval_metric='auc', max_depth=6,\n",
              "              min_child_weight=8, n_estimators=200, n_jobs=-1, subsample=0.8,\n",
              "              use_label_encoder=False)"
            ]
          },
          "metadata": {},
          "execution_count": 416
        }
      ],
      "source": [
        "from category_encoders import OrdinalEncoder\n",
        "from sklearn.metrics import classification_report, roc_auc_score\n",
        "from xgboost import XGBClassifier\n",
        "\n",
        "encoder = OrdinalEncoder()\n",
        "X_train_encoded = encoder.fit_transform(X_train)  # 학습데이터\n",
        "X_val_encoded = encoder.transform(X_val)  # 검증데이터\n",
        "\n",
        "boosting = XGBClassifier(\n",
        "    n_estimators=200,\n",
        "    n_jobs=-1,\n",
        "    eval_metric=\"auc\",\n",
        "    objective=\"binary:logistic\",  # default\n",
        "    learning_rate=0.1,\n",
        "    max_depth=6,\n",
        "    min_child_weight=8,\n",
        "    use_label_encoder=False,\n",
        "    subsample=0.8,\n",
        "    scale_pos_weight = 1,\n",
        "    colsample_bytree=0.6,\n",
        "\n",
        ")\n",
        "\n",
        "eval_set = [(X_train_encoded, y_train), (X_val_encoded, y_val)]\n",
        "\n",
        "boosting.fit(X_train_encoded, y_train, eval_set=eval_set, early_stopping_rounds=50)"
      ]
    },
    {
      "cell_type": "code",
      "execution_count": null,
      "metadata": {
        "colab": {
          "base_uri": "https://localhost:8080/"
        },
        "id": "7pzKPT5evyQQ",
        "outputId": "e1d79b49-28b6-48c7-9e0f-ad5357340051"
      },
      "outputs": [
        {
          "output_type": "execute_result",
          "data": {
            "text/plain": [
              "Index(['Name of C/A', 'Industry Code Name', 'Monday S/R', 'Tuesday S/R',\n",
              "       'Wednesday S/R', 'Thursday S/R', 'Friday S/R', 'Saturday S/R',\n",
              "       'Sunday S/R', '00-06AM S/R', '06-11AM S/R', '11-02PM S/R',\n",
              "       '02-05PM S/R', '05-09PM S/R', '09-00AM S/R', 'Male S/R', 'Female S/R',\n",
              "       'S/R of 10s', 'S/R of 20s', 'S/R of 30s', 'S/R of 40s', 'S/R of 50s',\n",
              "       'S/R of over 60s', 'Number of Stores', 'Total Business pop',\n",
              "       'Monthly Income', 'Total Expenditure', 'Total Living pop',\n",
              "       'Total Settled pop'],\n",
              "      dtype='object')"
            ]
          },
          "metadata": {},
          "execution_count": 417
        }
      ],
      "source": [
        "X_train.columns"
      ]
    },
    {
      "cell_type": "code",
      "execution_count": null,
      "metadata": {
        "id": "WlpT-tk9tEGl"
      },
      "outputs": [],
      "source": [
        "from pdpbox.pdp import pdp_interact, pdp_interact_plot"
      ]
    },
    {
      "cell_type": "code",
      "execution_count": null,
      "metadata": {
        "colab": {
          "base_uri": "https://localhost:8080/"
        },
        "id": "w502owZbxOZm",
        "outputId": "aec0aad5-2e07-4037-ca9f-cb2e60e52b7e"
      },
      "outputs": [
        {
          "output_type": "stream",
          "name": "stdout",
          "text": [
            "[{'col': 'Name of C/A', 'mapping': 광나루역 1번         1\n",
            "개화산역 1번         2\n",
            "자양한강도서관         3\n",
            "삼선동주민센터         4\n",
            "서울대입구역 8번       5\n",
            "             ... \n",
            "목동문화체육센터     1000\n",
            "백석중학교        1001\n",
            "신정네거리역 2번    1002\n",
            "대방역 4번       1003\n",
            "NaN            -2\n",
            "Length: 1004, dtype: int64, 'data_type': dtype('O')}, {'col': 'Industry Code Name', 'mapping': 치킨전문점      1\n",
            "중식음식점      2\n",
            "호프-간이주점    3\n",
            "커피-음료      4\n",
            "한식음식점      5\n",
            "분식전문점      6\n",
            "패스트푸드점     7\n",
            "일식음식점      8\n",
            "양식음식점      9\n",
            "NaN       -2\n",
            "dtype: int64, 'data_type': dtype('O')}]\n"
          ]
        }
      ],
      "source": [
        "mappings = encoder.mapping\n",
        "print(mappings)\n",
        "#맵핑 확인"
      ]
    },
    {
      "cell_type": "code",
      "execution_count": null,
      "metadata": {
        "colab": {
          "base_uri": "https://localhost:8080/",
          "height": 636
        },
        "id": "_qaB2NDz6YJK",
        "outputId": "8e1c3e52-fd68-47f8-9c8d-76802d914b3d"
      },
      "outputs": [
        {
          "output_type": "execute_result",
          "data": {
            "text/plain": [
              "(<Figure size 540x684 with 3 Axes>,\n",
              " {'title_ax': <matplotlib.axes._subplots.AxesSubplot at 0x7f9819a75250>,\n",
              "  'pdp_inter_ax': <matplotlib.axes._subplots.AxesSubplot at 0x7f9819446ed0>})"
            ]
          },
          "metadata": {},
          "execution_count": 420
        },
        {
          "output_type": "display_data",
          "data": {
            "text/plain": [
              "<Figure size 540x684 with 3 Axes>"
            ],
            "image/png": "[encoded data removed]"
          },
          "metadata": {
            "needs_background": "light"
          }
        }
      ],
      "source": [
        "target_features = ['Industry Code Name', 'Number of Stores']\n",
        "\n",
        "interaction = pdp_interact(\n",
        "    model=boosting,\n",
        "    dataset=X_val_encoded,\n",
        "    model_features=X_val.columns,\n",
        "    features=target_features,\n",
        ")\n",
        "pdp_interact_plot(interaction, plot_type=\"grid\", feature_names=target_features)\n",
        "\n",
        "#특성중요도에서 높았던 industry code name과 name of stores의 PDP interact 확인"
      ]
    },
    {
      "cell_type": "code",
      "execution_count": null,
      "metadata": {
        "colab": {
          "base_uri": "https://localhost:8080/",
          "height": 636
        },
        "id": "2E-HvkO462wQ",
        "outputId": "77773512-5094-4610-a156-6e2d7926ef88"
      },
      "outputs": [
        {
          "output_type": "execute_result",
          "data": {
            "text/plain": [
              "(<Figure size 540x684 with 3 Axes>,\n",
              " {'title_ax': <matplotlib.axes._subplots.AxesSubplot at 0x7f98080bbd10>,\n",
              "  'pdp_inter_ax': <matplotlib.axes._subplots.AxesSubplot at 0x7f981944e510>})"
            ]
          },
          "metadata": {},
          "execution_count": 421
        },
        {
          "output_type": "display_data",
          "data": {
            "text/plain": [
              "<Figure size 540x684 with 3 Axes>"
            ],
            "image/png": "[encoded data removed]"
          },
          "metadata": {
            "needs_background": "light"
          }
        }
      ],
      "source": [
        "target_features = ['Industry Code Name', '05-09PM S/R']\n",
        "\n",
        "interaction = pdp_interact(\n",
        "    model=boosting,\n",
        "    dataset=X_val_encoded,\n",
        "    model_features=X_val.columns,\n",
        "    features=target_features,\n",
        ")\n",
        "pdp_interact_plot(interaction, plot_type=\"grid\", feature_names=target_features)\n",
        "\n",
        "#Industry code name과 05-09pm PDP interact 확인"
      ]
    },
    {
      "cell_type": "code",
      "execution_count": null,
      "metadata": {
        "colab": {
          "base_uri": "https://localhost:8080/",
          "height": 636
        },
        "id": "wMlquo8oExGU",
        "outputId": "7a30f5a3-2085-4d9e-8e38-221bf198fe7f"
      },
      "outputs": [
        {
          "output_type": "execute_result",
          "data": {
            "text/plain": [
              "(<Figure size 540x684 with 3 Axes>,\n",
              " {'title_ax': <matplotlib.axes._subplots.AxesSubplot at 0x7f981ecea390>,\n",
              "  'pdp_inter_ax': <matplotlib.axes._subplots.AxesSubplot at 0x7f981dd0c850>})"
            ]
          },
          "metadata": {},
          "execution_count": 422
        },
        {
          "output_type": "display_data",
          "data": {
            "text/plain": [
              "<Figure size 540x684 with 3 Axes>"
            ],
            "image/png": "[encoded data removed]"
          },
          "metadata": {
            "needs_background": "light"
          }
        }
      ],
      "source": [
        "target_features = ['Industry Code Name', '05-09PM S/R']\n",
        "\n",
        "interaction = pdp_interact(\n",
        "    model=boosting,\n",
        "    dataset=X_val_encoded,\n",
        "    model_features=X_val.columns,\n",
        "    features=target_features,\n",
        ")\n",
        "pdp_interact_plot(interaction, plot_type=\"grid\", feature_names=target_features)"
      ]
    },
    {
      "cell_type": "code",
      "execution_count": null,
      "metadata": {
        "id": "123VYVmkFJnD"
      },
      "outputs": [],
      "source": [
        "import matplotlib.pyplot as plt\n",
        "\n",
        "plt.rcParams[\"figure.dpi\"] = 144"
      ]
    },
    {
      "cell_type": "code",
      "execution_count": null,
      "metadata": {
        "colab": {
          "base_uri": "https://localhost:8080/"
        },
        "id": "o5ehD73KKwz-",
        "outputId": "fb5919a2-b62a-44d9-8136-7baaf7a599c2"
      },
      "outputs": [
        {
          "output_type": "execute_result",
          "data": {
            "text/plain": [
              "count    3.168000e+03\n",
              "mean     2.721062e+06\n",
              "std      5.917281e+05\n",
              "min      6.491330e+05\n",
              "25%      2.358335e+06\n",
              "50%      2.540629e+06\n",
              "75%      2.882060e+06\n",
              "max      6.369714e+06\n",
              "Name: Monthly Income, dtype: float64"
            ]
          },
          "metadata": {},
          "execution_count": 424
        }
      ],
      "source": [
        "train['Monthly Income'].describe()"
      ]
    },
    {
      "cell_type": "code",
      "execution_count": null,
      "metadata": {
        "colab": {
          "base_uri": "https://localhost:8080/"
        },
        "id": "BnsqiEM-MQ4a",
        "outputId": "adcf2297-5d92-4c0d-888b-cecb97a4e611"
      },
      "outputs": [
        {
          "output_type": "execute_result",
          "data": {
            "text/plain": [
              "count    3.160000e+03\n",
              "mean     1.793955e+09\n",
              "std      1.478083e+09\n",
              "min      1.543871e+06\n",
              "25%      7.015218e+08\n",
              "50%      1.410195e+09\n",
              "75%      2.402968e+09\n",
              "max      1.186086e+10\n",
              "Name: Total Expenditure, dtype: float64"
            ]
          },
          "metadata": {},
          "execution_count": 426
        }
      ],
      "source": [
        "X_train['Total Expenditure'].describe()"
      ]
    },
    {
      "cell_type": "code",
      "execution_count": null,
      "metadata": {
        "id": "CRtGfeABMB4x"
      },
      "outputs": [],
      "source": [
        "def get_ice_plot_data(data, data_index, target_feature, target_feature_range):\n",
        "    one_datapoint = data.iloc[[data_index]].copy()\n",
        "    results = []\n",
        "\n",
        "    for target_value in target_feature_range:\n",
        "        one_datapoint[target_feature] = target_value\n",
        "        one_datapoint_pred_proba = boosting.predict_proba(one_datapoint)[:, 1]\n",
        "        results.append(one_datapoint_pred_proba.item())\n",
        "    results = np.array(results)\n",
        "    return target_feature_range, results - results[0]"
      ]
    },
    {
      "cell_type": "code",
      "execution_count": null,
      "metadata": {
        "colab": {
          "base_uri": "https://localhost:8080/"
        },
        "id": "hw7WbYSaLwnL",
        "outputId": "a073470b-9db8-4e2d-d531-69d1490ec699"
      },
      "outputs": [
        {
          "output_type": "stream",
          "name": "stderr",
          "text": [
            "100%|██████████| 793/793 [00:04<00:00, 159.17it/s]\n"
          ]
        }
      ],
      "source": [
        "from tqdm import tqdm\n",
        "\n",
        "target_feature =   'Monthly Income'\n",
        "target_feature_range = [0, 500000, 1000000, 1500000, 2000000]\n",
        "\n",
        "all_ice_plot_data = []\n",
        "\n",
        "for data_index in tqdm(range(len(X_val_encoded))):\n",
        "    all_ice_plot_data.append(\n",
        "        get_ice_plot_data(\n",
        "            X_val_encoded, data_index, target_feature, target_feature_range\n",
        "        )[1]\n",
        "    )"
      ]
    },
    {
      "cell_type": "code",
      "source": [
        "from pdpbox.pdp import pdp_isolate, pdp_plot\n",
        "\n",
        "target_feature = \"Industry Code Name\"\n",
        "\n",
        "isolated = pdp_isolate(\n",
        "    model=boosting,\n",
        "    dataset=X_val_encoded,\n",
        "    model_features=X_val.columns,\n",
        "    feature=target_feature,\n",
        "    grid_type=\"percentile\",  # default = 'percentile', or 'equal'\n",
        "    num_grid_points=10,  # default = 10\n",
        ")\n",
        "pdp_plot(isolated, feature_name=target_feature)\n",
        "\n",
        "#industry code name의 특성 분석"
      ],
      "metadata": {
        "colab": {
          "base_uri": "https://localhost:8080/",
          "height": 1000
        },
        "id": "XXDX4vX4bEpD",
        "outputId": "11eb5922-fde7-4406-eb4a-9ab44d1750bf"
      },
      "execution_count": null,
      "outputs": [
        {
          "output_type": "execute_result",
          "data": {
            "text/plain": [
              "(<Figure size 2160x1368 with 2 Axes>,\n",
              " {'title_ax': <matplotlib.axes._subplots.AxesSubplot at 0x7f98087ffbd0>,\n",
              "  'pdp_ax': <matplotlib.axes._subplots.AxesSubplot at 0x7f9817206990>})"
            ]
          },
          "metadata": {},
          "execution_count": 432
        },
        {
          "output_type": "stream",
          "name": "stderr",
          "text": [
            "WARNING:matplotlib.font_manager:findfont: Font family ['Arial'] not found. Falling back to DejaVu Sans.\n"
          ]
        },
        {
          "output_type": "display_data",
          "data": {
            "text/plain": [
              "<Figure size 2160x1368 with 2 Axes>"
            ],
            "image/png": "[encoded data removed]"
          },
          "metadata": {
            "needs_background": "light"
          }
        }
      ]
    },
    {
      "cell_type": "code",
      "source": [
        "condition1 =df_new1['Total Business pop'] >900\n",
        "condition2= df_new1['Monthly Income'] > 5000000\n",
        "sorted = df_new1[condition1 & condition2]\n",
        "sorted2 = sorted[['Name of C/A', 'Industry Code Name', 'Number of Stores','Monthly Income', 'Total Business pop', 'Above Average']]\n",
        "sorted2.sort_values(by = 'Monthly Income', ascending = False)\n",
        "\n",
        "#경쟁 점포가 없고, 월 소득 500만원 이상, 직장 인구수 900명 이상의 상권 리스트를 추천 리스트로 정리"
      ],
      "metadata": {
        "colab": {
          "base_uri": "https://localhost:8080/",
          "height": 959
        },
        "id": "CjOR91yNbOng",
        "outputId": "b17a73cc-dbee-4588-e3a0-0bfdfda2cefd"
      },
      "execution_count": null,
      "outputs": [
        {
          "output_type": "execute_result",
          "data": {
            "text/plain": [
              "                   Name of C/A Industry Code Name  Number of Stores  \\\n",
              "3841                    청담초등학교              양식음식점               2.0   \n",
              "3688                     잠실나루역              분식전문점               4.0   \n",
              "3689                     잠실나루역              한식음식점               4.0   \n",
              "7917                    유엔빌리지길              양식음식점               5.0   \n",
              "4036                     서초소방서              커피-음료               2.0   \n",
              "7079                       길상사              한식음식점               7.0   \n",
              "7078                       길상사              양식음식점               1.0   \n",
              "7077                       길상사              커피-음료               1.0   \n",
              "3797                  삼성중앙역 5번              양식음식점               5.0   \n",
              "4040                    서래초등학교              커피-음료               4.0   \n",
              "4041                    서래초등학교              양식음식점               6.0   \n",
              "7952                     리움미술관              분식전문점               4.0   \n",
              "7953                     리움미술관              양식음식점               6.0   \n",
              "7955                     리움미술관              한식음식점               6.0   \n",
              "7951                     리움미술관              커피-음료               6.0   \n",
              "8297                     성곡미술관              중식음식점               2.0   \n",
              "8296                     성곡미술관              일식음식점              11.0   \n",
              "8295                     성곡미술관              양식음식점              10.0   \n",
              "8294                     성곡미술관              분식전문점              12.0   \n",
              "8293                     성곡미술관              커피-음료              28.0   \n",
              "8298                     성곡미술관              한식음식점              27.0   \n",
              "3976  방아다리근린공원(횃불트리니티신학대학원대학교)              중식음식점               1.0   \n",
              "3975  방아다리근린공원(횃불트리니티신학대학원대학교)              커피-음료               3.0   \n",
              "3977  방아다리근린공원(횃불트리니티신학대학원대학교)              한식음식점               3.0   \n",
              "3772                  대치2동주민센터              커피-음료               6.0   \n",
              "3773                  대치2동주민센터            호프-간이주점               1.0   \n",
              "3774                  대치2동주민센터              분식전문점               4.0   \n",
              "3775                  대치2동주민센터              일식음식점               1.0   \n",
              "3776                  대치2동주민센터              한식음식점              11.0   \n",
              "\n",
              "      Monthly Income  Total Business pop Above Average  \n",
              "3841       6473963.0              2996.0             1  \n",
              "3688       6025078.0              9608.0             0  \n",
              "3689       6025078.0              9608.0             1  \n",
              "7917       5729183.0             12646.0             1  \n",
              "4036       5702163.0              1505.0             0  \n",
              "7079       5608226.0             13811.0             1  \n",
              "7078       5608226.0             13811.0             1  \n",
              "7077       5608226.0             13811.0             1  \n",
              "3797       5591064.0              1246.0             0  \n",
              "4040       5553821.0              2807.0             1  \n",
              "4041       5553821.0              2807.0             1  \n",
              "7952       5476727.0              1106.0             0  \n",
              "7953       5476727.0              1106.0             0  \n",
              "7955       5476727.0              1106.0             1  \n",
              "7951       5476727.0              1106.0             1  \n",
              "8297       5415706.0              1061.0             0  \n",
              "8296       5415706.0              1061.0             1  \n",
              "8295       5415706.0              1061.0             1  \n",
              "8294       5415706.0              1061.0             0  \n",
              "8293       5415706.0              1061.0             0  \n",
              "8298       5415706.0              1061.0             1  \n",
              "3976       5162582.0              2465.0             1  \n",
              "3975       5162582.0              2465.0             1  \n",
              "3977       5162582.0              2465.0             1  \n",
              "3772       5017644.0              1959.0             1  \n",
              "3773       5017644.0              1959.0             1  \n",
              "3774       5017644.0              1959.0             0  \n",
              "3775       5017644.0              1959.0             0  \n",
              "3776       5017644.0              1959.0             1  "
            ],
            "text/html": [
              "\n",
              "  <div id=\"df-63f97b35-ce8e-4078-99a4-69822fd0190b\">\n",
              "    <div class=\"colab-df-container\">\n",
              "      <div>\n",
              "<style scoped>\n",
              "    .dataframe tbody tr th:only-of-type {\n",
              "        vertical-align: middle;\n",
              "    }\n",
              "\n",
              "    .dataframe tbody tr th {\n",
              "        vertical-align: top;\n",
              "    }\n",
              "\n",
              "    .dataframe thead th {\n",
              "        text-align: right;\n",
              "    }\n",
              "</style>\n",
              "<table border=\"1\" class=\"dataframe\">\n",
              "  <thead>\n",
              "    <tr style=\"text-align: right;\">\n",
              "      <th></th>\n",
              "      <th>Name of C/A</th>\n",
              "      <th>Industry Code Name</th>\n",
              "      <th>Number of Stores</th>\n",
              "      <th>Monthly Income</th>\n",
              "      <th>Total Business pop</th>\n",
              "      <th>Above Average</th>\n",
              "    </tr>\n",
              "  </thead>\n",
              "  <tbody>\n",
              "    <tr>\n",
              "      <th>3841</th>\n",
              "      <td>청담초등학교</td>\n",
              "      <td>양식음식점</td>\n",
              "      <td>2.0</td>\n",
              "      <td>6473963.0</td>\n",
              "      <td>2996.0</td>\n",
              "      <td>1</td>\n",
              "    </tr>\n",
              "    <tr>\n",
              "      <th>3688</th>\n",
              "      <td>잠실나루역</td>\n",
              "      <td>분식전문점</td>\n",
              "      <td>4.0</td>\n",
              "      <td>6025078.0</td>\n",
              "      <td>9608.0</td>\n",
              "      <td>0</td>\n",
              "    </tr>\n",
              "    <tr>\n",
              "      <th>3689</th>\n",
              "      <td>잠실나루역</td>\n",
              "      <td>한식음식점</td>\n",
              "      <td>4.0</td>\n",
              "      <td>6025078.0</td>\n",
              "      <td>9608.0</td>\n",
              "      <td>1</td>\n",
              "    </tr>\n",
              "    <tr>\n",
              "      <th>7917</th>\n",
              "      <td>유엔빌리지길</td>\n",
              "      <td>양식음식점</td>\n",
              "      <td>5.0</td>\n",
              "      <td>5729183.0</td>\n",
              "      <td>12646.0</td>\n",
              "      <td>1</td>\n",
              "    </tr>\n",
              "    <tr>\n",
              "      <th>4036</th>\n",
              "      <td>서초소방서</td>\n",
              "      <td>커피-음료</td>\n",
              "      <td>2.0</td>\n",
              "      <td>5702163.0</td>\n",
              "      <td>1505.0</td>\n",
              "      <td>0</td>\n",
              "    </tr>\n",
              "    <tr>\n",
              "      <th>7079</th>\n",
              "      <td>길상사</td>\n",
              "      <td>한식음식점</td>\n",
              "      <td>7.0</td>\n",
              "      <td>5608226.0</td>\n",
              "      <td>13811.0</td>\n",
              "      <td>1</td>\n",
              "    </tr>\n",
              "    <tr>\n",
              "      <th>7078</th>\n",
              "      <td>길상사</td>\n",
              "      <td>양식음식점</td>\n",
              "      <td>1.0</td>\n",
              "      <td>5608226.0</td>\n",
              "      <td>13811.0</td>\n",
              "      <td>1</td>\n",
              "    </tr>\n",
              "    <tr>\n",
              "      <th>7077</th>\n",
              "      <td>길상사</td>\n",
              "      <td>커피-음료</td>\n",
              "      <td>1.0</td>\n",
              "      <td>5608226.0</td>\n",
              "      <td>13811.0</td>\n",
              "      <td>1</td>\n",
              "    </tr>\n",
              "    <tr>\n",
              "      <th>3797</th>\n",
              "      <td>삼성중앙역 5번</td>\n",
              "      <td>양식음식점</td>\n",
              "      <td>5.0</td>\n",
              "      <td>5591064.0</td>\n",
              "      <td>1246.0</td>\n",
              "      <td>0</td>\n",
              "    </tr>\n",
              "    <tr>\n",
              "      <th>4040</th>\n",
              "      <td>서래초등학교</td>\n",
              "      <td>커피-음료</td>\n",
              "      <td>4.0</td>\n",
              "      <td>5553821.0</td>\n",
              "      <td>2807.0</td>\n",
              "      <td>1</td>\n",
              "    </tr>\n",
              "    <tr>\n",
              "      <th>4041</th>\n",
              "      <td>서래초등학교</td>\n",
              "      <td>양식음식점</td>\n",
              "      <td>6.0</td>\n",
              "      <td>5553821.0</td>\n",
              "      <td>2807.0</td>\n",
              "      <td>1</td>\n",
              "    </tr>\n",
              "    <tr>\n",
              "      <th>7952</th>\n",
              "      <td>리움미술관</td>\n",
              "      <td>분식전문점</td>\n",
              "      <td>4.0</td>\n",
              "      <td>5476727.0</td>\n",
              "      <td>1106.0</td>\n",
              "      <td>0</td>\n",
              "    </tr>\n",
              "    <tr>\n",
              "      <th>7953</th>\n",
              "      <td>리움미술관</td>\n",
              "      <td>양식음식점</td>\n",
              "      <td>6.0</td>\n",
              "      <td>5476727.0</td>\n",
              "      <td>1106.0</td>\n",
              "      <td>0</td>\n",
              "    </tr>\n",
              "    <tr>\n",
              "      <th>7955</th>\n",
              "      <td>리움미술관</td>\n",
              "      <td>한식음식점</td>\n",
              "      <td>6.0</td>\n",
              "      <td>5476727.0</td>\n",
              "      <td>1106.0</td>\n",
              "      <td>1</td>\n",
              "    </tr>\n",
              "    <tr>\n",
              "      <th>7951</th>\n",
              "      <td>리움미술관</td>\n",
              "      <td>커피-음료</td>\n",
              "      <td>6.0</td>\n",
              "      <td>5476727.0</td>\n",
              "      <td>1106.0</td>\n",
              "      <td>1</td>\n",
              "    </tr>\n",
              "    <tr>\n",
              "      <th>8297</th>\n",
              "      <td>성곡미술관</td>\n",
              "      <td>중식음식점</td>\n",
              "      <td>2.0</td>\n",
              "      <td>5415706.0</td>\n",
              "      <td>1061.0</td>\n",
              "      <td>0</td>\n",
              "    </tr>\n",
              "    <tr>\n",
              "      <th>8296</th>\n",
              "      <td>성곡미술관</td>\n",
              "      <td>일식음식점</td>\n",
              "      <td>11.0</td>\n",
              "      <td>5415706.0</td>\n",
              "      <td>1061.0</td>\n",
              "      <td>1</td>\n",
              "    </tr>\n",
              "    <tr>\n",
              "      <th>8295</th>\n",
              "      <td>성곡미술관</td>\n",
              "      <td>양식음식점</td>\n",
              "      <td>10.0</td>\n",
              "      <td>5415706.0</td>\n",
              "      <td>1061.0</td>\n",
              "      <td>1</td>\n",
              "    </tr>\n",
              "    <tr>\n",
              "      <th>8294</th>\n",
              "      <td>성곡미술관</td>\n",
              "      <td>분식전문점</td>\n",
              "      <td>12.0</td>\n",
              "      <td>5415706.0</td>\n",
              "      <td>1061.0</td>\n",
              "      <td>0</td>\n",
              "    </tr>\n",
              "    <tr>\n",
              "      <th>8293</th>\n",
              "      <td>성곡미술관</td>\n",
              "      <td>커피-음료</td>\n",
              "      <td>28.0</td>\n",
              "      <td>5415706.0</td>\n",
              "      <td>1061.0</td>\n",
              "      <td>0</td>\n",
              "    </tr>\n",
              "    <tr>\n",
              "      <th>8298</th>\n",
              "      <td>성곡미술관</td>\n",
              "      <td>한식음식점</td>\n",
              "      <td>27.0</td>\n",
              "      <td>5415706.0</td>\n",
              "      <td>1061.0</td>\n",
              "      <td>1</td>\n",
              "    </tr>\n",
              "    <tr>\n",
              "      <th>3976</th>\n",
              "      <td>방아다리근린공원(횃불트리니티신학대학원대학교)</td>\n",
              "      <td>중식음식점</td>\n",
              "      <td>1.0</td>\n",
              "      <td>5162582.0</td>\n",
              "      <td>2465.0</td>\n",
              "      <td>1</td>\n",
              "    </tr>\n",
              "    <tr>\n",
              "      <th>3975</th>\n",
              "      <td>방아다리근린공원(횃불트리니티신학대학원대학교)</td>\n",
              "      <td>커피-음료</td>\n",
              "      <td>3.0</td>\n",
              "      <td>5162582.0</td>\n",
              "      <td>2465.0</td>\n",
              "      <td>1</td>\n",
              "    </tr>\n",
              "    <tr>\n",
              "      <th>3977</th>\n",
              "      <td>방아다리근린공원(횃불트리니티신학대학원대학교)</td>\n",
              "      <td>한식음식점</td>\n",
              "      <td>3.0</td>\n",
              "      <td>5162582.0</td>\n",
              "      <td>2465.0</td>\n",
              "      <td>1</td>\n",
              "    </tr>\n",
              "    <tr>\n",
              "      <th>3772</th>\n",
              "      <td>대치2동주민센터</td>\n",
              "      <td>커피-음료</td>\n",
              "      <td>6.0</td>\n",
              "      <td>5017644.0</td>\n",
              "      <td>1959.0</td>\n",
              "      <td>1</td>\n",
              "    </tr>\n",
              "    <tr>\n",
              "      <th>3773</th>\n",
              "      <td>대치2동주민센터</td>\n",
              "      <td>호프-간이주점</td>\n",
              "      <td>1.0</td>\n",
              "      <td>5017644.0</td>\n",
              "      <td>1959.0</td>\n",
              "      <td>1</td>\n",
              "    </tr>\n",
              "    <tr>\n",
              "      <th>3774</th>\n",
              "      <td>대치2동주민센터</td>\n",
              "      <td>분식전문점</td>\n",
              "      <td>4.0</td>\n",
              "      <td>5017644.0</td>\n",
              "      <td>1959.0</td>\n",
              "      <td>0</td>\n",
              "    </tr>\n",
              "    <tr>\n",
              "      <th>3775</th>\n",
              "      <td>대치2동주민센터</td>\n",
              "      <td>일식음식점</td>\n",
              "      <td>1.0</td>\n",
              "      <td>5017644.0</td>\n",
              "      <td>1959.0</td>\n",
              "      <td>0</td>\n",
              "    </tr>\n",
              "    <tr>\n",
              "      <th>3776</th>\n",
              "      <td>대치2동주민센터</td>\n",
              "      <td>한식음식점</td>\n",
              "      <td>11.0</td>\n",
              "      <td>5017644.0</td>\n",
              "      <td>1959.0</td>\n",
              "      <td>1</td>\n",
              "    </tr>\n",
              "  </tbody>\n",
              "</table>\n",
              "</div>\n",
              "      <button class=\"colab-df-convert\" onclick=\"convertToInteractive('df-63f97b35-ce8e-4078-99a4-69822fd0190b')\"\n",
              "              title=\"Convert this dataframe to an interactive table.\"\n",
              "              style=\"display:none;\">\n",
              "        \n",
              "  <svg xmlns=\"http://www.w3.org/2000/svg\" height=\"24px\"viewBox=\"0 0 24 24\"\n",
              "       width=\"24px\">\n",
              "    <path d=\"M0 0h24v24H0V0z\" fill=\"none\"/>\n",
              "    <path d=\"M18.56 5.44l.94 2.06.94-2.06 2.06-.94-2.06-.94-.94-2.06-.94 2.06-2.06.94zm-11 1L8.5 8.5l.94-2.06 2.06-.94-2.06-.94L8.5 2.5l-.94 2.06-2.06.94zm10 10l.94 2.06.94-2.06 2.06-.94-2.06-.94-.94-2.06-.94 2.06-2.06.94z\"/><path d=\"M17.41 7.96l-1.37-1.37c-.4-.4-.92-.59-1.43-.59-.52 0-1.04.2-1.43.59L10.3 9.45l-7.72 7.72c-.78.78-.78 2.05 0 2.83L4 21.41c.39.39.9.59 1.41.59.51 0 1.02-.2 1.41-.59l7.78-7.78 2.81-2.81c.8-.78.8-2.07 0-2.86zM5.41 20L4 18.59l7.72-7.72 1.47 1.35L5.41 20z\"/>\n",
              "  </svg>\n",
              "      </button>\n",
              "      \n",
              "  <style>\n",
              "    .colab-df-container {\n",
              "      display:flex;\n",
              "      flex-wrap:wrap;\n",
              "      gap: 12px;\n",
              "    }\n",
              "\n",
              "    .colab-df-convert {\n",
              "      background-color: #E8F0FE;\n",
              "      border: none;\n",
              "      border-radius: 50%;\n",
              "      cursor: pointer;\n",
              "      display: none;\n",
              "      fill: #1967D2;\n",
              "      height: 32px;\n",
              "      padding: 0 0 0 0;\n",
              "      width: 32px;\n",
              "    }\n",
              "\n",
              "    .colab-df-convert:hover {\n",
              "      background-color: #E2EBFA;\n",
              "      box-shadow: 0px 1px 2px rgba(60, 64, 67, 0.3), 0px 1px 3px 1px rgba(60, 64, 67, 0.15);\n",
              "      fill: #174EA6;\n",
              "    }\n",
              "\n",
              "    [theme=dark] .colab-df-convert {\n",
              "      background-color: #3B4455;\n",
              "      fill: #D2E3FC;\n",
              "    }\n",
              "\n",
              "    [theme=dark] .colab-df-convert:hover {\n",
              "      background-color: #434B5C;\n",
              "      box-shadow: 0px 1px 3px 1px rgba(0, 0, 0, 0.15);\n",
              "      filter: drop-shadow(0px 1px 2px rgba(0, 0, 0, 0.3));\n",
              "      fill: #FFFFFF;\n",
              "    }\n",
              "  </style>\n",
              "\n",
              "      <script>\n",
              "        const buttonEl =\n",
              "          document.querySelector('#df-63f97b35-ce8e-4078-99a4-69822fd0190b button.colab-df-convert');\n",
              "        buttonEl.style.display =\n",
              "          google.colab.kernel.accessAllowed ? 'block' : 'none';\n",
              "\n",
              "        async function convertToInteractive(key) {\n",
              "          const element = document.querySelector('#df-63f97b35-ce8e-4078-99a4-69822fd0190b');\n",
              "          const dataTable =\n",
              "            await google.colab.kernel.invokeFunction('convertToInteractive',\n",
              "                                                     [key], {});\n",
              "          if (!dataTable) return;\n",
              "\n",
              "          const docLinkHtml = 'Like what you see? Visit the ' +\n",
              "            '<a target=\"_blank\" href=https://colab.research.google.com/notebooks/data_table.ipynb>data table notebook</a>'\n",
              "            + ' to learn more about interactive tables.';\n",
              "          element.innerHTML = '';\n",
              "          dataTable['output_type'] = 'display_data';\n",
              "          await google.colab.output.renderOutput(dataTable, element);\n",
              "          const docLink = document.createElement('div');\n",
              "          docLink.innerHTML = docLinkHtml;\n",
              "          element.appendChild(docLink);\n",
              "        }\n",
              "      </script>\n",
              "    </div>\n",
              "  </div>\n",
              "  "
            ]
          },
          "metadata": {},
          "execution_count": 445
        }
      ]
    }
  ],
  "metadata": {
    "colab": {
      "provenance": []
    },
    "kernelspec": {
      "display_name": "Python 3",
      "name": "python3"
    },
    "language_info": {
      "name": "python"
    }
  },
  "nbformat": 4,
  "nbformat_minor": 0
}